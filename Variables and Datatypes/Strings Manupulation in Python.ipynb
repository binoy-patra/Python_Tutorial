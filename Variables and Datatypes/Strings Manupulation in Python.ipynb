{
 "cells": [
  {
   "cell_type": "markdown",
   "id": "707d8362",
   "metadata": {},
   "source": [
    "# String"
   ]
  },
  {
   "cell_type": "markdown",
   "id": "575fb3d8",
   "metadata": {},
   "source": [
    "### String :\n",
    "* In programming, a string is one of the fundamental data type used to represent a sequence of unicode characters. \n",
    "* It is used to store and manipulate text or a combination of letters, numbers, symbols, and spaces. \n",
    "* In Python, strings are created by enclosing the characters within single quotes (''), double quotes (\"\") or triple quotes (\"\"\").\n",
    "* It is one of the primitive data structures and are the building blocks for data manipulation.\n",
    "* Python has a built-in string class named str."
   ]
  },
  {
   "attachments": {
    "String.png": {
     "image/png": "[encoded data removed]"
    }
   },
   "cell_type": "markdown",
   "id": "4831434f",
   "metadata": {},
   "source": [
    "Here is an example of String in Python: \n",
    "![String.png](attachment:String.png)"
   ]
  },
  {
   "cell_type": "markdown",
   "id": "186d9483",
   "metadata": {},
   "source": [
    "### Characteristics of String :\n",
    "\n",
    "\n",
    "1. **Syntax**: Strings in Python are enclosed within single quotes (''), double quotes (\"\") or triple quotes (\"\"\"). This allows you to represent text literals as string objects.\n",
    "\n",
    "2. **Unicode Support**: Python strings have built-in support for Unicode, enabling you to represent and manipulate characters from different scripts and languages. This includes characters from ASCII, Latin-1, UTF-8, and other Unicode encodings.\n",
    "\n",
    "3. **Indexed and Ordered**: Strings are indexed and ordered sequences of characters. Each character in a string is assigned a unique index, starting from 0 for the first character and -1 for last character. This enables you to access individual characters or subsequences within a string using indexing and slicing operations.\n",
    "\n",
    "4. **Immutable**: Strings in Python are immutable, which means they cannot be modified once created. Any operation that appears to modify a string actually creates a new string. This immutability ensures the integrity of strings and allows for efficient memory management.\n",
    "\n",
    "5. **Operators Applicable**: Various operators can be applied to strings in Python. These include concatenation using the `+` operator, repetition using the `*` operator, and comparison operators such as `==`, `!=`, `<`, `>`, `<=`, and `>=`. These operators enable string manipulation, comparison, and combining strings together.\n",
    "\n",
    "6. **Iteration**: Strings can be iterated over using loops, allowing you to access each character in the string sequentially. This enables you to perform operations on each character or process the string as a whole."
   ]
  },
  {
   "cell_type": "code",
   "execution_count": null,
   "id": "98e80ad8",
   "metadata": {},
   "outputs": [],
   "source": []
  },
  {
   "cell_type": "markdown",
   "id": "2bc29ab6",
   "metadata": {},
   "source": [
    "### Unicode String :   \n",
    "\n",
    "* Normal strings in Python are stored internally as 8-bit ASCII, while Unicode strings are stored as 16-bit Unicode.    \n",
    "* In Python, a Unicode string is a sequence of Unicode characters that can represent text from various writing systems and languages. Unicode is a standard character encoding system that assigns a unique number (code point) to each character, regardless of the platform, program, or language.\n",
    "* Unlike other character encoding systems like ASCII or Latin-1, which have a limited character set, Unicode supports a vast range of characters, including characters from different scripts, symbols, emojis, mathematical symbols, and more. This makes Unicode strings ideal for handling multilingual text and supporting diverse character sets.\n",
    "\n",
    "* Unicode strings in Python allow you to work with text in different languages, handle special characters, perform operations on diverse scripts, and ensure proper representation and rendering of text across different platforms and systems.\n",
    "\n",
    "Here is the offcial link of Unicode String for further reference: https://docs.python.org/3/howto/unicode.html#:~:text=Python's%20string%20type%20uses%20the,character%20its%20own%20unique%20code."
   ]
  },
  {
   "cell_type": "code",
   "execution_count": null,
   "id": "23732705",
   "metadata": {},
   "outputs": [],
   "source": [
    "# Example of Unicode String \n",
    "unicode_string = \"Résumé 🌍\"\n",
    "print(unicode_string)"
   ]
  },
  {
   "cell_type": "code",
   "execution_count": null,
   "id": "791472b3",
   "metadata": {},
   "outputs": [],
   "source": []
  },
  {
   "cell_type": "markdown",
   "id": "c0ed7f84",
   "metadata": {},
   "source": [
    "### Application of string\n",
    "Strings in Python have a wide range of applications across different domains. Here are some common applications of strings in Python:\n",
    "\n",
    "1. **Text Processing and Manipulation:**\n",
    "   - Strings are extensively used for text processing tasks such as parsing, splitting, joining, and manipulating textual data.\n",
    "   - They allow you to extract information from text, perform search and replace operations, and apply regular expressions for pattern matching.\n",
    "   - Text processing tasks include cleaning and normalizing data, extracting relevant information, and transforming text into a desired format.\n",
    "\n",
    "2. **Input/Output Operations:**\n",
    "   - Strings are used for input/output operations, such as reading data from files, writing data to files, and interacting with the console.\n",
    "   - They are used to represent file paths, read and write text files, and handle input from the user.\n",
    "\n",
    "3. **String Formatting and Display:**\n",
    "   - Strings are used to format and display information in a readable and structured manner.\n",
    "   - String formatting techniques like interpolation, concatenation, and template strings are used to combine text with variables or values.\n",
    "   - Strings are used in generating reports, formatting log messages, constructing user interfaces, and displaying information in web applications.\n",
    "\n",
    "4. **Web Development and Data Scraping:**\n",
    "   - Strings play a crucial role in web development tasks, such as parsing HTML or XML documents, extracting data from web pages, and generating dynamic content.\n",
    "   - Web frameworks and libraries use strings to represent URLs, route paths, HTML templates, and database queries.\n",
    "   - String operations are used for web scraping tasks, where data is extracted from web pages by searching for specific patterns or elements.\n",
    "\n",
    "5. **Data Manipulation and Analysis:**\n",
    "   - Strings are used for data manipulation and analysis tasks, especially when dealing with textual data.\n",
    "   - They are used to clean and preprocess text data, perform string matching and pattern recognition, and extract features for natural language processing tasks.\n",
    "   - Strings are used in data cleaning pipelines, sentiment analysis, text classification, and information retrieval.\n",
    "\n",
    "6. **Cryptography and Encryption:**\n",
    "   - Strings are involved in cryptographic operations such as hashing, encryption, and decryption.\n",
    "   - Cryptographic algorithms operate on strings of characters and produce encrypted or hashed representations of the original data.\n",
    "   - Strings are used to store passwords, generate secure keys, and validate digital signatures."
   ]
  },
  {
   "cell_type": "code",
   "execution_count": null,
   "id": "fb731473",
   "metadata": {},
   "outputs": [],
   "source": []
  },
  {
   "cell_type": "markdown",
   "id": "2a00ad99",
   "metadata": {},
   "source": [
    "### Topics to be covered :\n",
    "1. Creating String \n",
    "2. Accessing Substrings from a String\n",
    "3. String Traversing \n",
    "4. Editing and Deleting String \n",
    "5. Operation in String \n",
    "6. Common Functions/Methods \n",
    "7. String Formatting"
   ]
  },
  {
   "cell_type": "code",
   "execution_count": null,
   "id": "757627fb",
   "metadata": {},
   "outputs": [],
   "source": []
  },
  {
   "cell_type": "markdown",
   "id": "c3964c36",
   "metadata": {},
   "source": [
    "### Creating Stings"
   ]
  },
  {
   "cell_type": "code",
   "execution_count": null,
   "id": "42f9c09d",
   "metadata": {},
   "outputs": [],
   "source": [
    "# Using Single and Double quotes \n",
    "\n",
    "variable_name1 = 'Hello World'\n",
    "variable_name1 = \"Hello World\"\n",
    "\n",
    "#Multiline String \n",
    "\n",
    "variable_name4 = \"\"\"Hello World\"\"\"\n",
    "variable_name5 = '''Hello World'''\n",
    "variable_name6 = '''Hi, it's a string\n",
    "and it's basically use to write a multiline string'''"
   ]
  },
  {
   "cell_type": "code",
   "execution_count": null,
   "id": "4d4ecece",
   "metadata": {},
   "outputs": [],
   "source": [
    "# type() function helps you to know the datatype of any variable\n",
    "\n",
    "type(variable_name1)"
   ]
  },
  {
   "cell_type": "code",
   "execution_count": null,
   "id": "cefb2371",
   "metadata": {},
   "outputs": [],
   "source": [
    "# Why and When to use double quotes\n",
    "\n",
    "myString= 'Binoy's laptop'         #it will terminate that string after getting '\n",
    "myString2 = \"it's raining outside\""
   ]
  },
  {
   "cell_type": "code",
   "execution_count": null,
   "id": "cef6c5e2",
   "metadata": {},
   "outputs": [],
   "source": [
    "# Using built-in class named as str()\n",
    "\n",
    "s = str('hello')\n",
    "print(s)\n",
    "print(type(s))"
   ]
  },
  {
   "cell_type": "code",
   "execution_count": null,
   "id": "8cca1fc8",
   "metadata": {},
   "outputs": [],
   "source": [
    "# default string from input() \n",
    "\n",
    "s= input(\"Enter a number :\")\n",
    "print(type(s))"
   ]
  },
  {
   "cell_type": "code",
   "execution_count": null,
   "id": "80a54dfe",
   "metadata": {},
   "outputs": [],
   "source": []
  },
  {
   "cell_type": "markdown",
   "id": "b982e431",
   "metadata": {},
   "source": [
    "### Accessing Substrings from a String"
   ]
  },
  {
   "cell_type": "markdown",
   "id": "15383077",
   "metadata": {},
   "source": [
    "### String Indexing:\n",
    "\n",
    "* String indexing refers to the process of accessing individual characters within a string by their position or index.\n",
    "* A string index refers to the location of an element present in a string.\n",
    "* In Python, string indexing starts from 0, meaning the first character of a string has an index of 0, the second character has an index of 1, and so on.\n",
    "* We use brackets [] after an object to call its index. "
   ]
  },
  {
   "cell_type": "code",
   "execution_count": null,
   "id": "96a2bda2",
   "metadata": {},
   "outputs": [],
   "source": [
    "# Example to illustrate string indexing:\n",
    "\n",
    "message = \"Hello, World!\"\n",
    "\n",
    "# Positive Indexing  : Left to Right Approach\n",
    "\n",
    "print(message[0])   # Output: H\n",
    "print(message[4])   # Output: o\n",
    "print(message[7])   # Output: W\n",
    "print(message[11])  # Output: d\n",
    "\n",
    "# Negetive Indexing  : Right to Left Approach \n",
    "\n",
    "print(message[-1])   # Output: !\n",
    "print(message[-2])   # Output: d\n",
    "print(message[-5])   # Output: o\n",
    "print(message[-10])   # Output: l"
   ]
  },
  {
   "cell_type": "code",
   "execution_count": null,
   "id": "54ec61f3",
   "metadata": {},
   "outputs": [],
   "source": []
  },
  {
   "cell_type": "markdown",
   "id": "f80005c2",
   "metadata": {},
   "source": [
    "### String slicing:\n",
    "\n",
    "* String slicing in Python refers to the process of extracting a portion or subsequence of characters from a string. \n",
    "* It allows you to create a new string by specifying a range of indices to include in the slice.\n",
    "\n",
    "The general syntax for string slicing is `string[start:end:step]`, where:\n",
    "- `start` is the index of the first character to include in the slice (inclusive).\n",
    "- `end` is the index of the last character to include in the slice (exclusive).\n",
    "- `step` is an optional parameter that specifies the increment between characters. It defaults to 1."
   ]
  },
  {
   "cell_type": "code",
   "execution_count": null,
   "id": "24a51863",
   "metadata": {},
   "outputs": [],
   "source": [
    "# Examples to illustrate string slicing:\n",
    "\n",
    "message = \"Hello, World!\"\n",
    "\n",
    "print(message[0:5])     # Output: Hello\n",
    "print(message[7:12])    # Output: World\n",
    "print(message[:5])      # Output: Hello (start index defaults to 0)\n",
    "print(message[7:])      # Output: World! (end index defaults to the length of the string)\n",
    "print(message[::2])     # Output: Hlo ol! (step of 2 selects every second character)  [start:end:step_size]\n",
    "print(message[::-1])    # Output: !dlroW ,olleH (negative step reverses the string)"
   ]
  },
  {
   "cell_type": "code",
   "execution_count": null,
   "id": "bf567013",
   "metadata": {},
   "outputs": [],
   "source": [
    "#Reverse using slicing\n",
    "\n",
    "str3= 'Python Programming'\n",
    "print(str3[::-1])"
   ]
  },
  {
   "cell_type": "code",
   "execution_count": null,
   "id": "c419be45",
   "metadata": {},
   "outputs": [],
   "source": []
  },
  {
   "cell_type": "markdown",
   "id": "af689cad",
   "metadata": {},
   "source": [
    "### String Traversing:\n",
    "\n",
    "* String traversing, also known as string iteration, refers to the process of accessing each character in a string sequentially. \n",
    "* It involves iterating over the characters of a string and performing operations or computations on each character.\n",
    "\n",
    "* In Python, you can traverse a string using loops, such as the `for` loop or the `while` loop, to iterate over each character of the string. The loop iterates over the string from the first character to the last character, allowing you to access and process each character individually.\n",
    "\n",
    "* String traversing is useful when you need to process or manipulate individual characters within a string. \n",
    "* It allows you to apply operations or logic to each character in a sequential manner. \n",
    "* This technique is commonly used for tasks such as counting characters, searching for specific patterns, transforming characters, or performing text analysis."
   ]
  },
  {
   "cell_type": "code",
   "execution_count": null,
   "id": "b18f077d",
   "metadata": {},
   "outputs": [],
   "source": [
    "#Forward Traversing\n",
    "\n",
    "message = \"Hello, World!\"\n",
    "\n",
    "for character in message:\n",
    "    print(character)"
   ]
  },
  {
   "cell_type": "code",
   "execution_count": null,
   "id": "4041e53e",
   "metadata": {},
   "outputs": [],
   "source": [
    "#Reverse Traversing\n",
    "\n",
    "message = \"Hello, World!\"\n",
    "\n",
    "length= len(message)\n",
    "for i in range(-1, (-length-1), -1):          #range is a built-in function (Start position, End position, skip)\n",
    "    print(message[i])"
   ]
  },
  {
   "cell_type": "code",
   "execution_count": null,
   "id": "95389d29",
   "metadata": {},
   "outputs": [],
   "source": [
    "# Using While Loop \n",
    "\n",
    "message = \"Hello, World!\"\n",
    "\n",
    "index = 0\n",
    "while index < len(message):\n",
    "    print(message[index])\n",
    "    index += 1"
   ]
  },
  {
   "cell_type": "code",
   "execution_count": null,
   "id": "b3d1cdce",
   "metadata": {},
   "outputs": [],
   "source": []
  },
  {
   "cell_type": "markdown",
   "id": "efc03bd7",
   "metadata": {},
   "source": [
    "### Editing and Deleting in Strings"
   ]
  },
  {
   "cell_type": "code",
   "execution_count": null,
   "id": "3e8a3115",
   "metadata": {},
   "outputs": [],
   "source": [
    "# Example: You want to replace 'h' by 'H'\n",
    "# It will throw an Error because \"Python strings are immutable\"\n",
    "\n",
    "String = 'hello world'\n",
    "String[0] = 'H'"
   ]
  },
  {
   "cell_type": "code",
   "execution_count": null,
   "id": "ab027be1",
   "metadata": {},
   "outputs": [],
   "source": [
    "# Deleting String\n",
    "\n",
    "String = 'hello world'\n",
    "del String\n",
    "print(String)"
   ]
  },
  {
   "cell_type": "code",
   "execution_count": null,
   "id": "1084ec2f",
   "metadata": {},
   "outputs": [],
   "source": [
    "# Deletine a portion of String by Sclicing\n",
    "\n",
    "String = 'hello world'\n",
    "del String[-1:-5:2]\n",
    "print(String)"
   ]
  },
  {
   "cell_type": "code",
   "execution_count": null,
   "id": "34630af8",
   "metadata": {},
   "outputs": [],
   "source": []
  },
  {
   "cell_type": "markdown",
   "id": "1de1b669",
   "metadata": {},
   "source": [
    "### Operations on Strings\n",
    "\n",
    "- Arithmetic Operations\n",
    "- Relational Operations\n",
    "- Logical Operations\n",
    "- Loops on Strings\n",
    "- Membership Operations"
   ]
  },
  {
   "cell_type": "code",
   "execution_count": null,
   "id": "d9d8172d",
   "metadata": {},
   "outputs": [],
   "source": [
    "#CONCATENATION (+) \n",
    "#Without Space\n",
    "\n",
    "s1=\"Welcome\"\n",
    "s2=\"to\"\n",
    "s3=\"python\"\n",
    "s4=s1+s2+s3\n",
    "print(s4)"
   ]
  },
  {
   "cell_type": "code",
   "execution_count": null,
   "id": "050a5b70",
   "metadata": {},
   "outputs": [],
   "source": [
    "#CONCATENATION (+) \n",
    "#With Space\n",
    "\n",
    "s1=\"Welcome\"\n",
    "s2=\"to\"\n",
    "s3=\"python\"\n",
    "s4=s1+' '+ s2 +' '+s3\n",
    "print(s4)"
   ]
  },
  {
   "cell_type": "code",
   "execution_count": null,
   "id": "86647cf1",
   "metadata": {},
   "outputs": [],
   "source": [
    "#Concratenation of different data type\n",
    "\n",
    "s1=\"Welcome\"\n",
    "s2=\"to\"\n",
    "s3=\"python\"\n",
    "s4= 3.8\n",
    "s5=s1+s2+s3+s4\n",
    "print(s5)"
   ]
  },
  {
   "cell_type": "code",
   "execution_count": null,
   "id": "4e499b89",
   "metadata": {},
   "outputs": [],
   "source": [
    "#Replication (*)\n",
    "\n",
    "s1=\"python\"\n",
    "print (s1*3)"
   ]
  },
  {
   "cell_type": "code",
   "execution_count": null,
   "id": "44fcce91",
   "metadata": {},
   "outputs": [],
   "source": [
    "# Each operation will throw an error , they has no application with string\n",
    "\n",
    "s1= 'hello'\n",
    "s2= 'world'\n",
    "print(s1-s2)\n",
    "print(s1/s2)\n",
    "print(s1%s2)"
   ]
  },
  {
   "cell_type": "code",
   "execution_count": null,
   "id": "4e9827b8",
   "metadata": {},
   "outputs": [],
   "source": []
  },
  {
   "cell_type": "code",
   "execution_count": null,
   "id": "760125fe",
   "metadata": {},
   "outputs": [],
   "source": [
    "# Relational Operators \n",
    "\n",
    "string1 = \"apple\"\n",
    "string2 = \"banana\"\n",
    "\n",
    "print(string1 == string2)   # Output: False\n",
    "print(string1 != string2)   # Output: True\n",
    "print(string1 < string2)    # Output: True\n",
    "print(string1 > string2)    # Output: False\n",
    "print(string1 <= string2)   # Output: True\n",
    "print(string1 >= string2)   # Output: False"
   ]
  },
  {
   "cell_type": "markdown",
   "id": "40eaf323",
   "metadata": {},
   "source": [
    "### Logic Behind the Comparison\n",
    "\n",
    "* In Python, the logic behind the comparison of strings using relational operators is based on lexicographical order. Lexicographical order, also known as alphabetical order, compares strings character by character, starting from the leftmost character.\n",
    "\n",
    "\n",
    "#### The comparison of two strings proceeds as follows:\n",
    "\n",
    "1. The first characters of each string are compared based on their Unicode values. If the Unicode values are equal, the comparison proceeds to the next character.\n",
    "2. If the Unicode value of the character in the left string is less than the Unicode value of the character in the right string, the left string is considered \"less than\" the right string.\n",
    "3. If the Unicode value of the character in the left string is greater than the Unicode value of the character in the right string, the left string is considered \"greater than\" the right string.\n",
    "4. If all characters are compared and no differences are found, the strings are considered equal.\n",
    "\n",
    "\n",
    "#### For example, consider the comparison between two strings: string1 = \"apple\" and string2 = \"banana\".\n",
    "\n",
    "1. The first character of string1 is \"a\", and the first character of string2 is \"b\". Since the Unicode value of \"a\" (97) is less than the Unicode value of \"b\" (98), string1 is considered \"less than\" string2.\n",
    "2. Since the comparison has determined that string1 is \"less than\" string2, the comparison process stops. Further characters in the strings are not compared because the result is already determined.\n",
    "\n",
    "Therefore, the result of `string1 > string2` is `False` because \"apple\" is lexicographically less than \"banana\".\n",
    "\n",
    "\n",
    "**Aplication:      \n",
    "Relational operators with strings are useful for sorting, searching, and comparing strings based on their alphabetical or lexicographical order.**"
   ]
  },
  {
   "cell_type": "code",
   "execution_count": null,
   "id": "efb1ac24",
   "metadata": {},
   "outputs": [],
   "source": []
  },
  {
   "cell_type": "code",
   "execution_count": null,
   "id": "edfa1d12",
   "metadata": {},
   "outputs": [],
   "source": [
    "# Logical Operator \n",
    "\n",
    "string1 = \"Hello\"\n",
    "string2 = \"World\"\n",
    "empty_string = \"\"\n",
    "\n",
    "print(string1 and string2)        # Output: World\n",
    "print(string1 and empty_string)   # Output: \"\"/False\n",
    "print(string1 or string2)         # Output: Hello\n",
    "print(empty_string or string2)    # Output: World\n",
    "print(not empty_string)           # Output: True\n",
    "print(not string1)                # Output: False"
   ]
  },
  {
   "cell_type": "markdown",
   "id": "dcfc644f",
   "metadata": {},
   "source": [
    "### Logic Behind this output: \n",
    "In the example above:\n",
    "\n",
    "* string1 and string2 returns the second string, \"World\", because both strings are non-empty and non-zero.\n",
    "* string1 or string2 returns the first string, \"Hello\", because the first string is non-empty and non-zero.\n",
    "* empty_string or string2 returns the second string, \"World\", because the first string is empty and the second string is non-empty.\n",
    "* not empty_string returns True because the string is empty.\n",
    "* not string1 returns False because the string is non-empty.\n",
    "\n",
    "**Appliction:    \n",
    "Logical operators can be useful when evaluating conditions or making decisions based on the truthiness or falsehood of strings.**"
   ]
  },
  {
   "cell_type": "code",
   "execution_count": null,
   "id": "5937a3f6",
   "metadata": {},
   "outputs": [],
   "source": []
  },
  {
   "cell_type": "code",
   "execution_count": null,
   "id": "4afcbd06",
   "metadata": {},
   "outputs": [],
   "source": [
    "# Membership Operator \n",
    "\n",
    "message = \"Hello, World!\"\n",
    "\n",
    "print(\"Hello\" in message)       # Output: True\n",
    "print(\"world\" in message)       # Output: False (case-sensitive)\n",
    "print(\"o, \" in message)         # Output: True\n",
    "print(\"foo\" not in message)     # Output: True\n",
    "print(\"H\" not in message)       # Output: False"
   ]
  },
  {
   "cell_type": "markdown",
   "id": "5bc7e587",
   "metadata": {},
   "source": [
    "Explanation :\n",
    "In the example above:\n",
    "\n",
    "\"Hello\" in message returns True because the substring \"Hello\" is present within the message string.\n",
    "\"world\" in message returns False because the substring \"world\" (with a lowercase \"w\") is not present. Membership operations are case-sensitive.\n",
    "\"o, \" in messagereturnsTruebecause the substring \"o, \" is found within themessage` string.\n",
    "\"foo\" not in message returns True because the substring \"foo\" is not present.\n",
    "\"H\" not in message returns False because the character \"H\" is present within the message string.\n",
    "\n",
    "**Application :       \n",
    "Membership operators can be useful for checking the existence or absence of specific substrings or characters within a string, allowing you to perform conditional checks or make decisions based on the presence of certain elements.**"
   ]
  },
  {
   "cell_type": "code",
   "execution_count": null,
   "id": "adcffd3b",
   "metadata": {},
   "outputs": [],
   "source": []
  },
  {
   "cell_type": "markdown",
   "id": "e17d50e2",
   "metadata": {},
   "source": [
    "## Common Functions\n",
    "- len\n",
    "- max\n",
    "- min\n",
    "- sorted"
   ]
  },
  {
   "cell_type": "code",
   "execution_count": null,
   "id": "ad7afaf0",
   "metadata": {},
   "outputs": [],
   "source": [
    "# len(string): Returns the length of the string\n",
    "len('hello world')"
   ]
  },
  {
   "cell_type": "code",
   "execution_count": null,
   "id": "75914660",
   "metadata": {},
   "outputs": [],
   "source": [
    "# max(string): Returns the character with the maximum ASCII value\n",
    "max('hello world')"
   ]
  },
  {
   "cell_type": "code",
   "execution_count": null,
   "id": "df15dfd1",
   "metadata": {},
   "outputs": [],
   "source": [
    "# min(string): Returns the character with the minimum ASCII valu\n",
    "min('hello world')"
   ]
  },
  {
   "cell_type": "code",
   "execution_count": null,
   "id": "3ae06c2d",
   "metadata": {},
   "outputs": [],
   "source": [
    "# sorted(string): Returns a sorted list of characters from the string in ascending order based on their ASCII values. \n",
    "sorted('hello world',reverse=True)"
   ]
  },
  {
   "cell_type": "code",
   "execution_count": null,
   "id": "64d1f335",
   "metadata": {},
   "outputs": [],
   "source": []
  },
  {
   "cell_type": "markdown",
   "id": "9f2d504c",
   "metadata": {},
   "source": [
    "* Capitalize \n",
    "* Title \n",
    "* Upper \n",
    "* Lower \n",
    "* Swapcase"
   ]
  },
  {
   "cell_type": "code",
   "execution_count": null,
   "id": "ea2ee089",
   "metadata": {},
   "outputs": [],
   "source": [
    "# capitalize(): Converts the first character of the string to uppercase, and the rest to lowercase.\n",
    "s = 'hello world'\n",
    "print(s.capitalize())\n",
    "print(s)"
   ]
  },
  {
   "cell_type": "code",
   "execution_count": null,
   "id": "2767abac",
   "metadata": {},
   "outputs": [],
   "source": [
    "# title(): Converts the first character of each word in the string to uppercase, and the rest to lowercase.\n",
    "s = 'hello world'\n",
    "s.title()"
   ]
  },
  {
   "cell_type": "code",
   "execution_count": null,
   "id": "27754b9d",
   "metadata": {},
   "outputs": [],
   "source": [
    "# upper(): Converts all characters in the string to uppercase.\n",
    "s = 'hello world'\n",
    "s.upper()"
   ]
  },
  {
   "cell_type": "code",
   "execution_count": null,
   "id": "e77916f7",
   "metadata": {},
   "outputs": [],
   "source": [
    "# lower(): Converts all characters in the string to lowercase.\n",
    "'Hello Wolrd'.lower()"
   ]
  },
  {
   "cell_type": "code",
   "execution_count": null,
   "id": "90b1b3df",
   "metadata": {},
   "outputs": [],
   "source": [
    "# swapcase(): Swaps the case of each character in the string, making uppercase characters lowercase, and lowercase characters uppercase.\n",
    "'HeLlO WorLD'.swapcase()"
   ]
  },
  {
   "cell_type": "code",
   "execution_count": null,
   "id": "efdaf3fe",
   "metadata": {},
   "outputs": [],
   "source": []
  },
  {
   "cell_type": "markdown",
   "id": "117c26d3",
   "metadata": {},
   "source": [
    "* Count\n",
    "* Find \n",
    "* Index"
   ]
  },
  {
   "cell_type": "code",
   "execution_count": null,
   "id": "c81c7efa",
   "metadata": {},
   "outputs": [],
   "source": [
    "# count('letter'): Counts the number of occurrences of the substring 'letter' in the string\n",
    "# Count the occurrences of a substring in the string\n",
    "\n",
    "string = 'hello world'\n",
    "string.count('l')"
   ]
  },
  {
   "cell_type": "code",
   "execution_count": null,
   "id": "db03100e",
   "metadata": {},
   "outputs": [],
   "source": [
    "# find('letter'): Find the index of the first occurrence of a substring in the string\n",
    "\n",
    "string = 'hello world'\n",
    "string.find('o')"
   ]
  },
  {
   "cell_type": "code",
   "execution_count": null,
   "id": "61c1f11a",
   "metadata": {},
   "outputs": [],
   "source": [
    "# index('letter'):  Find the index of the first occurrence of a substring in the string. \n",
    "# This operation works similarly to find, but raises a ValueError if the substring is not found.\n",
    "\n",
    "string = 'hello world'\n",
    "string.index('w')"
   ]
  },
  {
   "cell_type": "code",
   "execution_count": null,
   "id": "59ebad6b",
   "metadata": {},
   "outputs": [],
   "source": []
  },
  {
   "cell_type": "markdown",
   "id": "8c5a2915",
   "metadata": {},
   "source": [
    "* endswith\n",
    "* startswith"
   ]
  },
  {
   "cell_type": "markdown",
   "id": "04d78551",
   "metadata": {},
   "source": [
    "`startswith(substring)`: Returns True if the string starts with the specified substring , and False otherwise.\n",
    "\n",
    "`endswith(sunbstring)`: Returns True if the string ends with the specified substring , and False otherwise."
   ]
  },
  {
   "cell_type": "code",
   "execution_count": null,
   "id": "4815e85a",
   "metadata": {},
   "outputs": [],
   "source": [
    "string = 'hello world'\n",
    "\n",
    "# Check if the string starts with a specific substring\n",
    "print(string.startswith('hello'))\n",
    "\n",
    "\n",
    "# Check if the string ends with a specific substring\n",
    "print(string.endswith('world'))"
   ]
  },
  {
   "cell_type": "code",
   "execution_count": null,
   "id": "0e05325b",
   "metadata": {},
   "outputs": [],
   "source": []
  },
  {
   "cell_type": "markdown",
   "id": "77368662",
   "metadata": {},
   "source": [
    "* isupper()\n",
    "* islower()\n",
    "* isalpha()\n",
    "* isdigit()\n",
    "* isalnum()\n",
    "* issspace()\n",
    "* istitle()"
   ]
  },
  {
   "cell_type": "markdown",
   "id": "f1e8b878",
   "metadata": {},
   "source": [
    "`isupper()`: Returns True if all characters in the string are uppercase, otherwise False.\n",
    "\n",
    "`islower()`: Returns True if all characters in the string are lowercase, otherwise False.\n",
    "\n",
    "`isalpha()`: Returns True if all characters in the string are alphabetic (letters), otherwise False.\n",
    "\n",
    "`isdigit()`: Returns True if all characters in the string are digits, otherwise False.\n",
    "\n",
    "`isalnum()`: Returns True if all characters in the string are alphanumeric (letters or digits), otherwise False.\n",
    "\n",
    "`isspace()`: Returns True if all characters in the string are whitespaces, otherwise False.\n",
    "\n",
    "`istitle()`: Returns True if the string follows titlecase capitalization (first letter of each word is uppercase), otherwise False."
   ]
  },
  {
   "cell_type": "code",
   "execution_count": null,
   "id": "fc6d2770",
   "metadata": {},
   "outputs": [],
   "source": [
    "string = 'Hello World'\n",
    "\n",
    "# Check if all characters in the string are uppercase\n",
    "print(string.isupper())\n",
    "\n",
    "# Check if all characters in the string are lowercase\n",
    "print(string.islower())\n",
    "\n",
    "# Check if all characters in the string are alphabetic\n",
    "print(string.isalpha())\n",
    "\n",
    "# Check if all characters in the string are digits\n",
    "print(string.isdigit())\n",
    "\n",
    "# Check if all characters in the string are alphanumeric\n",
    "print(string.isalnum())\n",
    "\n",
    "# Check if all characters in the string are whitespaces\n",
    "print(string.isspace())\n",
    "\n",
    "# Check if the string follows titlecase capitalization\n",
    "print(string.istitle())"
   ]
  },
  {
   "cell_type": "code",
   "execution_count": null,
   "id": "0fdb0525",
   "metadata": {},
   "outputs": [],
   "source": []
  },
  {
   "cell_type": "code",
   "execution_count": null,
   "id": "0a2c218e",
   "metadata": {},
   "outputs": [],
   "source": [
    "#Replace \n",
    "a= \"binoy\"\n",
    "b= \"PATRA\"\n",
    "print(a.replace(\"b\",'B'))\n",
    "# print(a)    #uncomment this line to get a surprise"
   ]
  },
  {
   "cell_type": "markdown",
   "id": "2de21b2c",
   "metadata": {},
   "source": [
    "* Split \n",
    "* Join"
   ]
  },
  {
   "cell_type": "markdown",
   "id": "402ffe28",
   "metadata": {},
   "source": [
    "`split()`: Splits the string into a list of words (substrings) based on whitespace (by default) as the delimiter. The result is a list containing individual words from the string.\n",
    "\n",
    "`join()`: Joins the elements of a list (or any iterable) into a single string, using the specified delimiter ('-' in this case) to separate the elements."
   ]
  },
  {
   "cell_type": "code",
   "execution_count": null,
   "id": "9f1f2b17",
   "metadata": {},
   "outputs": [],
   "source": [
    "#Split : Split the string into a list of words using whitespace as the delimiter\n",
    "wish= \"Happy New Year\"\n",
    "a= wish.split(\" \") #Will return a list\n",
    "print(a)"
   ]
  },
  {
   "cell_type": "code",
   "execution_count": null,
   "id": "5371a86e",
   "metadata": {},
   "outputs": [],
   "source": [
    "# Join: Join the list of words back into a single string using a custom delimiter\n",
    "\" \".join(['Hi ', 'my', 'name', 'is', 'Binoy'])"
   ]
  },
  {
   "cell_type": "code",
   "execution_count": null,
   "id": "95e86f77",
   "metadata": {},
   "outputs": [],
   "source": []
  },
  {
   "cell_type": "markdown",
   "id": "c49246d7",
   "metadata": {},
   "source": [
    "* Strip\n",
    "* lstrip\n",
    "* rstrip"
   ]
  },
  {
   "cell_type": "markdown",
   "id": "8bfc8cb7",
   "metadata": {},
   "source": [
    "`strip()`: Removes leading and trailing whitespaces from the string, leaving only the non-whitespace characters in the middle.\n",
    "\n",
    "`lstrip()`: Removes leading (left) whitespaces from the string, leaving only the non-whitespace characters and any trailing whitespaces intact.\n",
    "\n",
    "`rstrip()`: Removes trailing (right) whitespaces from the string, leaving only the non-whitespace characters and any leading whitespaces intact."
   ]
  },
  {
   "cell_type": "code",
   "execution_count": null,
   "id": "82319af7",
   "metadata": {},
   "outputs": [],
   "source": [
    "string = '     Hello World     '\n",
    "\n",
    "# Strip leading and trailing whitespaces from the string\n",
    "stripped_string = string.strip()\n",
    "print(\"Stripped string:\", stripped_string)\n",
    "\n",
    "# Strip leading whitespaces from the string\n",
    "left_stripped_string = string.lstrip()\n",
    "print(\"Left-stripped string:\", left_stripped_string)\n",
    "\n",
    "# Strip trailing whitespaces from the string\n",
    "right_stripped_string = string.rstrip()\n",
    "print(\"Right-stripped string:\", right_stripped_string)"
   ]
  },
  {
   "cell_type": "code",
   "execution_count": null,
   "id": "4722c3ea",
   "metadata": {},
   "outputs": [],
   "source": [
    "dir(str)"
   ]
  },
  {
   "cell_type": "code",
   "execution_count": null,
   "id": "58840d46",
   "metadata": {},
   "outputs": [],
   "source": []
  },
  {
   "cell_type": "markdown",
   "id": "9133a651",
   "metadata": {},
   "source": [
    "### String Format:\n",
    "\n",
    "* String formatting is the process of constructing and formatting strings in a way that allows dynamic insertion of values into placeholders within the string. \n",
    "* It allows you to create dynamic strings by combining constant text with variable data, making the output more readable and meaningful. \n",
    "\n",
    "\n",
    "* The format method formats the specified value(s) and insert them inside the string's placeholder.    \n",
    "* The placeholder is defined using curly brackets: {}.       \n",
    "* The format() method returns the formatted string.        \n",
    "    \n",
    "* In Python a string of required formatting can be achieved by different ways.      \n",
    "    1. Using {}     \n",
    "    2. using %      \n",
    "    3. using f-string      "
   ]
  },
  {
   "cell_type": "markdown",
   "id": "c2268138",
   "metadata": {},
   "source": [
    "### Importance of String Formatting :\n",
    "The importance of string formatting lies in its ability to:\n",
    "\n",
    "**Readability**: By using placeholders and variables, string formatting makes the code more readable and self-explanatory, especially when dealing with complex strings.\n",
    "\n",
    "**Dynamic Output**: String formatting allows you to create dynamic output, where the content of the string changes based on the values of variables or user input.\n",
    "\n",
    "**Flexibility**: With string formatting, you can easily switch between different variable types (integers, floats, strings) and arrange them in a specified order, ensuring the correct display of information.\n",
    "\n",
    "**Localization**: String formatting supports the localization of strings, enabling the display of numbers, dates, and other information according to specific local conventions.\n",
    "\n",
    "**Data Representation**: It is widely used in logging, reporting, and data representation tasks, where data needs to be converted into human-readable formats.\n",
    "\n",
    "**Code Maintenance**: String formatting allows you to separate the constant text from variable data, making code maintenance and updates more straightforward."
   ]
  },
  {
   "cell_type": "markdown",
   "id": "f8f0a576",
   "metadata": {},
   "source": [
    "### 1) Using {}:\n",
    "    We can combine strings and numbers by using the format() method!\n",
    "    The format() method takes the passed arguments, formats them, and places them in the string where the placeholders {}.\n",
    "    The format() method takes unlimited number of arguments, and are placed into the respective placeholders"
   ]
  },
  {
   "cell_type": "code",
   "execution_count": null,
   "id": "b0f2c539",
   "metadata": {},
   "outputs": [],
   "source": [
    "#Example:\n",
    "age = 36\n",
    "txt = \"My name is John, and I am {}\"\n",
    "print(txt.format(age))"
   ]
  },
  {
   "cell_type": "code",
   "execution_count": null,
   "id": "d30ec58f",
   "metadata": {},
   "outputs": [],
   "source": [
    "#Example:\n",
    "quantity = 3\n",
    "item_no = 567\n",
    "price = 49.95\n",
    "my_order = \"I want {} pieces of item {} for {} dollars.\"\n",
    "print(my_order.format(quantity, item_no, price))"
   ]
  },
  {
   "cell_type": "markdown",
   "id": "163667ee",
   "metadata": {},
   "source": [
    "### 2) Using %:"
   ]
  },
  {
   "cell_type": "code",
   "execution_count": null,
   "id": "df0a97b8",
   "metadata": {},
   "outputs": [],
   "source": [
    "# Initialize variable as a string\n",
    "variable = '15'\n",
    "string = \"Variable as string = %s\" % (variable)\n",
    "print(string)"
   ]
  },
  {
   "cell_type": "code",
   "execution_count": null,
   "id": "50336ce3",
   "metadata": {},
   "outputs": [],
   "source": [
    "# Convert the variable to integer\n",
    "# And perform check other formatting options\n",
    "variable = int(variable)\n",
    "\n",
    "# Without this the below statement will give error.\n",
    "string = \"Variable as integer = %d\" % (variable)\n",
    "print(string)\n",
    "print(\"Variable as float = %f\" % (variable))"
   ]
  },
  {
   "cell_type": "markdown",
   "id": "38b7c675",
   "metadata": {},
   "source": [
    "## f-string:\n",
    "    Now a day’s f-string is mostly use. In some situation, you’ll want to use a variable’s value inside a string."
   ]
  },
  {
   "cell_type": "code",
   "execution_count": null,
   "id": "0f30084a",
   "metadata": {},
   "outputs": [],
   "source": [
    "#Example:\n",
    "first_name = 'Vickey'\n",
    "last_name = 'Sharma'\n",
    "full_name = f'{first_name} {last_name}'\n",
    "print(full_name)"
   ]
  },
  {
   "cell_type": "code",
   "execution_count": null,
   "id": "10deadc5",
   "metadata": {},
   "outputs": [],
   "source": []
  },
  {
   "cell_type": "code",
   "execution_count": null,
   "id": "f9d2e3f0",
   "metadata": {},
   "outputs": [],
   "source": []
  },
  {
   "cell_type": "markdown",
   "id": "3e21cef7",
   "metadata": {},
   "source": [
    "## Further Reading and References\n",
    "\n",
    "Following are some resources where you can learn more about String in Python:\n",
    "\n",
    "https://www.w3schools.com/python/python_strings.asp\n",
    "\n",
    "https://docs.python.org/2/library/string.html"
   ]
  },
  {
   "cell_type": "code",
   "execution_count": null,
   "id": "ae924c60",
   "metadata": {},
   "outputs": [],
   "source": []
  },
  {
   "cell_type": "markdown",
   "id": "49fe15b2",
   "metadata": {},
   "source": [
    "Q. What is the application of Negetive Indexing?\n",
    "\n",
    "ans: If you want to print 2nd last character of a a string using positive indexing, then you must know the length of it. but using negetive indexing, you can esily do it.\n",
    "\n",
    "[-1:-6:-1] start position always bigger than end position during negetive indexing*n"
   ]
  },
  {
   "cell_type": "code",
   "execution_count": null,
   "id": "e9ef5f15",
   "metadata": {},
   "outputs": [],
   "source": []
  }
 ],
 "metadata": {
  "kernelspec": {
   "display_name": "Python 3 (ipykernel)",
   "language": "python",
   "name": "python3"
  },
  "language_info": {
   "codemirror_mode": {
    "name": "ipython",
    "version": 3
   },
   "file_extension": ".py",
   "mimetype": "text/x-python",
   "name": "python",
   "nbconvert_exporter": "python",
   "pygments_lexer": "ipython3",
   "version": "3.9.12"
  }
 },
 "nbformat": 4,
 "nbformat_minor": 5
}
