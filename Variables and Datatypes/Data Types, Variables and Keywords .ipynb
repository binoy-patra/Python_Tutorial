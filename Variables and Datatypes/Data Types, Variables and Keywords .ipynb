{
 "cells": [
  {
   "cell_type": "markdown",
   "id": "5bb8869e",
   "metadata": {},
   "source": [
    "# Introduction to Python Datatypes, Variables, and Keywords"
   ]
  },
  {
   "cell_type": "markdown",
   "id": "4ca091b4",
   "metadata": {},
   "source": [
    "### Topics covered in this Notebook:\n",
    "\n",
    "1. Exposure to Python Datatypes\n",
    "2. Concept of Variables and its Importance\n",
    "3. Exposure to Keywords in Python\n",
    "4. Hands-on Experience of Variables\n",
    "5. Introduction to Type Casting"
   ]
  },
  {
   "cell_type": "code",
   "execution_count": null,
   "id": "16bca755",
   "metadata": {},
   "outputs": [],
   "source": []
  },
  {
   "cell_type": "markdown",
   "id": "8348a06e",
   "metadata": {},
   "source": [
    "## Datatype:\n",
    "*    Every value has a datatype.\n",
    "* In Python, a data type defines the nature of a variable or an object.\n",
    "* It determines the type of data that a variable can hold and the operations that can be performed on that data.\n",
    "* Python provides several built-in data types, each with its own characteristics and usage. \n",
    "\n",
    "Here are some of the commonly used data types in Python:\n",
    "\n",
    "1. **Numeric Types:**\n",
    "   - int: Represents integers (whole numbers) such as -10, 0, 5.\n",
    "   - float: Represents floating-point numbers with decimal places, like 3.14, -1.23.\n",
    "\n",
    "2. **String:**\n",
    "   - str: Represents a sequence of characters enclosed in single (' ') or double (\" \") quotes.\n",
    "   - Example: \"Hello, World!\".\n",
    "\n",
    "3. **Boolean:**\n",
    "   - bool: Represents the truth values True or False. Used in logical operations and control flow.\n",
    "   - Example: True, False.\n",
    "\n",
    "4. **Sequence Types:**\n",
    "   - list: Represents an ordered collection of elements enclosed in square brackets ([]).\n",
    "   - tuple: Similar to lists but are immutable, meaning their elements cannot be modified.\n",
    "   - range: Represents a sequence of numbers with a defined start, stop, and step value.\n",
    "\n",
    "5. **Mapping Type:**\n",
    "   - dict: Represents a collection of key-value pairs enclosed in curly braces ({}) where each key is unique.\n",
    "   - ordered dict \n",
    "\n",
    "6. **Set Types:**\n",
    "   - set: Represents an unordered collection of unique elements. Duplicates are automatically removed.\n",
    "   - frozenset: Similar to sets but are immutable.\n",
    "\n",
    "7. **None Type:**\n",
    "   - None: Represents a null or empty value.\n",
    "\n",
    "8. **Other Types:**\n",
    "   - bytes: Represents a sequence of bytes.\n",
    "   - bytearray: Similar to bytes, but mutable.\n",
    "   - complex: Represents complex numbers in the form a + bj, where a and b are real numbers and j is the imaginary unit."
   ]
  },
  {
   "attachments": {
    "python-data-types.png": {
     "image/png": "[encoded data removed]"
    }
   },
   "cell_type": "markdown",
   "id": "013b1357",
   "metadata": {},
   "source": [
    "### Types of Datatype:\n",
    "\n",
    "\n",
    "![python-data-types.png](attachment:python-data-types.png)"
   ]
  },
  {
   "cell_type": "code",
   "execution_count": null,
   "id": "1a8437b7",
   "metadata": {},
   "outputs": [],
   "source": [
    "# Both print() and type() are function and bascally use to print and know the type of an entity on screen \n",
    "\n",
    "print(type(100))                                   #Integer\n",
    "\n",
    "print(type(10.56))                                 #Float\n",
    "\n",
    "print(type('Hello,World!'))                        #String\n",
    "\n",
    "print(type(True))                                  #Boolean\n",
    "\n",
    "print(type(False))                                 #Boolean\n",
    "\n",
    "print(type([1,2,3,4]))                             #List\n",
    "\n",
    "print(type((1,2,3,4)))                             #Tuple\n",
    "\n",
    "print(type({1,2,3,4}))                             #Set\n",
    "\n",
    "print(type({'name': 'binoy', 'number': 777}))      #Dictionary\n",
    "\n",
    "print(type(10+2j))                                 #Complex\n",
    "\n",
    "print(type(None))                                  #None\n",
    "\n",
    "print(type(range(1,10)))                           #Range "
   ]
  },
  {
   "cell_type": "code",
   "execution_count": null,
   "id": "d23cbe99",
   "metadata": {},
   "outputs": [],
   "source": []
  },
  {
   "cell_type": "markdown",
   "id": "143cc0d8",
   "metadata": {},
   "source": [
    "### Variable:\n",
    "\n",
    "* A variable is a named container or storage location in a program that holds a value. It acts as a symbolic representation for a piece of data that can be manipulated and accessed throughout the program.     \n",
    "* Variables allow for the temporary storage of data, which can be modified or used in calculations, conditionals, and other operations within the program's execution. They provide flexibility and allow programmers to work with dynamic data and perform various computations and transformations on that data."
   ]
  },
  {
   "cell_type": "markdown",
   "id": "6c7993fa",
   "metadata": {},
   "source": [
    "### Variables are required in programming for several reasons:\n",
    "\n",
    "1. **Data Storage:** Variables provide a way to store and hold data during the execution of a program. They allow programmers to assign values to names and refer to those values throughout the program.\n",
    "\n",
    "2. **Data Manipulation:** Variables enable manipulation and transformation of data within a program. They can be used in calculations, expressions, conditional statements, and loops, allowing for dynamic and interactive behavior in the program.\n",
    "\n",
    "3. **Memory Efficiency:** Using variables to store data allows for efficient memory utilization. Instead of duplicating data in multiple places within a program, variables provide a central location for storing and accessing the data when needed.\n",
    "\n",
    "4. **Readability and Maintainability:** Variables enhance the readability and maintainability of code by providing meaningful names to data. They make the code self-documenting, making it easier for developers to understand and modify the code in the future.\n",
    "\n",
    "5. **Flexibility and Reusability:** Variables allow for flexibility in programming. They enable the reuse of code by providing a way to store and pass data between different parts of a program or different functions.\n",
    "\n",
    "6. **Dynamic Programming:** Variables enable dynamic programming, where the behavior and flow of the program can change based on the values stored in the variables. This allows for adaptable and responsive code execution.\n",
    "\n",
    "7. **Scope Management:** Variables have a defined scope, which determines their visibility and accessibility within a program. This allows for the organization and control of data and prevents naming conflicts."
   ]
  },
  {
   "cell_type": "markdown",
   "id": "e6b941ad",
   "metadata": {},
   "source": [
    "### Example :\n",
    "* Imagine you are building a software homepage in Python, and you want to personalize the user experience by displaying the user's name on the page. Variables play a crucial role in achieving this level of personalization.   \n",
    "* By employing variables in this context, the software homepage becomes more user-friendly, engaging, and adaptable. Variables facilitate personalized interactions, improve code maintainability, and contribute to an enhanced user experience."
   ]
  },
  {
   "cell_type": "code",
   "execution_count": null,
   "id": "b6da7357",
   "metadata": {},
   "outputs": [],
   "source": []
  },
  {
   "cell_type": "markdown",
   "id": "15a6bb31",
   "metadata": {},
   "source": [
    "### Identifiers:\n",
    "\n",
    "* In programming, identifiers are names used to identify variables, functions, classes, objects, or other entities within a program. \n",
    "* They act as labels or references to these program elements.  \n",
    "*    It helps to differentiate one entities from another."
   ]
  },
  {
   "cell_type": "code",
   "execution_count": null,
   "id": "25ca1455",
   "metadata": {},
   "outputs": [],
   "source": [
    "#Variable assignment\n",
    "# We can use Assignment Operator to assign or store a value in variable \n",
    "\n",
    "my_favorite_color = \"blue\""
   ]
  },
  {
   "cell_type": "code",
   "execution_count": null,
   "id": "da6a9a71",
   "metadata": {},
   "outputs": [],
   "source": [
    "#Checking type of variable\n",
    "type(my_favorite_color)"
   ]
  },
  {
   "cell_type": "code",
   "execution_count": null,
   "id": "3abd6915",
   "metadata": {},
   "outputs": [],
   "source": [
    "#Variable assignment\n",
    "my_favorite_number = 7"
   ]
  },
  {
   "cell_type": "code",
   "execution_count": null,
   "id": "06f17aeb",
   "metadata": {},
   "outputs": [],
   "source": [
    "#Checking type of variable\n",
    "type(my_favorite_number)"
   ]
  },
  {
   "cell_type": "code",
   "execution_count": null,
   "id": "57c1b2a2",
   "metadata": {},
   "outputs": [],
   "source": [
    "#Multiple variable assignment\n",
    "color1, color2, color3 = \"red\", \"green\", \"blue\""
   ]
  },
  {
   "cell_type": "code",
   "execution_count": null,
   "id": "fea5347b",
   "metadata": {},
   "outputs": [],
   "source": [
    "#Accessing variable\n",
    "color1"
   ]
  },
  {
   "cell_type": "code",
   "execution_count": null,
   "id": "0c2cbcfc",
   "metadata": {},
   "outputs": [],
   "source": [
    "# Multiple variable assignment \n",
    "num1= num2= num3= 100\n",
    "print(num1, num2, num3)"
   ]
  },
  {
   "cell_type": "code",
   "execution_count": null,
   "id": "debc2b4e",
   "metadata": {},
   "outputs": [],
   "source": []
  },
  {
   "cell_type": "code",
   "execution_count": null,
   "id": "9e428239",
   "metadata": {},
   "outputs": [],
   "source": [
    "# Dynamic Typing\n",
    "a = 5\n",
    "# Static Typing\n",
    "int a = 5"
   ]
  },
  {
   "cell_type": "code",
   "execution_count": null,
   "id": "00a29e6d",
   "metadata": {},
   "outputs": [],
   "source": [
    "# Dynamic Binding (Example: Python)\n",
    "# it refers to the ability of a variable to hold different data types and automatically adjust its type based on the assigned value at runtime.\n",
    "\n",
    "a = 5\n",
    "print(a)\n",
    "a = 'Hello World'\n",
    "print(a)\n",
    "\n",
    "# Static Binding (Example: C, Java)\n",
    "#  when the variable's type is determined and fixed during compilation, and it cannot change during runtime.\n",
    "int num = 5"
   ]
  },
  {
   "cell_type": "code",
   "execution_count": null,
   "id": "559f0680",
   "metadata": {},
   "outputs": [],
   "source": []
  },
  {
   "cell_type": "code",
   "execution_count": null,
   "id": "f1dd9059",
   "metadata": {},
   "outputs": [],
   "source": [
    "# take input from users and store them in a variable\n",
    "fnum = int(input('enter first number'))\n",
    "snum = int(input('enter second number'))\n",
    "\n",
    "print(fnum)\n",
    "print(snum)"
   ]
  },
  {
   "cell_type": "code",
   "execution_count": null,
   "id": "6202ce9a",
   "metadata": {},
   "outputs": [],
   "source": []
  },
  {
   "cell_type": "code",
   "execution_count": null,
   "id": "50f5c5ff",
   "metadata": {},
   "outputs": [],
   "source": [
    "# It will throw an error because Blank Spaces are not allowed\n",
    "a variable = 23  "
   ]
  },
  {
   "cell_type": "code",
   "execution_count": null,
   "id": "dced2b4f",
   "metadata": {},
   "outputs": [],
   "source": [
    "# It will throw an error because Special Symbols are not allowed\n",
    "is_today_$aturday = False"
   ]
  },
  {
   "cell_type": "code",
   "execution_count": null,
   "id": "240c9118",
   "metadata": {},
   "outputs": [],
   "source": [
    "# It will throw an error because Special Symbols are not allowed\n",
    "my-favorite-car = \"Delorean\""
   ]
  },
  {
   "cell_type": "code",
   "execution_count": null,
   "id": "3825a85c",
   "metadata": {},
   "outputs": [],
   "source": [
    "# It will throw an error because name should start with a alphabate\n",
    "3_musketeers = [\"Athos\", \"Porthos\", \"Aramis\"]"
   ]
  },
  {
   "cell_type": "code",
   "execution_count": null,
   "id": "53bfae53",
   "metadata": {},
   "outputs": [],
   "source": []
  },
  {
   "cell_type": "markdown",
   "id": "56d8a057",
   "metadata": {},
   "source": [
    "### The rules for creating identifiers in most programming languages are as follows:\n",
    "\n",
    "1. **Allowed Characters**: Identifiers can consist of `letters (both uppercase and lowercase)`, `digits (0-9)`, and `underscores (_)`. Some languages may have additional rules or restrictions on the characters allowed.\n",
    "\n",
    "2. **Start with a Letter or Underscore**: Identifiers must begin with a letter (a-z, A-Z) or an underscore (_). They cannot start with a digit or any other special character.\n",
    "\n",
    "3. **Case Sensitivity**: Many programming languages are case-sensitive, treating identifiers with different casing as distinct. For example, \"myVariable\" and \"myvariable\" would be considered different identifiers in a case-sensitive language.\n",
    "\n",
    "4. **No Spaces or Special Characters**: Identifiers cannot contain spaces or special characters such as symbols or punctuation marks. The underscore (_) is typically allowed within an identifier, but other special characters are not.\n",
    "\n",
    "5. **Reserved Keywords**: Most programming languages have reserved keywords that cannot be used as identifiers since they have predefined meanings in the language. Attempting to use a reserved keyword as an identifier will typically result in a syntax error.\n",
    "\n",
    "6. **Length Limitations**: There may be limitations on the length of identifiers in a programming language. It is advisable to adhere to any length restrictions specified by the language."
   ]
  },
  {
   "cell_type": "code",
   "execution_count": null,
   "id": "664d7cb7",
   "metadata": {},
   "outputs": [],
   "source": []
  },
  {
   "cell_type": "markdown",
   "id": "1ed96b60",
   "metadata": {},
   "source": [
    "In the context of programming, there are three commonly referred to cases for identifiers:\n",
    "\n",
    "1. **Camel Case**: In camel case, each word in an identifier begins with an uppercase letter except the first word, which starts with a lowercase letter. Subsequent words are combined together without spaces or underscores. For example: `myVariableName`, `calculateTotalPrice`.\n",
    "\n",
    "\n",
    "2. **Pascal Case**: Pascal case, also known as upper camel case, is similar to camel case, but with the first letter of each word capitalized. This convention is often used for class names or other identifier types that represent objects or types. For example: `MyClassName`, `CalculateSum`.\n",
    "\n",
    "\n",
    "3. **Snake Case**: Snake case, also known as lowercase with underscores, uses lowercase letters for all words and separates them with underscores. This convention is often used for variable names or functions. For example: `my_variable_name`, `calculate_total_price`.\n",
    "\n",
    "It's important to note that the choice of case style for identifiers may vary depending on programming language conventions or personal/team preferences. Consistency in the chosen case style is key to maintain code readability and understandability."
   ]
  },
  {
   "cell_type": "code",
   "execution_count": null,
   "id": "b46b553e",
   "metadata": {},
   "outputs": [],
   "source": [
    "#Example of Camel Case\n",
    "\n",
    "myVariableName = \"John\"\n",
    "actualPrice= 100\n",
    "\n",
    "#Example of Pascal Case\n",
    "\n",
    "MyVariableName = \"John\"\n",
    "ActualPrice= 100\n",
    "    \n",
    "#Example of Snake Case\n",
    "\n",
    "my_variable_name = \"John\n",
    "actual_price= 100"
   ]
  },
  {
   "cell_type": "code",
   "execution_count": null,
   "id": "e553252a",
   "metadata": {},
   "outputs": [],
   "source": []
  },
  {
   "attachments": {
    "keyword-in-python.png": {
     "image/png": "[encoded data removed]"
    }
   },
   "cell_type": "markdown",
   "id": "1228754f",
   "metadata": {},
   "source": [
    "### Keyword:\n",
    "\n",
    "* Keywords are reserved words that have predefined meanings.\n",
    "* Keywords cannot be used as identifiers (such as variable names or function names or class names). \n",
    "* These keywords are part of the Python language syntax and are used to define the structure and flow of a program. \n",
    "\n",
    "In Python, there are 35 keywords:\n",
    "\n",
    "![keyword-in-python.png](attachment:keyword-in-python.png)"
   ]
  },
  {
   "cell_type": "code",
   "execution_count": null,
   "id": "2208408b",
   "metadata": {},
   "outputs": [],
   "source": []
  },
  {
   "cell_type": "markdown",
   "id": "bbd86fe7",
   "metadata": {},
   "source": [
    "### Type Casting/Type Conversion:\n",
    "\n",
    "* Type casting, also known as type conversion, is the process of converting the data type of a value or variable into another data type. \n",
    "* Python provides built-in functions to perform type casting.\n",
    "    \n",
    "In Python, there are several types of type casting, also known as type conversion, here are the commonly used type casting methods in Python:          \n",
    "**1. Implicit Type Conversion**           \n",
    "**2. Explicit Type Conversion**"
   ]
  },
  {
   "cell_type": "markdown",
   "id": "4379478c",
   "metadata": {},
   "source": [
    "1. **Implicit Type Casting**:                  \n",
    "Implicit type casting, also called automatic type conversion, occurs when Python automatically converts one data type to another during an operation. For example, when adding an integer and a float, Python automatically converts the integer to a float for the operation."
   ]
  },
  {
   "cell_type": "code",
   "execution_count": null,
   "id": "3ac96cb2",
   "metadata": {},
   "outputs": [],
   "source": [
    "#Example\n",
    "num_int = 123\n",
    "num_flo = 1.23\n",
    "\n",
    "num_new = num_int + num_flo\n",
    "\n",
    "print(\"datatype of num_int:\",type(num_int))\n",
    "print(\"datatype of num_flo:\",type(num_flo))\n",
    "\n",
    "print(\"Value of num_new:\",num_new)\n",
    "print(\"datatype of num_new:\",type(num_new))"
   ]
  },
  {
   "cell_type": "code",
   "execution_count": null,
   "id": "9fdf7a31",
   "metadata": {},
   "outputs": [],
   "source": [
    "num_int = 123\n",
    "num_str = \"456\"\n",
    "\n",
    "print(\"Data type of num_int:\",type(num_int))\n",
    "print(\"Data type of num_str:\",type(num_str))\n",
    "\n",
    "print(num_int+num_str)  #Will give an  error, read it and optimize it"
   ]
  },
  {
   "cell_type": "code",
   "execution_count": null,
   "id": "de7d6c9a",
   "metadata": {},
   "outputs": [],
   "source": []
  },
  {
   "cell_type": "markdown",
   "id": "c9f8c50a",
   "metadata": {},
   "source": [
    "2. **Explicit Type Casting**: Explicit type casting, also known as explicit conversion, is done explicitly by the programmer using built-in functions. The most commonly used functions for explicit type casting are:\n",
    "   - `int()`: Converts a value to an integer.\n",
    "   - `float()`: Converts a value to a float.\n",
    "   - `str()`: Converts a value to a string.\n",
    "   - `list()`: Converts a value to a list.\n",
    "   - `tuple()`: Converts a value to a tuple.\n",
    "   - `dict()`: Converts a value to a dictionary.\n",
    "   - `set()`: Converts a value to a set."
   ]
  },
  {
   "cell_type": "code",
   "execution_count": null,
   "id": "2611ea47",
   "metadata": {},
   "outputs": [],
   "source": [
    "# Float to Int\n",
    "Num1= 5.02\n",
    "print(type(Num1))\n",
    "Num2= int(Num1)\n",
    "print(type(Num2))"
   ]
  },
  {
   "cell_type": "code",
   "execution_count": 1,
   "id": "8e4b5be4",
   "metadata": {},
   "outputs": [
    {
     "ename": "TypeError",
     "evalue": "can only concatenate str (not \"int\") to str",
     "output_type": "error",
     "traceback": [
      "\u001b[1;31m---------------------------------------------------------------------------\u001b[0m",
      "\u001b[1;31mTypeError\u001b[0m                                 Traceback (most recent call last)",
      "Input \u001b[1;32mIn [1]\u001b[0m, in \u001b[0;36m<cell line: 3>\u001b[1;34m()\u001b[0m\n\u001b[0;32m      1\u001b[0m str1\u001b[38;5;241m=\u001b[39m \u001b[38;5;124m\"\u001b[39m\u001b[38;5;124mA\u001b[39m\u001b[38;5;124m\"\u001b[39m\n\u001b[0;32m      2\u001b[0m str2\u001b[38;5;241m=\u001b[39m \u001b[38;5;241m10\u001b[39m\n\u001b[1;32m----> 3\u001b[0m str3\u001b[38;5;241m=\u001b[39m \u001b[43mstr1\u001b[49m\u001b[38;5;241;43m+\u001b[39;49m\u001b[43mstr2\u001b[49m\n\u001b[0;32m      4\u001b[0m \u001b[38;5;28mprint\u001b[39m(str3)\n",
      "\u001b[1;31mTypeError\u001b[0m: can only concatenate str (not \"int\") to str"
     ]
    }
   ],
   "source": [
    "# Error\n",
    "str1= \"A\"\n",
    "str2= 10\n",
    "str3= str1+str2\n",
    "print(str3)"
   ]
  },
  {
   "cell_type": "code",
   "execution_count": null,
   "id": "15b33f79",
   "metadata": {},
   "outputs": [],
   "source": [
    "#Integer to String Conversion\n",
    "str1= \"A\"\n",
    "str2= 10\n",
    "str3= str1+ str(str2) \n",
    "print(str3)"
   ]
  },
  {
   "cell_type": "code",
   "execution_count": null,
   "id": "8cd4cc63",
   "metadata": {},
   "outputs": [],
   "source": [
    "# String to interger\n",
    "num1= 123\n",
    "num2= '456'\n",
    "sum1= num1+num2\n",
    "print(sum1)\n",
    "sum2= num1+int(num2)\n",
    "print(sum2)"
   ]
  },
  {
   "cell_type": "code",
   "execution_count": null,
   "id": "33016dd2",
   "metadata": {},
   "outputs": [],
   "source": [
    "num1= 123\n",
    "num2= '456'\n",
    "sum2= num1+int(num2)\n",
    "print(sum2)"
   ]
  },
  {
   "cell_type": "code",
   "execution_count": null,
   "id": "316889c7",
   "metadata": {},
   "outputs": [],
   "source": [
    "# Question: is it possible?\n",
    "com= 4+3j\n",
    "print(int(com))"
   ]
  },
  {
   "cell_type": "markdown",
   "id": "74e06769",
   "metadata": {},
   "source": [
    "### From last Notebook"
   ]
  },
  {
   "cell_type": "code",
   "execution_count": null,
   "id": "3949f355",
   "metadata": {},
   "outputs": [],
   "source": [
    "# Run this code and try to explain what is going on\n",
    "\n",
    "# take input from users and store them in a variable\n",
    "var1= input('Please Enter A Number : ')\n",
    "var2= input('Please Enter Another Number : ')\n",
    "\n",
    "#print(type(var1), type(var2))\n",
    "\n",
    "# add the 2 variables\n",
    "print(var1+var2)"
   ]
  },
  {
   "cell_type": "code",
   "execution_count": null,
   "id": "3956aa73",
   "metadata": {},
   "outputs": [],
   "source": [
    "# Run this code and try to explain what is going on\n",
    "\n",
    "# take input from users and store them in a variable\n",
    "var1= int(input('Please Enter A Number : '))\n",
    "var2= int(input('Please Enter Another Number : '))\n",
    "\n",
    "#print(type(var1), type(var2))\n",
    "\n",
    "# add the 2 variables\n",
    "print(var1+var2)"
   ]
  },
  {
   "cell_type": "code",
   "execution_count": null,
   "id": "b2b36bfd",
   "metadata": {},
   "outputs": [],
   "source": []
  },
  {
   "cell_type": "markdown",
   "id": "85d7c6bd",
   "metadata": {},
   "source": [
    "### Eval() Function\n",
    "* The eval() function in Python is used to evaluate and execute a Python expression or code dynamically at runtime. \n",
    "* The eval() function is primarily used in scenarios where dynamic code execution is required, such as evaluating mathematical expressions, executing user-defined formulas, or creating interactive programming environments."
   ]
  },
  {
   "cell_type": "code",
   "execution_count": null,
   "id": "0ad673c0",
   "metadata": {},
   "outputs": [],
   "source": [
    "# Run this code and try to explain what is going on\n",
    "var1= eval(input('Please Enter A Number : '))\n",
    "var2= eval(input('Please Enter Another Number : '))\n",
    "print(var1+var2)"
   ]
  },
  {
   "cell_type": "code",
   "execution_count": null,
   "id": "d5778ccc",
   "metadata": {},
   "outputs": [],
   "source": [
    "# Eval() Function\n",
    "x = 5\n",
    "y = 10\n",
    "code = \"x + y\"\n",
    "result = eval(code)\n",
    "print(result)  # Output: 15"
   ]
  },
  {
   "cell_type": "code",
   "execution_count": null,
   "id": "eccd8ddd",
   "metadata": {},
   "outputs": [],
   "source": []
  },
  {
   "cell_type": "markdown",
   "id": "34482526",
   "metadata": {},
   "source": [
    "### When and why to use type casting?\n",
    "\n",
    "It is useful in various scenarios for the following reasons:\n",
    "\n",
    "1. **Data Compatibility:** Type casting allows you to ensure compatibility between different data types. Sometimes, you may need to perform operations or comparisons between values of different types, and type casting enables you to bring them to a common type to avoid errors or unexpected behavior.\n",
    "\n",
    "2. **User Input Handling:** When you receive user input in your program, it typically comes as a string. If you need to perform numerical calculations or comparisons with the user input, you can use type casting to convert the string input into a numeric data type, such as int or float.\n",
    "\n",
    "3. **Data Conversion:** Type casting is helpful when you want to convert data from one form to another. For example, converting a numeric value to a string to concatenate it with other strings or converting a list to a tuple or set to take advantage of their specific properties.\n",
    "\n",
    "4. **Function or API Requirements:** In some cases, functions or APIs may require specific data types as input parameters. Type casting allows you to ensure that the data you pass to a function or API meets their expected data types.\n",
    "\n",
    "5. **Output Formatting:** Type casting can be used to format the output of your program. For example, converting a numeric value to a string before printing it with specific formatting options."
   ]
  },
  {
   "cell_type": "code",
   "execution_count": null,
   "id": "80a32c8f",
   "metadata": {},
   "outputs": [],
   "source": []
  },
  {
   "cell_type": "code",
   "execution_count": null,
   "id": "d0be18eb",
   "metadata": {},
   "outputs": [],
   "source": []
  }
 ],
 "metadata": {
  "kernelspec": {
   "display_name": "Python 3 (ipykernel)",
   "language": "python",
   "name": "python3"
  },
  "language_info": {
   "codemirror_mode": {
    "name": "ipython",
    "version": 3
   },
   "file_extension": ".py",
   "mimetype": "text/x-python",
   "name": "python",
   "nbconvert_exporter": "python",
   "pygments_lexer": "ipython3",
   "version": "3.9.12"
  }
 },
 "nbformat": 4,
 "nbformat_minor": 5
}
