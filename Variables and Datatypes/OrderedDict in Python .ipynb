{
 "cells": [
  {
   "cell_type": "markdown",
   "id": "e9edb696",
   "metadata": {},
   "source": [
    "# OrderedDict in Python "
   ]
  },
  {
   "cell_type": "markdown",
   "id": "efad638d",
   "metadata": {},
   "source": [
    "### OrderedDict :\n",
    "\n",
    "* `OrderedDict` is a class in the Python `collections` module that maintains the order of elements as they are inserted. \n",
    "* In a standard Python dictionary, the order of elements is not guaranteed, and it may vary when iterating through the dictionary. However, an `OrderedDict` retains the insertion order, providing predictable and consistent iteration.\n",
    "\n",
    "* The main features of `OrderedDict` are:\n",
    "\n",
    "1. **Preserves Insertion Order:** Unlike a regular dictionary, where the order of elements is arbitrary, an `OrderedDict` remembers the order in which key-value pairs are added.\n",
    "\n",
    "2. **Dictionary-like Functionality:** An `OrderedDict` has the same functionality as a regular dictionary. You can access, add, modify, and delete key-value pairs, just like you would with a standard dictionary.\n",
    "\n",
    "* In Python 3.7 and later versions, you can expect regular dictionaries to behave like `OrderedDict`, but it is still useful to use `OrderedDict` in cases where you specifically need to ensure the order of elements."
   ]
  },
  {
   "cell_type": "code",
   "execution_count": null,
   "id": "57f58754",
   "metadata": {},
   "outputs": [],
   "source": [
    "# Example of `OrderedDict`:\n",
    "\n",
    "from collections import OrderedDict\n",
    "\n",
    "# Create an OrderedDict with some key-value pairs\n",
    "ordered_dict = OrderedDict()\n",
    "ordered_dict['apple'] = 5\n",
    "ordered_dict['banana'] = 3\n",
    "ordered_dict['orange'] = 2\n",
    "\n",
    "# Iterate through the OrderedDict (order is preserved)\n",
    "for fruit, quantity in ordered_dict.items():\n",
    "    print(f\"{fruit}: {quantity}\")\n",
    "\n",
    "# Output:\n",
    "# apple: 5\n",
    "# banana: 3\n",
    "# orange: 2"
   ]
  },
  {
   "cell_type": "code",
   "execution_count": null,
   "id": "0d2c8deb",
   "metadata": {},
   "outputs": [],
   "source": []
  },
  {
   "cell_type": "code",
   "execution_count": null,
   "id": "48e19599",
   "metadata": {},
   "outputs": [],
   "source": []
  },
  {
   "cell_type": "code",
   "execution_count": null,
   "id": "a63538f7",
   "metadata": {},
   "outputs": [],
   "source": []
  },
  {
   "cell_type": "code",
   "execution_count": null,
   "id": "4b8cfc7a",
   "metadata": {},
   "outputs": [],
   "source": []
  },
  {
   "cell_type": "code",
   "execution_count": null,
   "id": "5eec76d9",
   "metadata": {},
   "outputs": [],
   "source": []
  },
  {
   "cell_type": "code",
   "execution_count": null,
   "id": "46f00555",
   "metadata": {},
   "outputs": [],
   "source": []
  },
  {
   "cell_type": "code",
   "execution_count": null,
   "id": "d5df1689",
   "metadata": {},
   "outputs": [],
   "source": []
  }
 ],
 "metadata": {
  "kernelspec": {
   "display_name": "Python 3 (ipykernel)",
   "language": "python",
   "name": "python3"
  },
  "language_info": {
   "codemirror_mode": {
    "name": "ipython",
    "version": 3
   },
   "file_extension": ".py",
   "mimetype": "text/x-python",
   "name": "python",
   "nbconvert_exporter": "python",
   "pygments_lexer": "ipython3",
   "version": "3.9.12"
  }
 },
 "nbformat": 4,
 "nbformat_minor": 5
}
