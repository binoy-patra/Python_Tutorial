{
 "cells": [
  {
   "cell_type": "markdown",
   "id": "8b2e5a66",
   "metadata": {},
   "source": [
    "# Set in Python"
   ]
  },
  {
   "cell_type": "markdown",
   "id": "2a9c5f94",
   "metadata": {},
   "source": [
    "## Sets:\n",
    "\n",
    "* In Python, a set is a built-in data type that represents an unordered collection of unique (no duplicates) elements. \n",
    "* It is used when you need to store a collection of distinct items without any specific order. \n",
    "* Every set element is unique  and must be immutable (cannot be changed). However, a set itself is mutable. We can add or remove items from it.\n",
    "* Sets can also be used to perform mathematical set operations like union, intersection, symmetric difference, etc.\n",
    "* So in one words, set is a collection which is both unordered and unindexed."
   ]
  },
  {
   "cell_type": "markdown",
   "id": "ef40c58c",
   "metadata": {},
   "source": [
    "### Features of set in Python:\n",
    "### Set Items:\n",
    "Set items are unordered, unchangeable, and do not allow duplicate values.\n",
    "A set can contain different data types\n",
    "### Unordered:\n",
    "Unordered means that the items in a set do not have a defined order.\n",
    "Set items can appear in a different order every time you use them, and cannot be referred to by index or key.\n",
    "### Unchangeable:\n",
    "Sets are unchangeable, meaning that we cannot change the items after the set has been created.\n",
    "Once a set a created, you cannot change its items, but you can add new items.\n",
    "### Duplicates Not Allowed:\n",
    "Sets cannot have two items with the same value."
   ]
  },
  {
   "cell_type": "markdown",
   "id": "55fcf7be",
   "metadata": {},
   "source": [
    "### Features of sets in Python:\n",
    "\n",
    "1. Set Creation:\n",
    "   - Sets are created by enclosing comma-separated elements within curly braces ({ }).\n",
    "   - Example: `my_set = {1, 2, 3, 4, 5}`\n",
    "\n",
    "2. Unique Elements:\n",
    "   - Sets only store unique elements. Duplicate elements are automatically removed.\n",
    "   - If you try to add the same element multiple times, only one instance of that element will be stored in the set.\n",
    "\n",
    "3. Unordered Collection:\n",
    "   - Sets do not maintain any particular order of elements. The order in which elements are stored may change over time.\n",
    "   - The lack of order means that you cannot access elements in a set by indexing or slicing.\n",
    "\n",
    "4. Mutable:\n",
    "   - Sets are mutable, meaning you can add or remove elements after the set is created.\n",
    "   - You can modify a set by adding new elements, removing existing elements, or performing set operations like union, intersection, and difference.\n",
    "\n",
    "5. Membership Testing:\n",
    "   - Sets provide fast membership testing operations. You can efficiently check if an element is present in a set using the `in` keyword.\n",
    "   - This makes sets useful for tasks such as filtering or removing duplicates from a collection.\n",
    "\n",
    "6. Mathematical Set Operations:\n",
    "   - Sets support various mathematical set operations such as union, intersection, difference, and symmetric difference.\n",
    "   - These operations allow you to combine sets, find common elements, or identify unique elements between sets.\n",
    "\n",
    "7. Immutable Elements:\n",
    "   - Sets can store elements that are immutable, such as numbers, strings, and tuples.\n",
    "   - However, sets themselves are mutable, meaning you can add or remove elements from the set.\n",
    "\n",
    "8. Hashable Elements:\n",
    "   - Elements stored in a set must be hashable. Hashable objects have a hash value that remains constant throughout their lifetime.\n",
    "   - Immutable data types like numbers, strings, and tuples are hashable, while mutable data types like lists and dictionaries are not.\n",
    "\n",
    "9. Set Methods:\n",
    "   - Python provides a range of built-in methods to manipulate sets, including methods for adding elements, removing elements, performing set operations, and more.\n",
    "   - These methods allow you to modify and interact with sets efficiently."
   ]
  },
  {
   "cell_type": "code",
   "execution_count": null,
   "id": "1decb304",
   "metadata": {},
   "outputs": [],
   "source": []
  },
  {
   "cell_type": "markdown",
   "id": "b77720d4",
   "metadata": {},
   "source": [
    "### Application \n",
    "Sets in Python have several applications across different domains. Here are some common applications of sets:\n",
    "\n",
    "1. Removing Duplicates:\n",
    "   - Sets are used to efficiently remove duplicate elements from a collection.\n",
    "   - By converting a list or another iterable to a set, duplicates are automatically eliminated, and you obtain a collection of unique elements.\n",
    "\n",
    "2. Membership Testing:\n",
    "   - Sets provide fast membership testing operations.\n",
    "   - You can efficiently check if an element exists in a set using the `in` keyword, which makes sets useful for filtering or determining the presence of specific elements.\n",
    "\n",
    "3. Mathematical Set Operations:\n",
    "   - Sets are used for performing mathematical set operations, such as union, intersection, difference, and symmetric difference.\n",
    "   - These operations allow you to combine sets, find common elements, identify unique elements, or exclude specific elements.\n",
    "\n",
    "4. Data Analysis and Filtering:\n",
    "   - Sets are used in data analysis to identify unique categories or distinct elements within a dataset.\n",
    "   - They can be used to filter out unwanted or duplicate data points based on certain criteria.\n",
    "\n",
    "5. Set Comparisons:\n",
    "   - Sets are employed for comparing different collections or data structures.\n",
    "   - By converting multiple collections to sets, you can determine common elements, differences, or unique elements between the sets.\n",
    "\n",
    "6. Membership-based Algorithms:\n",
    "   - Sets are used in algorithms that rely on membership tests or require efficient lookup operations.\n",
    "   - Examples include graph algorithms, network analysis, and various search algorithms where efficient element retrieval is crucial.\n",
    "\n",
    "7. Set Operations with Textual Data:\n",
    "   - Sets are used for text processing tasks, such as finding unique words or characters in a document or identifying common words between multiple documents.\n",
    "   - They can be used to perform operations like stemming, tokenization, and other text analysis techniques.\n",
    "\n",
    "8. Data Privacy and Security:\n",
    "   - Sets are utilized in privacy and security-related tasks, such as identifying unique user IDs or storing unique tokens for authentication purposes.\n",
    "   - Sets can help in detecting duplicate entries or preventing duplicate access to resources.\n",
    "\n",
    "These are just a few examples of how sets are applied in Python. Sets provide a convenient way to handle collections of unique elements and perform various set-related operations efficiently. Their ability to remove duplicates and enable fast membership testing makes sets valuable in data manipulation, analysis, and algorithmic tasks."
   ]
  },
  {
   "cell_type": "code",
   "execution_count": null,
   "id": "f09a3996",
   "metadata": {},
   "outputs": [],
   "source": []
  },
  {
   "cell_type": "markdown",
   "id": "540a09f8",
   "metadata": {},
   "source": [
    "### Creating Sets"
   ]
  },
  {
   "cell_type": "code",
   "execution_count": 2,
   "id": "cead247e",
   "metadata": {},
   "outputs": [
    {
     "name": "stdout",
     "output_type": "stream",
     "text": [
      "set()\n",
      "<class 'set'>\n",
      "{1, 2, 3}\n",
      "{1, (1, 2, 3), 4.5, 'hello'}\n"
     ]
    },
    {
     "ename": "NameError",
     "evalue": "name 's5' is not defined",
     "output_type": "error",
     "traceback": [
      "\u001b[1;31m---------------------------------------------------------------------------\u001b[0m",
      "\u001b[1;31mNameError\u001b[0m                                 Traceback (most recent call last)",
      "Input \u001b[1;32mIn [2]\u001b[0m, in \u001b[0;36m<cell line: 23>\u001b[1;34m()\u001b[0m\n\u001b[0;32m     21\u001b[0m \u001b[38;5;66;03m# duplicates not allowed\u001b[39;00m\n\u001b[0;32m     22\u001b[0m s4 \u001b[38;5;241m=\u001b[39m {\u001b[38;5;241m1\u001b[39m,\u001b[38;5;241m1\u001b[39m,\u001b[38;5;241m2\u001b[39m,\u001b[38;5;241m2\u001b[39m,\u001b[38;5;241m3\u001b[39m,\u001b[38;5;241m3\u001b[39m}\n\u001b[1;32m---> 23\u001b[0m \u001b[38;5;28mprint\u001b[39m(\u001b[43ms5\u001b[49m)\n\u001b[0;32m     25\u001b[0m \u001b[38;5;66;03m# set can't have mutable items\u001b[39;00m\n\u001b[0;32m     26\u001b[0m s5 \u001b[38;5;241m=\u001b[39m {\u001b[38;5;241m1\u001b[39m,\u001b[38;5;241m2\u001b[39m,[\u001b[38;5;241m3\u001b[39m,\u001b[38;5;241m4\u001b[39m]}\n",
      "\u001b[1;31mNameError\u001b[0m: name 's5' is not defined"
     ]
    }
   ],
   "source": [
    "# Empty Set\n",
    "s = set()\n",
    "print(s)\n",
    "print(type(s))\n",
    "\n",
    "\n",
    "# 1D Set\n",
    "s1 = {1,2,3}\n",
    "print(s1)\n",
    "\n",
    "# 2D Set (possible or not? )\n",
    "#s2 = {1,2,3,{4,5}}\n",
    "#print(s2)\n",
    "\n",
    "\n",
    "# Homogeneous and hetrogeneous Set \n",
    "s3 = {1,'hello',4.5,(1,2,3)}\n",
    "print(s3)\n",
    "\n",
    "\n",
    "# duplicates not allowed\n",
    "s4 = {1,1,2,2,3,3}\n",
    "print(s5)\n",
    "\n",
    "# set can't have mutable items\n",
    "s5 = {1,2,[3,4]}\n",
    "print(s5)"
   ]
  },
  {
   "cell_type": "code",
   "execution_count": 3,
   "id": "dd86b3a1",
   "metadata": {},
   "outputs": [
    {
     "name": "stdout",
     "output_type": "stream",
     "text": [
      "{1, 2, 3}\n"
     ]
    }
   ],
   "source": [
    "# using type conversion\n",
    "s6 = set([1,2,3])\n",
    "print(s4)"
   ]
  },
  {
   "cell_type": "code",
   "execution_count": 4,
   "id": "f89613d8",
   "metadata": {},
   "outputs": [
    {
     "name": "stdout",
     "output_type": "stream",
     "text": [
      "<class 'set'>\n"
     ]
    }
   ],
   "source": [
    "#Example:\n",
    "myset= {10,20,30,40,50}\n",
    "print(type(myset))"
   ]
  },
  {
   "cell_type": "code",
   "execution_count": null,
   "id": "a1355e59",
   "metadata": {},
   "outputs": [],
   "source": []
  },
  {
   "cell_type": "code",
   "execution_count": null,
   "id": "bc9c6a5a",
   "metadata": {},
   "outputs": [],
   "source": []
  },
  {
   "cell_type": "markdown",
   "id": "8504443f",
   "metadata": {},
   "source": [
    "### Access Items:\n",
    "You cannot access items in a set by referring to an index or a key.     \n",
    "But you can loop through the set items using a for loop, or ask if a specified value is present in a set, by using the in keyword."
   ]
  },
  {
   "cell_type": "code",
   "execution_count": 5,
   "id": "28d02353",
   "metadata": {},
   "outputs": [
    {
     "ename": "TypeError",
     "evalue": "'set' object is not subscriptable",
     "output_type": "error",
     "traceback": [
      "\u001b[1;31m---------------------------------------------------------------------------\u001b[0m",
      "\u001b[1;31mTypeError\u001b[0m                                 Traceback (most recent call last)",
      "Input \u001b[1;32mIn [5]\u001b[0m, in \u001b[0;36m<cell line: 2>\u001b[1;34m()\u001b[0m\n\u001b[0;32m      1\u001b[0m s1 \u001b[38;5;241m=\u001b[39m {\u001b[38;5;241m1\u001b[39m,\u001b[38;5;241m2\u001b[39m,\u001b[38;5;241m3\u001b[39m,\u001b[38;5;241m4\u001b[39m}\n\u001b[1;32m----> 2\u001b[0m \u001b[43ms1\u001b[49m\u001b[43m[\u001b[49m\u001b[38;5;241;43m0\u001b[39;49m\u001b[43m]\u001b[49m\n",
      "\u001b[1;31mTypeError\u001b[0m: 'set' object is not subscriptable"
     ]
    }
   ],
   "source": [
    "s1 = {1,2,3,4}\n",
    "s1[0]"
   ]
  },
  {
   "cell_type": "code",
   "execution_count": 6,
   "id": "13aee6a0",
   "metadata": {},
   "outputs": [
    {
     "ename": "TypeError",
     "evalue": "'set' object is not subscriptable",
     "output_type": "error",
     "traceback": [
      "\u001b[1;31m---------------------------------------------------------------------------\u001b[0m",
      "\u001b[1;31mTypeError\u001b[0m                                 Traceback (most recent call last)",
      "Input \u001b[1;32mIn [6]\u001b[0m, in \u001b[0;36m<cell line: 2>\u001b[1;34m()\u001b[0m\n\u001b[0;32m      1\u001b[0m s1 \u001b[38;5;241m=\u001b[39m {\u001b[38;5;241m1\u001b[39m,\u001b[38;5;241m2\u001b[39m,\u001b[38;5;241m3\u001b[39m,\u001b[38;5;241m4\u001b[39m}\n\u001b[1;32m----> 2\u001b[0m \u001b[43ms1\u001b[49m\u001b[43m[\u001b[49m\u001b[38;5;241;43m0\u001b[39;49m\u001b[43m:\u001b[49m\u001b[38;5;241;43m3\u001b[39;49m\u001b[43m]\u001b[49m\n",
      "\u001b[1;31mTypeError\u001b[0m: 'set' object is not subscriptable"
     ]
    }
   ],
   "source": [
    "s1 = {1,2,3,4}\n",
    "s1[0:3]"
   ]
  },
  {
   "cell_type": "code",
   "execution_count": null,
   "id": "540ee861",
   "metadata": {},
   "outputs": [],
   "source": []
  },
  {
   "cell_type": "markdown",
   "id": "648c43a0",
   "metadata": {},
   "source": [
    "### Editing Items"
   ]
  },
  {
   "cell_type": "code",
   "execution_count": 7,
   "id": "951be6cd",
   "metadata": {},
   "outputs": [
    {
     "ename": "TypeError",
     "evalue": "'set' object does not support item assignment",
     "output_type": "error",
     "traceback": [
      "\u001b[1;31m---------------------------------------------------------------------------\u001b[0m",
      "\u001b[1;31mTypeError\u001b[0m                                 Traceback (most recent call last)",
      "Input \u001b[1;32mIn [7]\u001b[0m, in \u001b[0;36m<cell line: 2>\u001b[1;34m()\u001b[0m\n\u001b[0;32m      1\u001b[0m s1 \u001b[38;5;241m=\u001b[39m {\u001b[38;5;241m1\u001b[39m,\u001b[38;5;241m2\u001b[39m,\u001b[38;5;241m3\u001b[39m,\u001b[38;5;241m4\u001b[39m}\n\u001b[1;32m----> 2\u001b[0m s1[\u001b[38;5;241m0\u001b[39m] \u001b[38;5;241m=\u001b[39m \u001b[38;5;241m100\u001b[39m\n",
      "\u001b[1;31mTypeError\u001b[0m: 'set' object does not support item assignment"
     ]
    }
   ],
   "source": [
    "s1 = {1,2,3,4}\n",
    "s1[0] = 100"
   ]
  },
  {
   "cell_type": "code",
   "execution_count": null,
   "id": "aeaafe08",
   "metadata": {},
   "outputs": [],
   "source": []
  },
  {
   "cell_type": "markdown",
   "id": "edebd7d1",
   "metadata": {},
   "source": [
    "### Adding Items"
   ]
  },
  {
   "cell_type": "markdown",
   "id": "36c824ea",
   "metadata": {},
   "source": [
    "* `add` : This method adds a single element to the set.  \n",
    "* `update` : This method adds multiple elements (from an iterable, such as another set or list) to the set."
   ]
  },
  {
   "cell_type": "code",
   "execution_count": 8,
   "id": "d58da7b0",
   "metadata": {},
   "outputs": [
    {
     "name": "stdout",
     "output_type": "stream",
     "text": [
      "{1, 2, 3, 4}\n"
     ]
    }
   ],
   "source": [
    "my_set = {1, 2, 3}\n",
    "my_set.add(4)\n",
    "print(my_set)  # Output: {1, 2, 3, 4}"
   ]
  },
  {
   "cell_type": "code",
   "execution_count": 9,
   "id": "89f4486e",
   "metadata": {},
   "outputs": [
    {
     "name": "stdout",
     "output_type": "stream",
     "text": [
      "{1, 2, 3, 4, 5}\n"
     ]
    }
   ],
   "source": [
    "my_set = {1, 2, 3}\n",
    "my_set.update({4, 5})\n",
    "print(my_set)  # Output: {1, 2, 3, 4, 5}"
   ]
  },
  {
   "cell_type": "code",
   "execution_count": null,
   "id": "47eb188e",
   "metadata": {},
   "outputs": [],
   "source": []
  },
  {
   "cell_type": "markdown",
   "id": "1bebada9",
   "metadata": {},
   "source": [
    "### Deleting Items"
   ]
  },
  {
   "cell_type": "markdown",
   "id": "bf7d5c6e",
   "metadata": {},
   "source": [
    "* `del` : This keyword is used to delete an entire set or an individual element from the set.    \n",
    "* `discard` : This method removes a specified element from the set if it exists. If the element is not present in the set, it does nothing.     \n",
    "* `remove` : This method removes a specified element from the set. If the element is not found, it raises a KeyError.    \n",
    "* `pop` : This method removes and returns an arbitrary element from the set. Since sets are unordered, the popped element is not necessarily the first or last element.   \n",
    "* `clear` : This method removes all elements from the set, making it an empty set."
   ]
  },
  {
   "cell_type": "code",
   "execution_count": 10,
   "id": "cb1d8b39",
   "metadata": {},
   "outputs": [
    {
     "ename": "NameError",
     "evalue": "name 'my_set' is not defined",
     "output_type": "error",
     "traceback": [
      "\u001b[1;31m---------------------------------------------------------------------------\u001b[0m",
      "\u001b[1;31mNameError\u001b[0m                                 Traceback (most recent call last)",
      "Input \u001b[1;32mIn [10]\u001b[0m, in \u001b[0;36m<cell line: 3>\u001b[1;34m()\u001b[0m\n\u001b[0;32m      1\u001b[0m my_set \u001b[38;5;241m=\u001b[39m {\u001b[38;5;241m1\u001b[39m, \u001b[38;5;241m2\u001b[39m, \u001b[38;5;241m3\u001b[39m, \u001b[38;5;241m4\u001b[39m, \u001b[38;5;241m5\u001b[39m}\n\u001b[0;32m      2\u001b[0m \u001b[38;5;28;01mdel\u001b[39;00m my_set  \u001b[38;5;66;03m# This will delete the entire set.\u001b[39;00m\n\u001b[1;32m----> 3\u001b[0m \u001b[38;5;28mprint\u001b[39m(\u001b[43mmy_set\u001b[49m)\n",
      "\u001b[1;31mNameError\u001b[0m: name 'my_set' is not defined"
     ]
    }
   ],
   "source": [
    "my_set = {1, 2, 3, 4, 5}\n",
    "del my_set  # This will delete the entire set.\n",
    "print(my_set)"
   ]
  },
  {
   "cell_type": "code",
   "execution_count": 11,
   "id": "ba0c16c1",
   "metadata": {},
   "outputs": [
    {
     "name": "stdout",
     "output_type": "stream",
     "text": [
      "{1, 2, 4, 5}\n"
     ]
    }
   ],
   "source": [
    "my_set = {1, 2, 3, 4, 5}\n",
    "my_set.discard(3)\n",
    "print(my_set)  # Output: {1, 2, 4, 5}"
   ]
  },
  {
   "cell_type": "code",
   "execution_count": 12,
   "id": "2ebcc0a2",
   "metadata": {},
   "outputs": [
    {
     "name": "stdout",
     "output_type": "stream",
     "text": [
      "1\n"
     ]
    }
   ],
   "source": [
    "my_set = {1, 2, 3, 4, 5}\n",
    "popped_element = my_set.pop()\n",
    "print(popped_element)  # Output: Any one of the elements in the set, e.g., 1, 2, 3, 4, or 5."
   ]
  },
  {
   "cell_type": "code",
   "execution_count": 14,
   "id": "26b1c621",
   "metadata": {},
   "outputs": [
    {
     "name": "stdout",
     "output_type": "stream",
     "text": [
      "{1, 2, 4, 5}\n"
     ]
    }
   ],
   "source": [
    "my_set = {1, 2, 3, 4, 5}\n",
    "my_set.remove(3)\n",
    "print(my_set)  # Output: {1, 2, 4, 5}"
   ]
  },
  {
   "cell_type": "code",
   "execution_count": 15,
   "id": "f568fec7",
   "metadata": {},
   "outputs": [
    {
     "name": "stdout",
     "output_type": "stream",
     "text": [
      "set()\n"
     ]
    }
   ],
   "source": [
    "my_set = {1, 2, 3, 4, 5}\n",
    "my_set.clear()\n",
    "print(my_set)  # Output: set()"
   ]
  },
  {
   "cell_type": "code",
   "execution_count": null,
   "id": "860b796e",
   "metadata": {},
   "outputs": [],
   "source": []
  },
  {
   "cell_type": "markdown",
   "id": "64a0071c",
   "metadata": {},
   "source": [
    "### Set Operation :"
   ]
  },
  {
   "cell_type": "code",
   "execution_count": 16,
   "id": "74963636",
   "metadata": {},
   "outputs": [
    {
     "name": "stdout",
     "output_type": "stream",
     "text": [
      "1\n",
      "2\n",
      "3\n",
      "4\n",
      "5\n"
     ]
    }
   ],
   "source": [
    "s1 = {1,2,3,4,5}\n",
    "s2 = {4,5,6,7,8}\n",
    "s1 | s2\n",
    "# Union(|)\n",
    "# Intersection(&)\n",
    "s1 & s2\n",
    "# Difference(-)\n",
    "s1 - s2\n",
    "s2 - s1\n",
    "# Symmetric Difference(^)\n",
    "s1 ^ s2\n",
    "# Membership Test\n",
    "1 not in s1\n",
    "# Iteration\n",
    "for i in s1:\n",
    "  print(i)"
   ]
  },
  {
   "cell_type": "code",
   "execution_count": null,
   "id": "f8fc4063",
   "metadata": {},
   "outputs": [],
   "source": []
  },
  {
   "cell_type": "markdown",
   "id": "1a3b2aea",
   "metadata": {},
   "source": [
    "### Built-in Methods/Function :"
   ]
  },
  {
   "cell_type": "markdown",
   "id": "5899bac6",
   "metadata": {},
   "source": [
    "* len: This function returns the number of elements in the set. \n",
    "* sum: This function returns the sum of all elements in the set (applicable only to numeric elements). \n",
    "* min: This function returns the smallest element in the set.  \n",
    "* max: This function returns the largest element in the set.  \n",
    "* sorted: This function returns a new list containing the elements of the set in sorted order."
   ]
  },
  {
   "cell_type": "code",
   "execution_count": 17,
   "id": "d60b28c4",
   "metadata": {},
   "outputs": [
    {
     "name": "stdout",
     "output_type": "stream",
     "text": [
      "5\n"
     ]
    }
   ],
   "source": [
    "my_set = {1, 2, 3, 4, 5}\n",
    "length = len(my_set)\n",
    "print(length)  # Output: 5"
   ]
  },
  {
   "cell_type": "code",
   "execution_count": 18,
   "id": "6feb4b82",
   "metadata": {},
   "outputs": [
    {
     "name": "stdout",
     "output_type": "stream",
     "text": [
      "15\n"
     ]
    }
   ],
   "source": [
    "my_set = {1, 2, 3, 4, 5}\n",
    "total_sum = sum(my_set)\n",
    "print(total_sum)  # Output: 15"
   ]
  },
  {
   "cell_type": "code",
   "execution_count": 19,
   "id": "5c64adf4",
   "metadata": {},
   "outputs": [
    {
     "name": "stdout",
     "output_type": "stream",
     "text": [
      "1\n"
     ]
    }
   ],
   "source": [
    "my_set = {3, 1, 4, 2, 5}\n",
    "minimum = min(my_set)\n",
    "print(minimum)  # Output: 1"
   ]
  },
  {
   "cell_type": "code",
   "execution_count": 20,
   "id": "7eaeae5a",
   "metadata": {},
   "outputs": [
    {
     "name": "stdout",
     "output_type": "stream",
     "text": [
      "5\n"
     ]
    }
   ],
   "source": [
    "my_set = {3, 1, 4, 2, 5}\n",
    "maximum = max(my_set)\n",
    "print(maximum)  # Output: 5"
   ]
  },
  {
   "cell_type": "code",
   "execution_count": 21,
   "id": "3b775d3e",
   "metadata": {},
   "outputs": [
    {
     "name": "stdout",
     "output_type": "stream",
     "text": [
      "[1, 2, 3, 4, 5]\n"
     ]
    }
   ],
   "source": [
    "my_set = {3, 1, 4, 2, 5}\n",
    "sorted_list = sorted(my_set)\n",
    "print(sorted_list)  # Output: [1, 2, 3, 4, 5]"
   ]
  },
  {
   "cell_type": "code",
   "execution_count": null,
   "id": "7f584ea8",
   "metadata": {},
   "outputs": [],
   "source": []
  },
  {
   "cell_type": "code",
   "execution_count": null,
   "id": "a99ade9d",
   "metadata": {},
   "outputs": [],
   "source": []
  },
  {
   "cell_type": "code",
   "execution_count": null,
   "id": "808c61cc",
   "metadata": {},
   "outputs": [],
   "source": []
  },
  {
   "cell_type": "code",
   "execution_count": null,
   "id": "e533cdbd",
   "metadata": {},
   "outputs": [],
   "source": []
  },
  {
   "cell_type": "markdown",
   "id": "7290891b",
   "metadata": {},
   "source": [
    "* `union` : The union method returns a new set that contains all the unique elements from both sets. It does not modify the original sets\n",
    "* `update` : The update() method is useful when you want to combine the elements of one set with another, and it modifies the original set in place. If you want to create a new set containing the union of two sets without modifying the original sets, you can use the union() method or the | operator, as shown in the comment # s1 | s2.  \n",
    "\n",
    "    "
   ]
  },
  {
   "cell_type": "code",
   "execution_count": 22,
   "id": "393b5613",
   "metadata": {},
   "outputs": [
    {
     "name": "stdout",
     "output_type": "stream",
     "text": [
      "{1, 2, 3, 4, 5}\n"
     ]
    }
   ],
   "source": [
    "set1 = {1, 2, 3}\n",
    "set2 = {3, 4, 5}\n",
    "\n",
    "union_set = set1.union(set2)\n",
    "print(union_set)  # Output: {1, 2, 3, 4, 5}"
   ]
  },
  {
   "cell_type": "code",
   "execution_count": 24,
   "id": "e00e21b2",
   "metadata": {},
   "outputs": [
    {
     "name": "stdout",
     "output_type": "stream",
     "text": [
      "{1, 2, 3, 4, 5, 6, 7, 8}\n",
      "{4, 5, 6, 7, 8}\n"
     ]
    }
   ],
   "source": [
    "s1 = {1,2,3,4,5}\n",
    "s2 = {4,5,6,7,8}\n",
    "\n",
    "# s1 | s2\n",
    "s1.union(s1)\n",
    "\n",
    "s1.update(s2)\n",
    "print(s1)\n",
    "print(s2)"
   ]
  },
  {
   "cell_type": "markdown",
   "id": "e700dc96",
   "metadata": {},
   "source": [
    "### intersection and intersection_update\n",
    "\n",
    "* `intersection` : The intersection method returns a new set that contains the common elements present in both sets. It does not modify the original sets.\n",
    "* `intersection_update` : The intersection_update method updates the set by keeping only the elements that are common in both sets. It modifies the original set."
   ]
  },
  {
   "cell_type": "code",
   "execution_count": 25,
   "id": "cfce4584",
   "metadata": {},
   "outputs": [
    {
     "name": "stdout",
     "output_type": "stream",
     "text": [
      "{4, 5}\n"
     ]
    }
   ],
   "source": [
    "s1 = {1, 2, 3, 4, 5}\n",
    "s2 = {4, 5, 6, 7, 8}\n",
    "\n",
    "intersection_set = s1.intersection(s2)\n",
    "print(intersection_set)  # Output: {4, 5}"
   ]
  },
  {
   "cell_type": "code",
   "execution_count": 26,
   "id": "fb0c00fc",
   "metadata": {},
   "outputs": [
    {
     "name": "stdout",
     "output_type": "stream",
     "text": [
      "{4, 5}\n"
     ]
    }
   ],
   "source": [
    "s1 = {1, 2, 3, 4, 5}\n",
    "s2 = {4, 5, 6, 7, 8}\n",
    "\n",
    "s1.intersection_update(s2)\n",
    "print(s1)  # Output: {4, 5}"
   ]
  },
  {
   "cell_type": "code",
   "execution_count": null,
   "id": "82ac3d18",
   "metadata": {},
   "outputs": [],
   "source": []
  },
  {
   "cell_type": "markdown",
   "id": "cce78ec4",
   "metadata": {},
   "source": [
    "* `difference` : The difference method returns a new set that contains the elements present in the first set but not in the second set. It does not modify the original sets.   \n",
    "* `difference_update` : The difference_update method updates the set by removing elements that are common in both sets. It modifies the original set."
   ]
  },
  {
   "cell_type": "code",
   "execution_count": 27,
   "id": "3afa2128",
   "metadata": {},
   "outputs": [
    {
     "name": "stdout",
     "output_type": "stream",
     "text": [
      "{1, 2, 3}\n"
     ]
    }
   ],
   "source": [
    "s1 = {1, 2, 3, 4, 5}\n",
    "s2 = {4, 5, 6, 7, 8}\n",
    "\n",
    "difference_set = s1.difference(s2)\n",
    "print(difference_set)  # Output: {1, 2, 3}"
   ]
  },
  {
   "cell_type": "code",
   "execution_count": 28,
   "id": "47729473",
   "metadata": {},
   "outputs": [
    {
     "name": "stdout",
     "output_type": "stream",
     "text": [
      "{1, 2, 3}\n"
     ]
    }
   ],
   "source": [
    "s1 = {1, 2, 3, 4, 5}\n",
    "s2 = {4, 5, 6, 7, 8}\n",
    "\n",
    "s1.difference_update(s2)\n",
    "print(s1)  # Output: {1, 2, 3}"
   ]
  },
  {
   "cell_type": "code",
   "execution_count": null,
   "id": "eafe100c",
   "metadata": {},
   "outputs": [],
   "source": []
  },
  {
   "cell_type": "markdown",
   "id": "94cf341e",
   "metadata": {},
   "source": [
    "* `symmetric_difference` : The symmetric_difference method returns a new set that contains the elements present in either of the sets, but not in both sets. It does not modify the original sets.   \n",
    "* `symmetric_difference_update` : The symmetric_difference_update method updates the set by keeping only the elements that are present in either of the sets, but not in both sets. It modifies the original set."
   ]
  },
  {
   "cell_type": "code",
   "execution_count": 29,
   "id": "c999cf34",
   "metadata": {},
   "outputs": [
    {
     "name": "stdout",
     "output_type": "stream",
     "text": [
      "{1, 2, 3, 6, 7, 8}\n"
     ]
    }
   ],
   "source": [
    "s1 = {1, 2, 3, 4, 5}\n",
    "s2 = {4, 5, 6, 7, 8}\n",
    "\n",
    "symmetric_difference_set = s1.symmetric_difference(s2)\n",
    "print(symmetric_difference_set)  # Output: {1, 2, 3, 6, 7, 8}"
   ]
  },
  {
   "cell_type": "code",
   "execution_count": 30,
   "id": "f9cd0557",
   "metadata": {},
   "outputs": [
    {
     "name": "stdout",
     "output_type": "stream",
     "text": [
      "{1, 2, 3, 6, 7, 8}\n"
     ]
    }
   ],
   "source": [
    "s1 = {1, 2, 3, 4, 5}\n",
    "s2 = {4, 5, 6, 7, 8}\n",
    "\n",
    "s1.symmetric_difference_update(s2)\n",
    "print(s1)  # Output: {1, 2, 3, 6, 7, 8}"
   ]
  },
  {
   "cell_type": "code",
   "execution_count": null,
   "id": "c32034a7",
   "metadata": {},
   "outputs": [],
   "source": []
  },
  {
   "cell_type": "markdown",
   "id": "b7bc83c2",
   "metadata": {},
   "source": [
    "* `isdisjoint` : The isdisjoint method returns True if two sets have no common elements, and False otherwise.   \n",
    "* `issubset` : The issubset method returns True if all elements of one set are present in the other set, and False otherwise.  \n",
    "* `issuperset` : The issuperset method returns True if a set contains all elements of another set, and False otherwise."
   ]
  },
  {
   "cell_type": "code",
   "execution_count": 31,
   "id": "5be99f78",
   "metadata": {},
   "outputs": [
    {
     "name": "stdout",
     "output_type": "stream",
     "text": [
      "True\n"
     ]
    }
   ],
   "source": [
    "s1 = {1, 2, 3}\n",
    "s2 = {4, 5, 6}\n",
    "\n",
    "result = s1.isdisjoint(s2)\n",
    "print(result)  # Output: True (since s1 and s2 have no common elements)"
   ]
  },
  {
   "cell_type": "code",
   "execution_count": 32,
   "id": "aab6aeb2",
   "metadata": {},
   "outputs": [
    {
     "name": "stdout",
     "output_type": "stream",
     "text": [
      "True\n"
     ]
    }
   ],
   "source": [
    "s1 = {1, 2}\n",
    "s2 = {1, 2, 3, 4, 5}\n",
    "\n",
    "result = s1.issubset(s2)\n",
    "print(result)  # Output: True (s1 is a subset of s2)"
   ]
  },
  {
   "cell_type": "code",
   "execution_count": 33,
   "id": "6151e92c",
   "metadata": {},
   "outputs": [
    {
     "name": "stdout",
     "output_type": "stream",
     "text": [
      "True\n"
     ]
    }
   ],
   "source": [
    "s1 = {1, 2, 3, 4, 5}\n",
    "s2 = {1, 2}\n",
    "\n",
    "result = s1.issuperset(s2)\n",
    "print(result)  # Output: True (s1 is a superset of s2)"
   ]
  },
  {
   "cell_type": "code",
   "execution_count": 34,
   "id": "abe9cb13",
   "metadata": {},
   "outputs": [
    {
     "name": "stdout",
     "output_type": "stream",
     "text": [
      "{2, 4}\n",
      "{1, 2, 3, 4, 5, 6, 8, 10}\n",
      "{1, 2, 3, 4, 5, 6, 7, 8, 9, 10}\n",
      "set()\n",
      "set()\n"
     ]
    }
   ],
   "source": [
    "#Intersection and Union\n",
    "set_U = {1,2,3,4,5,6,7,8,9,10}\n",
    "\n",
    "A = {1,2,3,4,5}\n",
    "B = {2,4,6,8,10}\n",
    "C = {1,3,5,7,9}\n",
    "\n",
    "output_1 = A.intersection(B)\n",
    "print(output_1)\n",
    "\n",
    "output_2 = A.union(B)\n",
    "print(output_2)\n",
    "\n",
    "output_3 = B.union(C)\n",
    "print(output_3)\n",
    "\n",
    "output_4 = B.intersection(C)\n",
    "print(output_4)\n",
    "\n",
    "output_5 = A.intersection(B).intersection(C)\n",
    "print(output_5)"
   ]
  },
  {
   "cell_type": "code",
   "execution_count": null,
   "id": "3b4b98cb",
   "metadata": {},
   "outputs": [],
   "source": []
  },
  {
   "cell_type": "code",
   "execution_count": null,
   "id": "66d98ed5",
   "metadata": {},
   "outputs": [],
   "source": []
  },
  {
   "cell_type": "markdown",
   "id": "d47082c7",
   "metadata": {},
   "source": [
    "### Frozen Set: \n",
    "\n",
    "* In Python, a frozenset is an immutable version of a set. \n",
    "* It is created using the built-in function `frozenset()`.\n",
    "* It is similar to a regular set, but once created, its elements cannot be modified, added, or removed. In other words, a frozenset is a hashable, unchangeable set."
   ]
  },
  {
   "cell_type": "markdown",
   "id": "39d6b7e7",
   "metadata": {},
   "source": [
    "### Features of frozen sets :\n",
    "Here are the features of frozen sets in Python:\n",
    "\n",
    "1. Immutable:\n",
    "   - Frozen sets are immutable, meaning you cannot add, remove, or modify elements after the frozen set is created.\n",
    "   - This immutability guarantees that the elements of a frozen set remain constant throughout its lifetime.\n",
    "\n",
    "2. Unique Elements:\n",
    "   - Like sets, frozen sets store only unique elements.\n",
    "   - Duplicate elements are automatically eliminated when creating a frozen set, resulting in a collection of distinct elements.\n",
    "\n",
    "3. Hashable:\n",
    "   - Frozen sets are hashable, meaning they can be used as elements within other sets or dictionaries.\n",
    "   - The immutability of frozen sets ensures that their hash values remain constant, making them suitable for use as dictionary keys or elements in other data structures.\n",
    "\n",
    "4. Set Operations:\n",
    "   - Frozen sets support set operations such as union, intersection, difference, and symmetric difference.\n",
    "   - These operations can be performed between frozen sets or between a frozen set and a regular set.\n",
    "\n",
    "5. Membership Testing:\n",
    "   - Similar to sets, frozen sets provide fast membership testing operations using the `in` keyword.\n",
    "   - You can efficiently check if an element exists in a frozen set.\n",
    "\n",
    "6. Iteration:\n",
    "   - Frozen sets can be iterated over to access their elements.\n",
    "   - You can use loops or other iterable operations to process the elements of a frozen set.\n",
    "\n",
    "7. Memory Efficiency:\n",
    "   - Frozen sets are memory-efficient compared to regular sets.\n",
    "   - Since frozen sets are immutable, they do not require additional memory to support modification operations, resulting in a more compact memory footprint.\n",
    "\n",
    "8. Use Cases:\n",
    "   - Frozen sets are commonly used in situations where you need an immutable collection of distinct elements.\n",
    "   - They are useful when you want to use a set as a key in a dictionary or as an element within another set."
   ]
  },
  {
   "cell_type": "code",
   "execution_count": 35,
   "id": "f76ac901",
   "metadata": {},
   "outputs": [],
   "source": [
    "# create frozenset\n",
    "fs1 = frozenset([1,2,3])\n",
    "fs2 = frozenset([3,4,5])"
   ]
  },
  {
   "cell_type": "code",
   "execution_count": 36,
   "id": "98eafa35",
   "metadata": {},
   "outputs": [
    {
     "data": {
      "text/plain": [
       "frozenset({1, 2, 3, 4, 5})"
      ]
     },
     "execution_count": 36,
     "metadata": {},
     "output_type": "execute_result"
    }
   ],
   "source": [
    "# Union \n",
    "fs1 | fs2"
   ]
  },
  {
   "cell_type": "code",
   "execution_count": 37,
   "id": "9081e38a",
   "metadata": {},
   "outputs": [],
   "source": [
    "# what works and what does not\n",
    "# works -> all read functions\n",
    "# does't work -> write operations (function that can change set- like pop, add etc.)"
   ]
  },
  {
   "cell_type": "code",
   "execution_count": 38,
   "id": "64d07842",
   "metadata": {},
   "outputs": [
    {
     "data": {
      "text/plain": [
       "frozenset({1, 2, frozenset({3, 4})})"
      ]
     },
     "execution_count": 38,
     "metadata": {},
     "output_type": "execute_result"
    }
   ],
   "source": [
    "# When to use\n",
    "# 2D sets\n",
    "fs = frozenset([1,2,frozenset([3,4])])\n",
    "fs"
   ]
  },
  {
   "cell_type": "code",
   "execution_count": null,
   "id": "953c79e2",
   "metadata": {},
   "outputs": [],
   "source": []
  },
  {
   "cell_type": "markdown",
   "id": "f27f7844",
   "metadata": {},
   "source": [
    "### Aplication of frozen set :\n",
    "The frozen set data type in Python finds its application in various scenarios where an immutable collection of unique elements is required. Here are some common use cases for frozen sets:\n",
    "\n",
    "1. Dictionary Keys:\n",
    "   - Since frozen sets are hashable and immutable, they can be used as keys in dictionaries.\n",
    "   - Frozen sets provide a convenient way to create composite keys by combining multiple elements into a single immutable entity.\n",
    "\n",
    "2. Set Operations with Immutable Data:\n",
    "   - Frozen sets can be used to perform set operations with other sets or frozen sets.\n",
    "   - You can compute the union, intersection, difference, or symmetric difference between frozen sets, enabling efficient manipulation and comparison of unique collections.\n",
    "\n",
    "3. Caching and Memoization:\n",
    "   - Frozen sets can be used as keys in caching or memoization techniques.\n",
    "   - By storing the results of expensive computations or function calls with frozen sets as keys, you can avoid recomputing the same results when the same inputs are encountered again.\n",
    "\n",
    "4. Membership Testing and Lookup Optimization:\n",
    "   - Frozen sets are efficient for membership testing due to their immutability and constant hash values.\n",
    "   - You can use frozen sets to store a large number of unique elements and quickly check if a given element is present, reducing lookup time compared to iterating over a list or performing other data structures.\n",
    "\n",
    "5. Data Integrity and Immutability Requirements:\n",
    "   - In certain scenarios, it is important to ensure that a collection of elements remains constant and cannot be modified.\n",
    "   - Frozen sets guarantee the immutability of their elements, providing a safeguard against accidental modifications.\n",
    "\n",
    "6. Set-Based Comparison and Analysis:\n",
    "   - Frozen sets can be used to compare or analyze sets of unique elements.\n",
    "   - They enable operations like finding common elements, unique elements, or differences between multiple sets without the risk of altering the original sets.\n",
    "\n",
    "7. Functional Programming:\n",
    "   - In functional programming paradigms, immutability is a key principle.\n",
    "   - Frozen sets align with the immutability requirement and can be used to store and pass around immutable collections of unique elements."
   ]
  },
  {
   "cell_type": "markdown",
   "id": "8a2acbf2",
   "metadata": {},
   "source": [
    "### Difference between set and frozen set\n",
    "The main difference between a set and a frozen set in Python lies in their mutability and immutability. Here are the key distinctions:\n",
    "\n",
    "1. Mutability:\n",
    "   - Sets: Sets are mutable, meaning you can add, remove, or modify elements after the set is created.\n",
    "   - Frozen Sets: Frozen sets are immutable, and their elements cannot be modified once the frozen set is created. Frozen sets are read-only.\n",
    "\n",
    "2. Element Modification:\n",
    "   - Sets: Elements in a set can be added, removed, or updated using methods like `add()`, `remove()`, and `update()`.\n",
    "   - Frozen Sets: Elements in a frozen set cannot be modified once the frozen set is created. Any attempt to add, remove, or update elements will result in an error.\n",
    "\n",
    "3. Hashability:\n",
    "   - Sets: Sets are not hashable and cannot be used as elements within other sets or as keys in dictionaries.\n",
    "   - Frozen Sets: Frozen sets are hashable and can be used as elements within other sets or as keys in dictionaries. Their immutability ensures that their hash values remain constant.\n",
    "\n",
    "4. Memory Efficiency:\n",
    "   - Sets: Sets are less memory-efficient compared to frozen sets because they need to support modifications.\n",
    "   - Frozen Sets: Frozen sets are more memory-efficient than sets because they are immutable and do not require additional memory for modification operations.\n",
    "\n",
    "5. Use Cases:\n",
    "   - Sets: Sets are useful when you need a mutable collection of unique elements and want to perform add, remove, or update operations.\n",
    "   - Frozen Sets: Frozen sets are valuable when you require an immutable collection of unique elements and want to use them as keys in dictionaries, ensure data integrity, perform set operations, or optimize lookup."
   ]
  },
  {
   "cell_type": "code",
   "execution_count": null,
   "id": "5134c61b",
   "metadata": {},
   "outputs": [],
   "source": []
  },
  {
   "cell_type": "code",
   "execution_count": null,
   "id": "fe4c4194",
   "metadata": {},
   "outputs": [],
   "source": []
  },
  {
   "cell_type": "code",
   "execution_count": null,
   "id": "d3009761",
   "metadata": {},
   "outputs": [],
   "source": []
  },
  {
   "cell_type": "code",
   "execution_count": null,
   "id": "155ae752",
   "metadata": {},
   "outputs": [],
   "source": []
  }
 ],
 "metadata": {
  "kernelspec": {
   "display_name": "Python 3 (ipykernel)",
   "language": "python",
   "name": "python3"
  },
  "language_info": {
   "codemirror_mode": {
    "name": "ipython",
    "version": 3
   },
   "file_extension": ".py",
   "mimetype": "text/x-python",
   "name": "python",
   "nbconvert_exporter": "python",
   "pygments_lexer": "ipython3",
   "version": "3.9.12"
  }
 },
 "nbformat": 4,
 "nbformat_minor": 5
}
