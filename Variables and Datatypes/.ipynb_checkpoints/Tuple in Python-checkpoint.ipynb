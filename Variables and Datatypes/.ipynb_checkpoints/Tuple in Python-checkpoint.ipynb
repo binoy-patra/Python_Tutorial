{
 "cells": [
  {
   "cell_type": "markdown",
   "id": "e2ec442a",
   "metadata": {},
   "source": [
    "## Tuple"
   ]
  },
  {
   "cell_type": "markdown",
   "id": "ee60ad1f",
   "metadata": {},
   "source": [
    "### Tuple :\n",
    "\n",
    "* Tuples are used to store multiple items in a single variable. \n",
    "* A tuple can contain different data types same as Python List. Tuple is an ordered, immutable collection of elements. \n",
    "* In short, a tuple is an immutable list. A tuple can not be changed in any way once it is created.\n",
    "* You would use tuples to present things that shouldn't be changed, such as days of the week, or dates on a calendar."
   ]
  },
  {
   "cell_type": "markdown",
   "id": "28058aa5",
   "metadata": {},
   "source": [
    "### Features of tuples in Python:\n",
    "\n",
    "1. **Ordered Collection:**\n",
    "   - Tuples maintain the order of elements in which they were defined.\n",
    "   - The order of elements in a tuple is preserved, and you can access elements by their index.\n",
    "\n",
    "2. **Immutable:**\n",
    "   - Tuples are immutable, meaning their elements cannot be modified or changed after creation.\n",
    "   - Once a tuple is created, you cannot add, remove, or modify elements.\n",
    "\n",
    "3. **Heterogeneous Elements:**\n",
    "   - Tuples can store elements of different data types, including numbers, strings, booleans, and even other tuples.\n",
    "   - You can mix different data types within a single tuple.\n",
    "\n",
    "4. **Tuple Creation:**\n",
    "   - Tuples are created by enclosing comma-separated elements within parentheses `( )`.\n",
    "   - Example: `my_tuple = (1, \"Hello\", True, 3.14)`\n",
    "\n",
    "5. **Element Access:**\n",
    "   - Elements of a tuple can be accessed using indexing or slicing.\n",
    "   - You can retrieve specific elements or extract subsets of elements from a tuple.\n",
    "\n",
    "6. **Hashable:**\n",
    "   - Tuples are hashable, meaning they can be used as dictionary keys or elements within other sets or dictionaries.\n",
    "   - The immutability of tuples ensures their hash values remain constant.\n",
    "\n",
    "7. **Iteration:**\n",
    "   - Tuples can be iterated over using loops or other iterable operations.\n",
    "   - You can process each element of a tuple in a sequential manner.\n",
    "\n",
    "8. **Memory Efficiency:**\n",
    "   - Tuples are memory-efficient compared to lists because they are immutable.\n",
    "   - Tuples do not require additional memory to support modification operations, resulting in a more compact memory footprint.\n",
    "\n",
    "9. **Use Cases:**\n",
    "   - Tuples are useful when you need an ordered collection of elements that should not be modified after creation.\n",
    "   - They are commonly used to represent fixed data structures, such as coordinates, database records, or return values from functions.\n",
    "\n",
    "10. **Tuple Packing and Unpacking:**\n",
    "    - Tuples support packing and unpacking operations.\n",
    "    - Packing refers to creating a tuple by enclosing comma-separated values, while unpacking allows assigning tuple elements to separate variables."
   ]
  },
  {
   "cell_type": "markdown",
   "id": "73ad6166",
   "metadata": {},
   "source": [
    "### Application of tuple\n",
    "\n",
    "Tuples in Python have several applications in various domains. Here are some common use cases for tuples:\n",
    "\n",
    "1. **Data Structures:**\n",
    "   - Tuples can be used to represent structured data, such as coordinates, points, or records.\n",
    "   - For example, you can use a tuple to store the latitude and longitude of a location.\n",
    "\n",
    "2. **Function Return Values:**\n",
    "   - Functions can return multiple values as a tuple.\n",
    "   - Tuples allow you to bundle multiple values together and return them as a single entity.\n",
    "\n",
    "3. **Function Arguments:**\n",
    "   - Tuples can be used to pass multiple arguments to a function as a single parameter.\n",
    "   - This can be useful when you want to pass related values together without explicitly defining separate parameters.\n",
    "\n",
    "4. **Immutable Keys in Dictionaries:**\n",
    "   - Tuples are hashable and can be used as keys in dictionaries.\n",
    "   - Since tuples are immutable, they can serve as keys that remain constant and preserve the integrity of the dictionary.\n",
    "\n",
    "5. **Multiple Assignment and Unpacking:**\n",
    "   - Tuples support multiple assignment and unpacking, allowing you to assign multiple values to multiple variables simultaneously.\n",
    "   - This feature is useful when working with functions that return multiple values or when swapping variable values.\n",
    "\n",
    "6. **Caching and Memoization:**\n",
    "   - Tuples can be used as keys in caching or memoization techniques.\n",
    "   - By storing the results of expensive computations or function calls with tuple keys, you can cache the results and avoid recomputation when the same inputs are encountered again.\n",
    "\n",
    "7. **Named Tuples:**\n",
    "   - The `collections` module in Python provides a `namedtuple` function that creates named tuples.\n",
    "   - Named tuples allow you to define a new type with named fields, making the code more readable and self-explanatory.\n",
    "\n",
    "8. **Iteration and Unpacking:**\n",
    "   - Tuples can be iterated over using loops, enabling you to process each element of the tuple sequentially.\n",
    "   - Unpacking allows you to assign tuple elements to separate variables, making it easier to work with the individual values."
   ]
  },
  {
   "cell_type": "code",
   "execution_count": null,
   "id": "4fefd8cf",
   "metadata": {},
   "outputs": [],
   "source": []
  },
  {
   "cell_type": "markdown",
   "id": "89b729dc",
   "metadata": {},
   "source": [
    "### Operations:\n",
    "1. Creating a Tuple\n",
    "2. Accessing items \n",
    "3. Editing items\n",
    "4. Adding items\n",
    "5. Deleting items\n",
    "6. Operations on Tuples\n",
    "7. Tuple Functions"
   ]
  },
  {
   "cell_type": "markdown",
   "id": "35fca06a",
   "metadata": {},
   "source": [
    "### Creating Tuples"
   ]
  },
  {
   "cell_type": "code",
   "execution_count": 1,
   "id": "9cfc4bb2",
   "metadata": {},
   "outputs": [
    {
     "name": "stdout",
     "output_type": "stream",
     "text": [
      "()\n",
      "<class 'tuple'>\n",
      "('hello',)\n",
      "<class 'tuple'>\n",
      "(1, 2, 3, 4)\n",
      "(1, 2.5, True, [1, 2, 3])\n",
      "(1, 2, 3, (4, 5))\n"
     ]
    }
   ],
   "source": [
    "# Empty Tuple\n",
    "tuple1 = ()\n",
    "print(tuple1)\n",
    "print(type(tuple1))\n",
    "\n",
    "# create a Tuple with a single item\n",
    "tuple2 = ('hello',)\n",
    "print(tuple2)\n",
    "print(type(tuple2))\n",
    "\n",
    "# Homogenous Tuple\n",
    "tuple3 = (1,2,3,4)\n",
    "print(tuple3)\n",
    "\n",
    "# Hetrogenous Tuple\n",
    "tuple4 = (1,2.5,True,[1,2,3])\n",
    "print(tuple4)\n",
    "\n",
    "# 2D Tuple\n",
    "tuple5 = (1,2,3,(4,5))\n",
    "print(tuple5)"
   ]
  },
  {
   "cell_type": "code",
   "execution_count": 2,
   "id": "eda153af",
   "metadata": {},
   "outputs": [
    {
     "name": "stdout",
     "output_type": "stream",
     "text": [
      "<class 'type'>\n",
      "<class 'tuple'>\n"
     ]
    }
   ],
   "source": [
    "# Using type-casting\n",
    "\n",
    "list1= [1,2,3,4,5,6,7,8,9]     #Creating a list\n",
    "#print(list1)\n",
    "print(type(list))\n",
    "\n",
    "\n",
    "tuple1= tuple(list1)\n",
    "print(type(tuple1))\n",
    "#print(tuple1)"
   ]
  },
  {
   "cell_type": "code",
   "execution_count": null,
   "id": "7bb3e535",
   "metadata": {},
   "outputs": [],
   "source": []
  },
  {
   "cell_type": "code",
   "execution_count": null,
   "id": "480e6ea6",
   "metadata": {},
   "outputs": [],
   "source": []
  },
  {
   "cell_type": "markdown",
   "id": "8d2ffb78",
   "metadata": {},
   "source": [
    "### Accessing Items\n",
    "\n",
    "- Indexing\n",
    "- Slicing"
   ]
  },
  {
   "cell_type": "markdown",
   "id": "804706e6",
   "metadata": {},
   "source": [
    "### Tuple Indexing:\n",
    "\n",
    "* Tuple indexing in Python allows you to access individual elements within a tuple by their position or index. \n",
    "* The index of the first element in a tuple is 0, the index of the second element is 1, and so on. You can use square brackets `[]` and the index value to retrieve a specific element from a tuple. Retrieving values in this way is known as **Positive Indexing**.\n",
    "* You can also use negative indexing to access elements from the end of the tuple. `-1` refers to the last element, `-2` refers to the second-to-last element, and so on. Retrieving values in this way is known as **Negetive Indexing**.\n",
    "* Tuple indexing allows you to retrieve specific elements from a tuple, enabling you to perform operations on individual elements or access data stored within the tuple."
   ]
  },
  {
   "cell_type": "code",
   "execution_count": 3,
   "id": "5aae913a",
   "metadata": {},
   "outputs": [
    {
     "name": "stdout",
     "output_type": "stream",
     "text": [
      "10\n",
      "30\n",
      "50\n"
     ]
    }
   ],
   "source": [
    "# Positive Indexing\n",
    "my_tuple = (10, 20, 30, 40, 50)\n",
    "\n",
    "print(my_tuple[0])    # Output: 10\n",
    "print(my_tuple[2])    # Output: 30\n",
    "print(my_tuple[4])    # Output: 50"
   ]
  },
  {
   "cell_type": "code",
   "execution_count": 4,
   "id": "3476824d",
   "metadata": {},
   "outputs": [
    {
     "name": "stdout",
     "output_type": "stream",
     "text": [
      "50\n",
      "30\n"
     ]
    }
   ],
   "source": [
    "# Negetive Indexing\n",
    "my_tuple = (10, 20, 30, 40, 50)\n",
    "\n",
    "print(my_tuple[-1])   # Output: 50 (last element)\n",
    "print(my_tuple[-3])   # Output: 30 (third-to-last element)"
   ]
  },
  {
   "cell_type": "code",
   "execution_count": 5,
   "id": "99fb1bb5",
   "metadata": {},
   "outputs": [
    {
     "name": "stdout",
     "output_type": "stream",
     "text": [
      "apple\n",
      "banana\n",
      "orange\n",
      "guava\n"
     ]
    }
   ],
   "source": [
    "#Access Tuple Items \n",
    "thistuple = (\"apple\", \"banana\", \"cherry\", \"guava\", \"orange\") \n",
    "\n",
    "#Positive indexing\n",
    "print(thistuple[0])\n",
    "print(thistuple[1])\n",
    "\n",
    "#Negetive indexing\n",
    "print(thistuple[-1])\n",
    "print(thistuple[-2])"
   ]
  },
  {
   "cell_type": "code",
   "execution_count": null,
   "id": "901f9147",
   "metadata": {},
   "outputs": [],
   "source": []
  },
  {
   "cell_type": "markdown",
   "id": "464be6df",
   "metadata": {},
   "source": [
    "### Tuple Slicing:\n",
    "\n",
    "* le slicing in Python refers to the process of extracting a portion or subsequence of elements from a tuple. \n",
    "* It allows you to create a new tuple by specifying a range of indices to include in the slice.\n",
    "* The general syntax for tuple slicing is `tuple[start:end:step]`, where:\n",
    "    - `start` is the index of the first element to include in the slice (inclusive).\n",
    "    - `end` is the index of the last element to include in the slice (exclusive).\n",
    "    - `step` is an optional parameter that specifies the increment between elements. It defaults to 1.\n",
    "* Tuple slicing allows you to extract sub-tuples, create new tuples, and manipulate tuple data in various ways. It is a powerful technique for working with tuples and enables you to efficiently access and process elements based on their indices.\n"
   ]
  },
  {
   "cell_type": "code",
   "execution_count": 6,
   "id": "2eebf376",
   "metadata": {},
   "outputs": [
    {
     "name": "stdout",
     "output_type": "stream",
     "text": [
      "(20, 30, 40)\n",
      "(10, 20, 30)\n",
      "(40, 50, 60, 70)\n",
      "(10, 20, 30, 40, 50, 60)\n",
      "(40, 50, 60)\n",
      "(10, 30, 50, 70)\n",
      "(70, 60, 50, 40, 30, 20, 10)\n"
     ]
    }
   ],
   "source": [
    "# Examples Tuple slicing\n",
    "my_tuple = (10, 20, 30, 40, 50, 60, 70)\n",
    "\n",
    "print(my_tuple[1:4])        # Output: (20, 30, 40)\n",
    "print(my_tuple[:3])         # Output: (10, 20, 30)\n",
    "print(my_tuple[3:])         # Output: (40, 50, 60, 70)\n",
    "print(my_tuple[:-1])        # Output: (10, 20, 30, 40, 50, 60)\n",
    "print(my_tuple[-4:-1])      # Output: (40, 50, 60)\n",
    "print(my_tuple[::2])        # Output: (10, 30, 50, 70)\n",
    "print(my_tuple[::-1])       # Output: (70, 60, 50, 40, 30, 20, 10)"
   ]
  },
  {
   "cell_type": "code",
   "execution_count": null,
   "id": "bedad173",
   "metadata": {},
   "outputs": [],
   "source": []
  },
  {
   "cell_type": "code",
   "execution_count": null,
   "id": "0d342e63",
   "metadata": {},
   "outputs": [],
   "source": []
  },
  {
   "cell_type": "markdown",
   "id": "41298845",
   "metadata": {},
   "source": [
    "### Update Tuples:\n",
    "Tuples are unchangeable, meaning that you cannot change, add, or remove items once the tuple is created.     \n",
    "But there are some workarounds.\n",
    "1. Convert into a list:\n",
    "Just like the workaround for changing a tuple, you can convert it into a list, add your item(s) using built-in methods of list , and convert it back into a tuple.\n",
    "\n",
    "2. Add tuple to a tuple:\n",
    "You are allowed to add tuples to tuples, so if you  want to add one item, (or many), create a new tuple with the item(s), and \n",
    "add it to the existing tuple"
   ]
  },
  {
   "cell_type": "code",
   "execution_count": 7,
   "id": "41b27b8d",
   "metadata": {},
   "outputs": [
    {
     "ename": "TypeError",
     "evalue": "'tuple' object does not support item assignment",
     "output_type": "error",
     "traceback": [
      "\u001b[1;31m---------------------------------------------------------------------------\u001b[0m",
      "\u001b[1;31mTypeError\u001b[0m                                 Traceback (most recent call last)",
      "Input \u001b[1;32mIn [7]\u001b[0m, in \u001b[0;36m<cell line: 3>\u001b[1;34m()\u001b[0m\n\u001b[0;32m      1\u001b[0m \u001b[38;5;66;03m# immutable just like strings\u001b[39;00m\n\u001b[0;32m      2\u001b[0m tuple3 \u001b[38;5;241m=\u001b[39m (\u001b[38;5;241m1\u001b[39m,\u001b[38;5;241m2\u001b[39m,\u001b[38;5;241m3\u001b[39m,\u001b[38;5;241m4\u001b[39m)\n\u001b[1;32m----> 3\u001b[0m tuple3[\u001b[38;5;241m0\u001b[39m] \u001b[38;5;241m=\u001b[39m \u001b[38;5;241m100\u001b[39m\n",
      "\u001b[1;31mTypeError\u001b[0m: 'tuple' object does not support item assignment"
     ]
    }
   ],
   "source": [
    "# immutable just like strings\n",
    "tuple3 = (1,2,3,4)\n",
    "tuple3[0] = 100"
   ]
  },
  {
   "cell_type": "code",
   "execution_count": 8,
   "id": "fcbbca24",
   "metadata": {},
   "outputs": [
    {
     "ename": "TypeError",
     "evalue": "can only concatenate tuple (not \"str\") to tuple",
     "output_type": "error",
     "traceback": [
      "\u001b[1;31m---------------------------------------------------------------------------\u001b[0m",
      "\u001b[1;31mTypeError\u001b[0m                                 Traceback (most recent call last)",
      "Input \u001b[1;32mIn [8]\u001b[0m, in \u001b[0;36m<cell line: 4>\u001b[1;34m()\u001b[0m\n\u001b[0;32m      2\u001b[0m thistuple \u001b[38;5;241m=\u001b[39m (\u001b[38;5;124m\"\u001b[39m\u001b[38;5;124mapple\u001b[39m\u001b[38;5;124m\"\u001b[39m, \u001b[38;5;124m\"\u001b[39m\u001b[38;5;124mbanana\u001b[39m\u001b[38;5;124m\"\u001b[39m, \u001b[38;5;124m\"\u001b[39m\u001b[38;5;124mcherry\u001b[39m\u001b[38;5;124m\"\u001b[39m)\n\u001b[0;32m      3\u001b[0m y \u001b[38;5;241m=\u001b[39m (\u001b[38;5;124m\"\u001b[39m\u001b[38;5;124morange\u001b[39m\u001b[38;5;124m\"\u001b[39m)\n\u001b[1;32m----> 4\u001b[0m thistuple \u001b[38;5;241m+\u001b[39m\u001b[38;5;241m=\u001b[39m y \u001b[38;5;66;03m#or thistuple= thistuple + y\u001b[39;00m\n\u001b[0;32m      5\u001b[0m \u001b[38;5;28mprint\u001b[39m(thistuple)\n",
      "\u001b[1;31mTypeError\u001b[0m: can only concatenate tuple (not \"str\") to tuple"
     ]
    }
   ],
   "source": [
    "#Adding two tuples\n",
    "thistuple = (\"apple\", \"banana\", \"cherry\")\n",
    "y = (\"orange\")\n",
    "thistuple += y #or thistuple= thistuple + y\n",
    "print(thistuple)"
   ]
  },
  {
   "cell_type": "code",
   "execution_count": 9,
   "id": "3ba13957",
   "metadata": {},
   "outputs": [
    {
     "name": "stdout",
     "output_type": "stream",
     "text": [
      "(1, 2, 3, 4)\n"
     ]
    },
    {
     "ename": "NameError",
     "evalue": "name 'tuple3' is not defined",
     "output_type": "error",
     "traceback": [
      "\u001b[1;31m---------------------------------------------------------------------------\u001b[0m",
      "\u001b[1;31mNameError\u001b[0m                                 Traceback (most recent call last)",
      "Input \u001b[1;32mIn [9]\u001b[0m, in \u001b[0;36m<cell line: 5>\u001b[1;34m()\u001b[0m\n\u001b[0;32m      3\u001b[0m \u001b[38;5;28mprint\u001b[39m(tuple3)\n\u001b[0;32m      4\u001b[0m \u001b[38;5;28;01mdel\u001b[39;00m tuple3\n\u001b[1;32m----> 5\u001b[0m \u001b[38;5;28mprint\u001b[39m(\u001b[43mtuple3\u001b[49m)\n",
      "\u001b[1;31mNameError\u001b[0m: name 'tuple3' is not defined"
     ]
    }
   ],
   "source": [
    "# Delete\n",
    "tuple3 = (1,2,3,4)\n",
    "print(tuple3)\n",
    "del tuple3\n",
    "print(tuple3)"
   ]
  },
  {
   "cell_type": "code",
   "execution_count": 10,
   "id": "4e35a3cc",
   "metadata": {},
   "outputs": [
    {
     "ename": "TypeError",
     "evalue": "'tuple' object doesn't support item deletion",
     "output_type": "error",
     "traceback": [
      "\u001b[1;31m---------------------------------------------------------------------------\u001b[0m",
      "\u001b[1;31mTypeError\u001b[0m                                 Traceback (most recent call last)",
      "Input \u001b[1;32mIn [10]\u001b[0m, in \u001b[0;36m<cell line: 3>\u001b[1;34m()\u001b[0m\n\u001b[0;32m      1\u001b[0m \u001b[38;5;66;03m# Item-wise delete\u001b[39;00m\n\u001b[0;32m      2\u001b[0m tuple3 \u001b[38;5;241m=\u001b[39m (\u001b[38;5;241m1\u001b[39m,\u001b[38;5;241m2\u001b[39m,\u001b[38;5;241m3\u001b[39m,\u001b[38;5;241m4\u001b[39m)\n\u001b[1;32m----> 3\u001b[0m \u001b[38;5;28;01mdel\u001b[39;00m tuple3[\u001b[38;5;241m-\u001b[39m\u001b[38;5;241m1\u001b[39m]\n",
      "\u001b[1;31mTypeError\u001b[0m: 'tuple' object doesn't support item deletion"
     ]
    }
   ],
   "source": [
    "# Item-wise delete\n",
    "tuple3 = (1,2,3,4)\n",
    "del tuple3[-1]"
   ]
  },
  {
   "cell_type": "code",
   "execution_count": null,
   "id": "3c4fb251",
   "metadata": {},
   "outputs": [],
   "source": []
  },
  {
   "cell_type": "code",
   "execution_count": null,
   "id": "fb26ffd9",
   "metadata": {},
   "outputs": [],
   "source": []
  },
  {
   "cell_type": "markdown",
   "id": "0d5df4a5",
   "metadata": {},
   "source": [
    "### Operations on Tuples"
   ]
  },
  {
   "cell_type": "code",
   "execution_count": 11,
   "id": "7cf1257a",
   "metadata": {},
   "outputs": [
    {
     "name": "stdout",
     "output_type": "stream",
     "text": [
      "(1, 2, 3, 4, 5, 6)\n",
      "(1, 2, 3, 1, 2, 3, 1, 2, 3)\n"
     ]
    }
   ],
   "source": [
    "# Arithmetic Operator\n",
    "# Addition (+)\n",
    "tuple1 = (1, 2, 3)\n",
    "tuple2 = (4, 5, 6)\n",
    "concatenated = tuple1 + tuple2\n",
    "print(concatenated)  # Output: (1, 2, 3, 4, 5, 6)\n",
    "\n",
    "# Multiplication (*)\n",
    "tuple1 = (1, 2, 3)\n",
    "multiplied = tuple1 * 3\n",
    "print(multiplied)  # Output: (1, 2, 3, 1, 2, 3, 1, 2, 3)"
   ]
  },
  {
   "cell_type": "markdown",
   "id": "b494d7e5",
   "metadata": {},
   "source": [
    "The subtraction operator, division and other mathematical operators are not is not directly applicable to tuples as it is primarily used for numerical calculations. \n",
    "It will raise a TypeError if used with tuples."
   ]
  },
  {
   "cell_type": "code",
   "execution_count": 12,
   "id": "fd9006ab",
   "metadata": {},
   "outputs": [
    {
     "name": "stdout",
     "output_type": "stream",
     "text": [
      "True\n",
      "False\n",
      "False\n",
      "True\n"
     ]
    }
   ],
   "source": [
    "# Membership Operator \n",
    "my_tuple = (10, 20, 30, 40, 50)\n",
    "\n",
    "print(20 in my_tuple)       # Output: True\n",
    "print(60 in my_tuple)       # Output: False\n",
    "print(30 not in my_tuple)   # Output: False\n",
    "print(60 not in my_tuple)   # Output: True"
   ]
  },
  {
   "cell_type": "markdown",
   "id": "099becfb",
   "metadata": {},
   "source": [
    "Membership operators are useful for checking the existence or absence of specific elements within a tuple. They allow you to perform conditional checks or make decisions based on the presence or absence of certain elements in a tuple."
   ]
  },
  {
   "cell_type": "markdown",
   "id": "3d1187e5",
   "metadata": {},
   "source": [
    "* Iterating through a tuple in Python allows you to access and process each element of the tuple one by one. \n",
    "* You can use various techniques to iterate through a tuple.\n",
    "* They allow you to access, manipulate, or perform operations on each element of the tuple sequentially.\n",
    "\n",
    "1. **For Loop**: The most common way to iterate through a tuple is by using a `for` loop. The loop iterates over each element in the tuple, allowing you to perform operations on each element."
   ]
  },
  {
   "cell_type": "code",
   "execution_count": 13,
   "id": "837f2a71",
   "metadata": {},
   "outputs": [
    {
     "name": "stdout",
     "output_type": "stream",
     "text": [
      "10\n",
      "20\n",
      "30\n",
      "40\n",
      "50\n"
     ]
    }
   ],
   "source": [
    "my_tuple = (10, 20, 30, 40, 50)\n",
    "\n",
    "for item in my_tuple:\n",
    "    print(item)"
   ]
  },
  {
   "cell_type": "markdown",
   "id": "3f7b3e20",
   "metadata": {},
   "source": [
    "2. **Index-based Loop**: If you also want to access the index of each element while iterating, you can use the built-in `enumerate()` function. It returns an iterator of tuples containing the index and the corresponding element."
   ]
  },
  {
   "cell_type": "code",
   "execution_count": 14,
   "id": "333b75d3",
   "metadata": {},
   "outputs": [
    {
     "name": "stdout",
     "output_type": "stream",
     "text": [
      "Element at index 0: 10\n",
      "Element at index 1: 20\n",
      "Element at index 2: 30\n",
      "Element at index 3: 40\n",
      "Element at index 4: 50\n"
     ]
    }
   ],
   "source": [
    "my_tuple = (10, 20, 30, 40, 50)\n",
    "\n",
    "for index, item in enumerate(my_tuple):\n",
    "    print(f\"Element at index {index}: {item}\")"
   ]
  },
  {
   "cell_type": "markdown",
   "id": "bde42911",
   "metadata": {},
   "source": [
    "3. **While Loop**: You can also iterate through a tuple using a `while` loop and a counter variable. The counter variable is used to access elements by their index, and the loop continues until all elements are processed."
   ]
  },
  {
   "cell_type": "code",
   "execution_count": 15,
   "id": "b0a0c4fb",
   "metadata": {},
   "outputs": [
    {
     "name": "stdout",
     "output_type": "stream",
     "text": [
      "10\n",
      "20\n",
      "30\n",
      "40\n",
      "50\n"
     ]
    }
   ],
   "source": [
    "my_tuple = (10, 20, 30, 40, 50)\n",
    "length = len(my_tuple)\n",
    "index = 0\n",
    "\n",
    "while index < length:\n",
    "    print(my_tuple[index])\n",
    "    index += 1"
   ]
  },
  {
   "cell_type": "code",
   "execution_count": null,
   "id": "b7adbabe",
   "metadata": {},
   "outputs": [],
   "source": []
  },
  {
   "cell_type": "code",
   "execution_count": null,
   "id": "c3da43bd",
   "metadata": {},
   "outputs": [],
   "source": []
  },
  {
   "cell_type": "code",
   "execution_count": null,
   "id": "b9198818",
   "metadata": {},
   "outputs": [],
   "source": []
  },
  {
   "cell_type": "markdown",
   "id": "f15d88f1",
   "metadata": {},
   "source": [
    "### Tuple Functions"
   ]
  },
  {
   "cell_type": "markdown",
   "id": "3c705256",
   "metadata": {},
   "source": [
    "* `len` : This function returns the number of elements in a tuple.  sum: This function returns the sum of all elements in a tuple (applicable only to numeric elements).   \n",
    "* `min` : This function returns the smallest element in a tuple.   \n",
    "* `max` : This function returns the largest element in a tuple.  \n",
    "* `sorted` : This function returns a new tuple containing the elements of the original tuple in sorted order."
   ]
  },
  {
   "cell_type": "code",
   "execution_count": 16,
   "id": "49700be4",
   "metadata": {},
   "outputs": [
    {
     "name": "stdout",
     "output_type": "stream",
     "text": [
      "10\n"
     ]
    }
   ],
   "source": [
    "# len(tup)Returns the number of elements in the tuple.\n",
    "\n",
    "my_tuple = (10, 20, 30, 40, 50, 60, 70, 80, 90, 100)\n",
    "length = len(my_tuple)\n",
    "print(length)                      # Output: 10"
   ]
  },
  {
   "cell_type": "code",
   "execution_count": 17,
   "id": "776a4699",
   "metadata": {},
   "outputs": [
    {
     "name": "stdout",
     "output_type": "stream",
     "text": [
      "10\n"
     ]
    }
   ],
   "source": [
    "# min() : Returns the minimum value in the tuple.\n",
    "\n",
    "my_tuple = (10, 20, 30, 40, 50, 60, 70, 80, 90, 100)\n",
    "minimum = min(my_tuple)\n",
    "print(minimum)                    # Output: 10"
   ]
  },
  {
   "cell_type": "code",
   "execution_count": 18,
   "id": "81a57c62",
   "metadata": {},
   "outputs": [
    {
     "name": "stdout",
     "output_type": "stream",
     "text": [
      "100\n"
     ]
    }
   ],
   "source": [
    "# max(): Returns the maximum value in the tuple.\n",
    "\n",
    "my_tuple = (10, 20, 30, 40, 50, 60, 70, 80, 90, 100)\n",
    "maximum = max(my_tuple)\n",
    "print(maximum)                   # Output: 100"
   ]
  },
  {
   "cell_type": "code",
   "execution_count": 19,
   "id": "b162df09",
   "metadata": {},
   "outputs": [
    {
     "name": "stdout",
     "output_type": "stream",
     "text": [
      "[10, 20, 30, 40, 50, 60, 70, 80, 90, 100]\n"
     ]
    }
   ],
   "source": [
    "# sorted() : Returns a new list with the elements of the tuple sorted in ascending order.\n",
    "\n",
    "my_tuple = (10, 20, 30, 40, 50, 60, 70, 80, 90, 100)\n",
    "sorted_list = sorted(my_tuple)\n",
    "print(sorted_list)                            # Output: [10, 20, 30, 40, 50, 60, 70, 80, 90, 100]"
   ]
  },
  {
   "cell_type": "code",
   "execution_count": null,
   "id": "27bf22e5",
   "metadata": {},
   "outputs": [],
   "source": []
  },
  {
   "cell_type": "markdown",
   "id": "133cf78d",
   "metadata": {},
   "source": [
    "### Other Built-in Methods:\n",
    "1. index(element)\n",
    "2. count(element)\n",
    "3. del \n",
    "\n",
    "* for more, run this command in a code cell >> dir(tuple)"
   ]
  },
  {
   "cell_type": "code",
   "execution_count": 20,
   "id": "2dc0533e",
   "metadata": {},
   "outputs": [
    {
     "name": "stdout",
     "output_type": "stream",
     "text": [
      "2\n"
     ]
    }
   ],
   "source": [
    "# index() : Returns the index of the first occurrence of a specified value in the tuple.\n",
    "t = (1,2,3,4,5)\n",
    "index = my_tuple.index(30)\n",
    "print(index)  # Output: 2"
   ]
  },
  {
   "cell_type": "code",
   "execution_count": 21,
   "id": "3d2b739f",
   "metadata": {},
   "outputs": [
    {
     "ename": "ValueError",
     "evalue": "tuple.index(x): x not in tuple",
     "output_type": "error",
     "traceback": [
      "\u001b[1;31m---------------------------------------------------------------------------\u001b[0m",
      "\u001b[1;31mValueError\u001b[0m                                Traceback (most recent call last)",
      "Input \u001b[1;32mIn [21]\u001b[0m, in \u001b[0;36m<cell line: 3>\u001b[1;34m()\u001b[0m\n\u001b[0;32m      1\u001b[0m \u001b[38;5;66;03m# index\u001b[39;00m\n\u001b[0;32m      2\u001b[0m t \u001b[38;5;241m=\u001b[39m (\u001b[38;5;241m1\u001b[39m,\u001b[38;5;241m2\u001b[39m,\u001b[38;5;241m3\u001b[39m,\u001b[38;5;241m4\u001b[39m,\u001b[38;5;241m5\u001b[39m)\n\u001b[1;32m----> 3\u001b[0m \u001b[43mt\u001b[49m\u001b[38;5;241;43m.\u001b[39;49m\u001b[43mindex\u001b[49m\u001b[43m(\u001b[49m\u001b[38;5;241;43m50\u001b[39;49m\u001b[43m)\u001b[49m\n",
      "\u001b[1;31mValueError\u001b[0m: tuple.index(x): x not in tuple"
     ]
    }
   ],
   "source": [
    "# index\n",
    "t = (1,2,3,4,5)\n",
    "t.index(50)"
   ]
  },
  {
   "cell_type": "code",
   "execution_count": 22,
   "id": "cc7565ed",
   "metadata": {},
   "outputs": [
    {
     "data": {
      "text/plain": [
       "0"
      ]
     },
     "execution_count": 22,
     "metadata": {},
     "output_type": "execute_result"
    }
   ],
   "source": [
    "# count\n",
    "t = (1,2,3,4,5)\n",
    "t.count(50)"
   ]
  },
  {
   "cell_type": "code",
   "execution_count": 23,
   "id": "5551ff22",
   "metadata": {},
   "outputs": [
    {
     "name": "stdout",
     "output_type": "stream",
     "text": [
      "550\n"
     ]
    }
   ],
   "source": [
    "# sum() : Returns the sum of all elements in the tuple.\n",
    "\n",
    "total = sum(my_tuple)\n",
    "print(total)                   # Output: 550"
   ]
  },
  {
   "cell_type": "code",
   "execution_count": null,
   "id": "98b0e621",
   "metadata": {},
   "outputs": [],
   "source": []
  },
  {
   "cell_type": "markdown",
   "id": "fe0b33dd",
   "metadata": {},
   "source": [
    "* `count` : This function returns the number of occurrences of a specified element in the tuple.  \n",
    "* `index` : This function returns the index of the first occurrence of a specified element in the tuple.   \n",
    "* `all` : This function returns True if all elements in the tuple are true (non-zero, non-empty, or True). Otherwise, it returns False.   \n",
    "* `any` : This function returns True if at least one element in the tuple is true. If all elements are false (zero, empty, or False), it returns False.   \n",
    "* `reversed` : This function returns an iterator that produces the elements of the tuple in reverse order.    \n",
    "* `Slice` : You can use slicing to extract a portion (subsequence) of the tuple."
   ]
  },
  {
   "cell_type": "code",
   "execution_count": 24,
   "id": "46024d63",
   "metadata": {},
   "outputs": [
    {
     "name": "stdout",
     "output_type": "stream",
     "text": [
      "1\n"
     ]
    }
   ],
   "source": [
    "# count()\n",
    "\n",
    "my_tuple = (10, 20, 30, 40, 50, 60, 70, 80, 90, 100)\n",
    "count = my_tuple.count(50)\n",
    "print(count)  # Output: 1"
   ]
  },
  {
   "cell_type": "code",
   "execution_count": 25,
   "id": "84ff40c4",
   "metadata": {},
   "outputs": [
    {
     "name": "stdout",
     "output_type": "stream",
     "text": [
      "True\n"
     ]
    }
   ],
   "source": [
    "# any()\n",
    "\n",
    "my_tuple = (10, 20, 30, 40, 50, 60, 70, 80, 90, 100)\n",
    "\n",
    "result = any(my_tuple)\n",
    "print(result)    # Output: True (since all elements are non-zero)"
   ]
  },
  {
   "cell_type": "code",
   "execution_count": 26,
   "id": "18b73186",
   "metadata": {},
   "outputs": [
    {
     "name": "stdout",
     "output_type": "stream",
     "text": [
      "True\n"
     ]
    }
   ],
   "source": [
    "# all()\n",
    "\n",
    "my_tuple = (10, 20, 30, 40, 50, 60, 70, 80, 90, 100)\n",
    "result = all(my_tuple)\n",
    "print(result)  # Output: True (since all elements are non-zero)"
   ]
  },
  {
   "cell_type": "code",
   "execution_count": 27,
   "id": "8939e3cc",
   "metadata": {},
   "outputs": [
    {
     "name": "stdout",
     "output_type": "stream",
     "text": [
      "(100, 90, 80, 70, 60, 50, 40, 30, 20, 10)\n"
     ]
    }
   ],
   "source": [
    "# reversed()\n",
    "\n",
    "my_tuple = (10, 20, 30, 40, 50, 60, 70, 80, 90, 100)\n",
    "reversed_tuple = tuple(reversed(my_tuple))\n",
    "print(reversed_tuple)  # Output: (100, 90, 80, 70, 60, 50, 40, 30, 20, 10)"
   ]
  },
  {
   "cell_type": "code",
   "execution_count": 28,
   "id": "10bb7ffb",
   "metadata": {},
   "outputs": [
    {
     "name": "stdout",
     "output_type": "stream",
     "text": [
      "(30, 40, 50, 60, 70)\n"
     ]
    }
   ],
   "source": [
    "# slice()\n",
    "\n",
    "my_tuple = (10, 20, 30, 40, 50, 60, 70, 80, 90, 100)\n",
    "my_slice = slice(2, 7)\n",
    "subset = my_tuple[my_slice]\n",
    "print(subset)  # Output: (30, 40, 50, 60, 70)"
   ]
  },
  {
   "cell_type": "code",
   "execution_count": null,
   "id": "3ac66651",
   "metadata": {},
   "outputs": [],
   "source": []
  },
  {
   "cell_type": "markdown",
   "id": "39a4da07",
   "metadata": {},
   "source": [
    "* `enumerate()` : The enumerate() function is particularly useful when you need to access both the elements and their corresponding indices in a tuple during iteration.\n",
    "* `zip()` : The zip() function is used to combine multiple iterables, such as tuples, lists, or strings, element-wise into a single iterable of tuples."
   ]
  },
  {
   "cell_type": "code",
   "execution_count": 29,
   "id": "e5fe60e8",
   "metadata": {},
   "outputs": [
    {
     "name": "stdout",
     "output_type": "stream",
     "text": [
      "((0, 10), (1, 20), (2, 30), (3, 40), (4, 50), (5, 60), (6, 70), (7, 80), (8, 90), (9, 100))\n"
     ]
    }
   ],
   "source": [
    "# enumerate()\n",
    "\n",
    "my_tuple = (10, 20, 30, 40, 50, 60, 70, 80, 90, 100)\n",
    "enumerated_tuple = tuple(enumerate(my_tuple))\n",
    "print(enumerated_tuple)      # Output: [(0, 10), (1, 20), (2, 30), (3, 40), (4, 50), (5, 60), (6, 70), (7, 80), (8, 90), (9, 100)]"
   ]
  },
  {
   "cell_type": "code",
   "execution_count": 30,
   "id": "aad15cd3",
   "metadata": {},
   "outputs": [
    {
     "name": "stdout",
     "output_type": "stream",
     "text": [
      "((10, 11), (20, 22), (30, 33), (40, 44), (50, 55))\n"
     ]
    }
   ],
   "source": [
    "# zip() : Returns an iterator that combines elements from two or more tuples into tuples of corresponding elements.\n",
    "\n",
    "other_tuple = (11, 22, 33, 44, 55)\n",
    "zipped_tuple = tuple(zip(my_tuple, other_tuple))\n",
    "print(zipped_tuple)  # Output: ((10, 11), (20, 22), (30, 33), (40, 44), (50, 55))"
   ]
  },
  {
   "cell_type": "code",
   "execution_count": null,
   "id": "247db0b5",
   "metadata": {},
   "outputs": [],
   "source": []
  },
  {
   "cell_type": "markdown",
   "id": "86ea17d8",
   "metadata": {},
   "source": [
    "### Tuple unpacking\n",
    "Tuple unpacking is a feature in Python that allows you to assign individual elements of a tuple to separate variables in a single statement. It provides a convenient way to extract and assign values from a tuple into variables for further processing."
   ]
  },
  {
   "cell_type": "code",
   "execution_count": 31,
   "id": "ad522511",
   "metadata": {},
   "outputs": [
    {
     "name": "stdout",
     "output_type": "stream",
     "text": [
      "10\n",
      "20\n",
      "30\n"
     ]
    }
   ],
   "source": [
    "my_tuple = (10, 20, 30)\n",
    "a, b, c = my_tuple\n",
    "print(a)  # Output: 10\n",
    "print(b)  # Output: 20\n",
    "print(c)  # Output: 30"
   ]
  },
  {
   "cell_type": "markdown",
   "id": "7c0786a0",
   "metadata": {},
   "source": [
    "Explanation: \n",
    "In the example above, the tuple `my_tuple` contains three elements: 10, 20, and 30. With tuple unpacking, we can assign each element to separate variables `a`, `b`, and `c` respectively. When we print the values of `a`, `b`, and `c`, we get 10, 20, and 30, respectively."
   ]
  },
  {
   "cell_type": "code",
   "execution_count": 33,
   "id": "2c5bd317",
   "metadata": {},
   "outputs": [
    {
     "name": "stdout",
     "output_type": "stream",
     "text": [
      "5\n",
      "10\n"
     ]
    }
   ],
   "source": [
    "x, y = 5, 10\n",
    "print(x)  # Output: 5\n",
    "print(y)  # Output: 10"
   ]
  },
  {
   "cell_type": "code",
   "execution_count": null,
   "id": "13fdda42",
   "metadata": {},
   "outputs": [],
   "source": []
  },
  {
   "cell_type": "code",
   "execution_count": null,
   "id": "a7c2e999",
   "metadata": {},
   "outputs": [],
   "source": []
  },
  {
   "cell_type": "markdown",
   "id": "4ec7737a",
   "metadata": {},
   "source": [
    "### Difference between list and tuples\n",
    "\n",
    "The main differences between lists and tuples in Python are as follows:\n",
    "\n",
    "1. **Mutability** :\n",
    "   - Lists: Lists are mutable, meaning you can add, remove, or modify elements after the list is created.\n",
    "   - Tuples: Tuples are immutable, and their elements cannot be modified once the tuple is created. Tuples are read-only.\n",
    "\n",
    "2. **Syntax** :\n",
    "   - Lists: Lists are defined using square brackets `[ ]`.\n",
    "   - Tuples: Tuples are defined using parentheses `( )`.\n",
    "\n",
    "3. **Element Modification** :\n",
    "   - Lists: Elements in a list can be added, removed, or modified using methods like `append()`, `remove()`, and indexing.\n",
    "   - Tuples: Elements in a tuple cannot be modified once the tuple is created. Any attempt to add, remove, or modify elements will result in an error.\n",
    "\n",
    "4. **Ordering** :\n",
    "   - Lists: Lists maintain the order of elements as they were added.\n",
    "   - Tuples: Tuples also maintain the order of elements, just like lists.\n",
    "\n",
    "5. **Usage and Intention** :\n",
    "   - Lists: Lists are used when you need a collection of mutable elements, and you anticipate the need for adding, removing, or modifying elements.\n",
    "   - Tuples: Tuples are used when you want to store an immutable collection of related elements that should not be modified.\n",
    "\n",
    "6. **Memory Efficiency** :\n",
    "   - Lists: Lists are less memory-efficient compared to tuples because they need to support modifications.\n",
    "   - Tuples: Tuples are more memory-efficient than lists because they are immutable and do not require additional memory for modification operations.\n",
    "\n",
    "7. **Use Cases** :\n",
    "   - Lists: Lists are commonly used for situations where you need a dynamic and mutable collection of elements, such as managing sequences of data, sorting, filtering, or performing in-place modifications.\n",
    "   - Tuples: Tuples are often used when you want to store a fixed collection of related elements that should remain constant and not be modified, such as representing coordinates, records, or returning multiple values from a function."
   ]
  },
  {
   "cell_type": "code",
   "execution_count": null,
   "id": "3cefdd41",
   "metadata": {},
   "outputs": [],
   "source": []
  }
 ],
 "metadata": {
  "kernelspec": {
   "display_name": "Python 3 (ipykernel)",
   "language": "python",
   "name": "python3"
  },
  "language_info": {
   "codemirror_mode": {
    "name": "ipython",
    "version": 3
   },
   "file_extension": ".py",
   "mimetype": "text/x-python",
   "name": "python",
   "nbconvert_exporter": "python",
   "pygments_lexer": "ipython3",
   "version": "3.9.12"
  }
 },
 "nbformat": 4,
 "nbformat_minor": 5
}
