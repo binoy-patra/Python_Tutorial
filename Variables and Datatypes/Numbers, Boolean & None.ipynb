{
 "cells": [
  {
   "cell_type": "markdown",
   "id": "965e03a0",
   "metadata": {},
   "source": [
    "# Numbers"
   ]
  },
  {
   "cell_type": "markdown",
   "id": "13d10771",
   "metadata": {},
   "source": [
    "### Numeric types data\n",
    "\n",
    "\n",
    "In Python, numeric data types are used to represent numbers. Python provides two main built-in numeric data types:\n",
    "1. **int (Integer)**:\n",
    "   - The int data type represents whole numbers, both positive and negative, without any decimal places.\n",
    "   - Examples: -10, 0, 42.\n",
    "   - Features:\n",
    "     - Integers can be of any size and can hold arbitrarily large numbers.\n",
    "     - Arithmetic operations like addition, subtraction, multiplication, and division can be performed on integers.\n",
    "     - Integer division returns the quotient without the decimal part.\n",
    "     - The modulus operator (%) returns the remainder of division.\n",
    "     - Integers can be converted to other numeric types, such as floats or strings, using type conversion functions.\n",
    "\n",
    "\n",
    "2. **float (Floating-Point Number)**:\n",
    "   - The float data type represents real numbers, including numbers with decimal places.\n",
    "   - Examples: 3.14, -1.23, 0.0.\n",
    "   - Features:\n",
    "     - Floating-point numbers are stored as approximations of real numbers.\n",
    "     - Floating-point numbers can represent a wide range of values, including very large or very small numbers.\n",
    "     - Arithmetic operations can be performed on floats, including addition, subtraction, multiplication, and division.\n",
    "     - Floats can also be involved in mathematical functions like trigonometry, logarithms, etc.\n",
    "     - Floating-point numbers have a finite precision, which can result in rounding errors and limited precision for certain operations.\n",
    "     - Floats can be converted to other numeric types, such as integers or strings, using type conversion functions.     \n",
    "\n",
    "\n",
    "3. **complex (Complex Number)**:\n",
    "   - The complex data type represents numbers with both a real and an imaginary part.\n",
    "   - Examples: 2 + 3j, -1.5 + 0j, 0 + 4j.\n",
    "   - Features:\n",
    "     - Complex numbers are represented using the syntax `a + bj`, where `a` is the real part and `b` is the imaginary part.\n",
    "     - The `j` or `J` at the end of the number represents the imaginary unit (√(-1)).\n",
    "     - Arithmetic operations can be performed on complex numbers, including addition, subtraction, multiplication, and division.\n",
    "     - Complex numbers can also be involved in mathematical functions like exponentiation, trigonometric functions, etc.\n",
    "     - Complex numbers can be created explicitly using the `complex()` function or by directly writing the number in the appropriate format.\n",
    "     - Complex numbers have attributes like `.real` to access the real part and `.imag` to access the imaginary part.\n",
    "     - Complex numbers can be converted to other numeric types, such as floats or strings, using type conversion functions.\n",
    "\n",
    "\n",
    "4. **Constants**:\n",
    "   - Constants are values that remain fixed and unchangeable during the execution of a program.\n",
    "   - Examples: `PI = 3.14159`, `MAX_VALUE = 100`.\n",
    "   - Features:\n",
    "     - Constants are typically used to represent fixed values that are not intended to be modified.\n",
    "     - In Python, there is no specific keyword to declare constants. Instead, it is a common convention to use uppercase letters and underscores to represent constants.\n",
    "     - Constants are usually defined at the module level and can be accessed throughout the program.\n",
    "     - It's important to note that Python does not enforce the immutability of constants. However, by convention, constants are intended to remain unchanged and should not be modified during program execution.\n",
    "     - Constants can be used to represent mathematical or scientific constants, configuration settings, or any other fixed values required by the program."
   ]
  },
  {
   "cell_type": "code",
   "execution_count": null,
   "id": "4cd0ff40",
   "metadata": {},
   "outputs": [],
   "source": [
    "#Example of Integer:\n",
    "x = 1\n",
    "y = 356562225548877116666666666666666666 #its also integer not long or double like C/C++\n",
    "z = -3255522\n",
    "\n",
    "print(y)\n",
    "type(y)"
   ]
  },
  {
   "cell_type": "code",
   "execution_count": null,
   "id": "6728f262",
   "metadata": {},
   "outputs": [],
   "source": [
    "#Example of Float:\n",
    "x = 1.10\n",
    "y = -1.0\n",
    "\n",
    "#Float can also be scientific numbers with an \"e\" to indicate the power of 10.\n",
    "\n",
    "z = -35.59x = 35e3\n",
    "y = 12E4\n",
    "z = -87.7e100"
   ]
  },
  {
   "cell_type": "code",
   "execution_count": null,
   "id": "b551721a",
   "metadata": {},
   "outputs": [],
   "source": [
    "#Example of Complex:\n",
    "x = 3+5j\n",
    "y = 5j\n",
    "z = -5j"
   ]
  },
  {
   "cell_type": "code",
   "execution_count": null,
   "id": "136dc2ed",
   "metadata": {},
   "outputs": [],
   "source": [
    "#Example of Constant:\n",
    "MAX_CONNECTIONS=5000"
   ]
  },
  {
   "cell_type": "markdown",
   "id": "312d9e73",
   "metadata": {},
   "source": [
    "### Applications: \n",
    "\n",
    "Numeric data types in Python have various applications across different domains. Here are some common applications of numeric data types in Python:\n",
    "1. **Mathematical Calculations:**\n",
    "   - Numeric data types are frequently used for performing mathematical calculations, such as addition, subtraction, multiplication, and division.\n",
    "   - Python's numeric data types allow you to perform calculations on numbers, both integers (int) and floating-point numbers (float).\n",
    "\n",
    "2. **Data Analysis and Scientific Computing:**\n",
    "   - Numeric data types are crucial for data analysis and scientific computing tasks.\n",
    "   - Libraries like NumPy and pandas provide powerful data structures and functions for numerical operations and data manipulation.\n",
    "   - Numeric data types enable tasks like statistical analysis, matrix operations, signal processing, and simulations.\n",
    "\n",
    "3. **Financial Applications:**\n",
    "   - Numeric data types are extensively used in financial applications and calculations.\n",
    "   - They are used for handling monetary values, performing interest calculations, investment analysis, and financial modeling.\n",
    "\n",
    "4. **Gaming and Computer Graphics:**\n",
    "   - Numeric data types play a vital role in game development and computer graphics.\n",
    "   - They are used to represent coordinates, distances, angles, and other geometric properties.\n",
    "   - Numeric calculations and transformations are performed to create realistic animations, physics simulations, and 3D rendering.\n",
    "\n",
    "5. **Machine Learning and Data Science:**\n",
    "   - Numeric data types are foundational to machine learning and data science tasks.\n",
    "   - They are used for representing features, labels, and model parameters.\n",
    "   - Numeric data types are essential for training machine learning models, performing mathematical operations on large datasets, and analyzing results.\n",
    "\n",
    "6. **IoT and Sensor Data Processing:**\n",
    "   - Numeric data types are used to handle sensor data in Internet of Things (IoT) applications.\n",
    "   - Numeric values from sensors, such as temperature, humidity, pressure, or acceleration, are processed and analyzed using numeric data types.\n",
    "\n",
    "7. **Cryptography and Encryption:**\n",
    "   - Numeric data types are employed in cryptography and encryption algorithms.\n",
    "   - They are used for performing complex mathematical operations like modular arithmetic, exponentiation, and prime number generation."
   ]
  },
  {
   "cell_type": "code",
   "execution_count": null,
   "id": "e27eace2",
   "metadata": {},
   "outputs": [],
   "source": []
  },
  {
   "cell_type": "markdown",
   "id": "800db72d",
   "metadata": {},
   "source": [
    "###  Booleans:\n",
    "\n",
    "   - The bool data type represent one of two values: True and False.\n",
    "   - Examples: True, False.\n",
    "   - Features:\n",
    "     - Booleans are used to represent logical values in Python.\n",
    "     - The bool data type is primarily used for conditions, comparisons, and controlling program flow.\n",
    "     - Boolean values are the result of logical operations or comparisons, such as equality (==), inequality (!=), greater than (>), less than (<), etc.\n",
    "     - Logical operations like logical AND (and), logical OR (or), and logical NOT (not) can be performed on boolean values.\n",
    "     - Booleans are essential in conditional statements, loops, and decision-making processes.\n",
    "     - Boolean values are often the result of boolean expressions, which evaluate to either True or False.\n",
    "     - Boolean values can be assigned to variables or used directly in conditional expressions.\n"
   ]
  },
  {
   "cell_type": "code",
   "execution_count": null,
   "id": "5f379bbc",
   "metadata": {},
   "outputs": [],
   "source": [
    "type(True)"
   ]
  },
  {
   "cell_type": "code",
   "execution_count": null,
   "id": "fc422a36",
   "metadata": {},
   "outputs": [],
   "source": [
    "type(False)"
   ]
  },
  {
   "cell_type": "code",
   "execution_count": 1,
   "id": "9e32b378",
   "metadata": {},
   "outputs": [
    {
     "name": "stdout",
     "output_type": "stream",
     "text": [
      "Take an umbrella!\n"
     ]
    }
   ],
   "source": [
    "# Booleans play a crucial role in conditional statements such as if-else statements, where certain code blocks are executed based on the truth value of a boolean expression.\n",
    "is_raining = True\n",
    "\n",
    "if is_raining:\n",
    "    print(\"Take an umbrella!\")\n",
    "else:\n",
    "    print(\"Enjoy the sunshine!\")"
   ]
  },
  {
   "cell_type": "code",
   "execution_count": 2,
   "id": "6e7e2a02",
   "metadata": {},
   "outputs": [
    {
     "name": "stdout",
     "output_type": "stream",
     "text": [
      "True\n",
      "False\n"
     ]
    }
   ],
   "source": [
    "# Comparison and Equality\n",
    "age = 25\n",
    "\n",
    "is_adult = age >= 18\n",
    "is_teenager = age >= 13 and age <= 19\n",
    "\n",
    "print(is_adult)  # True\n",
    "print(is_teenager)  # True"
   ]
  },
  {
   "cell_type": "code",
   "execution_count": null,
   "id": "a44d055c",
   "metadata": {},
   "outputs": [],
   "source": [
    "#Any number is True, except 0\n",
    "print(bool(\"Hello\"))\n",
    "print(bool(15))"
   ]
  },
  {
   "cell_type": "markdown",
   "id": "bf053633",
   "metadata": {},
   "source": [
    "### Application of Boolean type Data\n",
    "\n",
    "1. **Decision Making**: Booleans are used to make decisions in programs. They determine whether a certain condition is true or false and guide the program's flow accordingly.\n",
    "\n",
    "2. **Loop Control**: Booleans help control the execution of loops by defining conditions for entering or exiting the loop.\n",
    "\n",
    "3. **Flagging**: Booleans act as flags or indicators to represent the state of a system or a specific condition. They can signal whether a process is running, an event has occurred, or a specific requirement is met.\n",
    "\n",
    "4. **Error Handling**: Booleans are used to handle errors and exceptions in a program. They can indicate if an error has occurred or if a certain condition meets the criteria for exception handling.\n",
    "\n",
    "5. **User Input Validation**: Booleans can be employed to validate user input, ensuring it meets specific criteria or requirements before proceeding with further operations.\n",
    "\n",
    "6. **Logic Gates and Boolean Algebra**: Booleans are fundamental in implementing logic gates and Boolean algebra operations, which form the basis of digital circuits, computer systems, and computational logic.\n",
    "\n",
    "7. **Data Filtering and Selection**: Booleans are used to filter and select data based on specific conditions, allowing for the extraction of desired subsets of data from larger collections.\n",
    "\n",
    "8. **State Management**: Booleans help manage the state of an application or system, indicating whether it is active, inactive, available, or unavailable.\n",
    "\n",
    "9. **Testing and Assertions**: Booleans are utilized in testing frameworks and assertion statements to validate expected outcomes, perform automated tests, and ensure program correctness.\n",
    "\n",
    "10. **Security and Access Control**: Booleans play a crucial role in security systems and access control mechanisms, granting or denying permissions based on specific conditions."
   ]
  },
  {
   "cell_type": "code",
   "execution_count": null,
   "id": "a241cbfd",
   "metadata": {},
   "outputs": [],
   "source": []
  },
  {
   "cell_type": "markdown",
   "id": "11102695",
   "metadata": {},
   "source": [
    "### None\n",
    "\n",
    "   - The `None` data type represents the absence of a value or the lack of a specific object.\n",
    "   - Features:\n",
    "     - `None` is a singleton object in Python, meaning there is only one instance of `None` throughout the program.\n",
    "     - Variables can be assigned the value `None` as a default initial value or as a placeholder before assigning an actual value.\n",
    "     - Functions that do not explicitly return a value implicitly return `None`.\n",
    "     - The `None` value can be compared to other objects or variables using the `is` or `is not` operators.\n",
    "     - `None` is not implicitly convertible to other data types and maintains its own distinct type.\n",
    "     - `None` can be used to implement the null object pattern, providing a placeholder for expected behavior.\n"
   ]
  },
  {
   "cell_type": "code",
   "execution_count": 6,
   "id": "ab998c74",
   "metadata": {},
   "outputs": [
    {
     "name": "stdout",
     "output_type": "stream",
     "text": [
      "No result available\n"
     ]
    }
   ],
   "source": [
    "# Default or Initial Value\n",
    "# Assigning None as the initial value\n",
    "\n",
    "result = None\n",
    "\n",
    "# Check if a value has been assigned\n",
    "if result is None:\n",
    "    print(\"No result available\")\n",
    "else:\n",
    "    print(\"Result:\", result)"
   ]
  },
  {
   "cell_type": "code",
   "execution_count": 9,
   "id": "2811ae82",
   "metadata": {},
   "outputs": [],
   "source": [
    "# Function Return Value\n",
    "def calculate_average(numbers):\n",
    "    if len(numbers) == 0:\n",
    "        return None\n",
    "    else:\n",
    "        return sum(numbers) / len(numbers)"
   ]
  },
  {
   "cell_type": "code",
   "execution_count": 8,
   "id": "cbc6b058",
   "metadata": {},
   "outputs": [
    {
     "name": "stdout",
     "output_type": "stream",
     "text": [
      "No value assigned\n"
     ]
    }
   ],
   "source": [
    "# Null Checking\n",
    "# Assigning None to indicate no value\n",
    "my_variable = None\n",
    "\n",
    "# Checking if the variable has a valid value\n",
    "if my_variable is None:\n",
    "    print(\"No value assigned\")\n",
    "else:\n",
    "    print(\"Variable value:\", my_variable)\n"
   ]
  },
  {
   "cell_type": "markdown",
   "id": "6aaa5cfa",
   "metadata": {},
   "source": [
    "### Application of Null\n",
    "The `None` value in Python has various applications in programming. Here are some common scenarios where `None` is used:\n",
    "\n",
    "1. **Default or Initial Values**: `None` is often assigned as a default or initial value to variables when you want to indicate that they have not been assigned a meaningful value yet. This allows you to check if a variable has been assigned a value or not.\n",
    "\n",
    "2. **Function Return Values**: Functions can return `None` to indicate that they do not produce a meaningful result or when there is no specific value to return. This can be useful for error handling or to indicate special cases.\n",
    "\n",
    "3. **Optional Function Arguments**: When defining a function, you can use `None` as a default value for optional arguments. This allows the caller to omit the argument, indicating that it is not provided, and the function can handle it accordingly.\n",
    "\n",
    "4. **Null or Empty State**: `None` can be used as a representation of a null or empty state in objects or variables. For example, you might assign `None` to a variable when it doesn't have a valid value or to indicate the absence of a specific object or data.\n",
    "\n",
    "5. **Sentinel Value**: `None` can serve as a sentinel value to indicate a specific condition or event. It can act as a placeholder that triggers certain behaviors or controls program flow.\n",
    "\n",
    "6. **Error Handling**: `None` can be used to handle error conditions or exceptions. A function may return `None` to signal that an error has occurred or that a specific condition has not been met.\n",
    "\n",
    "7. **Mocking or Stubs**: In testing or development scenarios, `None` can be used as a placeholder or stub for a more complex object or functionality. It allows you to simulate certain behavior or skip execution without raising errors."
   ]
  },
  {
   "cell_type": "code",
   "execution_count": null,
   "id": "a6699c33",
   "metadata": {},
   "outputs": [],
   "source": []
  }
 ],
 "metadata": {
  "kernelspec": {
   "display_name": "Python 3 (ipykernel)",
   "language": "python",
   "name": "python3"
  },
  "language_info": {
   "codemirror_mode": {
    "name": "ipython",
    "version": 3
   },
   "file_extension": ".py",
   "mimetype": "text/x-python",
   "name": "python",
   "nbconvert_exporter": "python",
   "pygments_lexer": "ipython3",
   "version": "3.9.12"
  }
 },
 "nbformat": 4,
 "nbformat_minor": 5
}
