{
 "cells": [
  {
   "cell_type": "markdown",
   "id": "838c1569",
   "metadata": {},
   "source": [
    "# Numerical Python in short NumPy"
   ]
  },
  {
   "cell_type": "code",
   "execution_count": null,
   "id": "b4f49c25",
   "metadata": {},
   "outputs": [],
   "source": []
  },
  {
   "cell_type": "markdown",
   "id": "e6bf977d",
   "metadata": {},
   "source": [
    "### What is Numpy?\n",
    "\n",
    "*    NumPy was created in 2005 by Travis Oliphant. It is an open source project and you can use it freely.\n",
    "* NumPy is the fundamental package for scientific computing in Python.\n",
    "*    NumPy is used for working with arrays.\n",
    "* It is a Python library that provides a multidimensional array object, various derived objects (such as masked arrays and matrices), and an assortment of routines for fast operations on arrays, including mathematical, logical, shape manipulation, sorting, selecting, I/O, discrete Fourier transforms, basic linear algebra, basic statistical operations, random simulation and much more.\n",
    "\n",
    "\n",
    "* At the core of the NumPy package, is the ndarray object. This encapsulates n-dimensional arrays of homogeneous data types."
   ]
  },
  {
   "cell_type": "markdown",
   "id": "6d40daa6",
   "metadata": {},
   "source": [
    "### Numpy Arrays Vs Python Sequences\n",
    "\n",
    "- NumPy arrays have a fixed size at creation, unlike Python lists (which can grow dynamically). Changing the size of an ndarray will create a new array and delete the original.\n",
    "\n",
    "- The elements in a NumPy array are all required to be of the same data type, and thus will be the same size in memory.\n",
    "\n",
    "- NumPy arrays facilitate advanced mathematical and other types of operations on large numbers of data. Typically, such operations are executed more efficiently and with less code than is possible using Python’s built-in sequences.\n",
    "\n",
    "- A growing plethora of scientific and mathematical Python-based packages are using NumPy arrays; though these typically support Python-sequence input, they convert such input to NumPy arrays prior to processing, and they often output NumPy arrays."
   ]
  },
  {
   "cell_type": "markdown",
   "id": "fbba4ed1",
   "metadata": {},
   "source": [
    "### Why to use Numpy?\n",
    "\n",
    "> 1. NumPy aims to provide an array object that is up to 50x faster than traditional Python lists.\n",
    "> 2. The array object in NumPy is called ndarray, it provides a lot of supporting functions that make working with ndarray very easy.\n",
    "> 3. Numpy uses relatively less memory to store data."
   ]
  },
  {
   "cell_type": "code",
   "execution_count": null,
   "id": "021b303f",
   "metadata": {},
   "outputs": [],
   "source": []
  },
  {
   "cell_type": "code",
   "execution_count": null,
   "id": "fd590c67",
   "metadata": {},
   "outputs": [],
   "source": [
    "import sys #System Module\n",
    "print(sys.getsizeof(2))  #2 is an integer, getsizeof means it will give the size of a datatype"
   ]
  },
  {
   "cell_type": "code",
   "execution_count": null,
   "id": "37bf69d7",
   "metadata": {},
   "outputs": [],
   "source": [
    "#Less memory\n",
    "\n",
    "import sys #System Module\n",
    "import numpy as np #NumPy module\n",
    "\n",
    "l = range(1000) #creating a list with range 0-1000 i.e 1000 elements\n",
    "length_of_list = len(l) \n",
    "#print(length_of_list) #1000 #Uncomment it to understand\n",
    "size_of_one_element = sys.getsizeof(l[5]) #Size  of one element\n",
    "total_memory_of_list = length_of_list * size_of_one_element  #Size of total 1000 element\n",
    "print(\"list =\", total_memory_of_list)\n",
    "\n",
    "\n",
    "#array\n",
    "a=np.arange(1000) #Creating array of size 1000\n",
    "length_of_array = a.size\n",
    "size_of_each_element = a.itemsize\n",
    "total_memory_of_array = length_of_array * size_of_each_element\n",
    "print(\"array =\" ,total_memory_of_array)"
   ]
  },
  {
   "cell_type": "code",
   "execution_count": null,
   "id": "e496839c",
   "metadata": {},
   "outputs": [],
   "source": []
  },
  {
   "cell_type": "code",
   "execution_count": null,
   "id": "8e39d224",
   "metadata": {},
   "outputs": [],
   "source": [
    "l1=[1,2,3,4,5,6] #List 1\n",
    "l2=[2,3,4,5,6,7] #List 2\n",
    "\n",
    "l1+l2"
   ]
  },
  {
   "cell_type": "code",
   "execution_count": null,
   "id": "a0879347",
   "metadata": {},
   "outputs": [],
   "source": []
  },
  {
   "cell_type": "code",
   "execution_count": null,
   "id": "8f850baf",
   "metadata": {},
   "outputs": [],
   "source": [
    "#Import NumPy Module and use it\n",
    "\n",
    "import numpy as np\n",
    "myarr = np.array([[10,20,30,40,50]], np.int8)\n",
    "myarr"
   ]
  },
  {
   "cell_type": "code",
   "execution_count": null,
   "id": "262c7cf2",
   "metadata": {},
   "outputs": [],
   "source": [
    "#Shape\n",
    "myarr.shape"
   ]
  },
  {
   "cell_type": "code",
   "execution_count": null,
   "id": "8e8d9dae",
   "metadata": {},
   "outputs": [],
   "source": [
    "#Datatype\n",
    "myarr.dtype"
   ]
  },
  {
   "cell_type": "code",
   "execution_count": null,
   "id": "eac3d5d3",
   "metadata": {},
   "outputs": [],
   "source": [
    "#Element Access\n",
    "myarr[0,1]"
   ]
  },
  {
   "cell_type": "code",
   "execution_count": null,
   "id": "f8bebacc",
   "metadata": {},
   "outputs": [],
   "source": []
  },
  {
   "cell_type": "code",
   "execution_count": null,
   "id": "e4672127",
   "metadata": {},
   "outputs": [],
   "source": []
  },
  {
   "cell_type": "code",
   "execution_count": null,
   "id": "f9594eea",
   "metadata": {},
   "outputs": [],
   "source": [
    "#0-D Array\n",
    "import numpy as np\n",
    "\n",
    "arr = np.array(42)\n",
    "print(arr)\n",
    "arr.shape"
   ]
  },
  {
   "cell_type": "code",
   "execution_count": null,
   "id": "9d0dea2c",
   "metadata": {},
   "outputs": [],
   "source": [
    "#1-D Array\n",
    "import numpy as np\n",
    "arr = np.array([1, 2, 3, 4, 5])\n",
    "\n",
    "print(arr)\n",
    "arr.shape"
   ]
  },
  {
   "cell_type": "code",
   "execution_count": null,
   "id": "096f1a69",
   "metadata": {},
   "outputs": [],
   "source": [
    "#2-D Array\n",
    "import numpy as np\n",
    "arr = np.array([[1, 2, 3], [4, 5, 6]])\n",
    "\n",
    "print(arr)\n",
    "arr.shape"
   ]
  },
  {
   "cell_type": "code",
   "execution_count": null,
   "id": "23158428",
   "metadata": {},
   "outputs": [],
   "source": [
    "#3-D Array\n",
    "import numpy as np\n",
    "arr = np.array([[[1, 2, 3], [4, 5, 6]], [[1, 2, 3], [4, 5, 6]]])\n",
    "\n",
    "print(arr)\n",
    "arr.shape"
   ]
  },
  {
   "cell_type": "markdown",
   "id": "0684ffe4",
   "metadata": {},
   "source": [
    "**Array Creation"
   ]
  },
  {
   "cell_type": "markdown",
   "id": "a10b4610",
   "metadata": {},
   "source": [
    "### 1. Conversion from other method (from list, tuple)"
   ]
  },
  {
   "cell_type": "code",
   "execution_count": null,
   "id": "2ab4a93b",
   "metadata": {},
   "outputs": [],
   "source": [
    "#From list\n",
    "list1= [1,2,3,4,5,6]\n",
    "list2= [7,8,9,10,11,12]\n",
    "np.array([list1], [list2])"
   ]
  },
  {
   "cell_type": "code",
   "execution_count": null,
   "id": "f1cdbbac",
   "metadata": {},
   "outputs": [],
   "source": [
    "#3D array Creation\n",
    "listarray= np.array([[1,2,3],[4,5,6],[7,8,9]])\n",
    "listarray"
   ]
  },
  {
   "cell_type": "code",
   "execution_count": null,
   "id": "d6e1c771",
   "metadata": {},
   "outputs": [],
   "source": [
    "listarray.shape"
   ]
  },
  {
   "cell_type": "code",
   "execution_count": null,
   "id": "b5dec69b",
   "metadata": {},
   "outputs": [],
   "source": [
    "listarray.dtype"
   ]
  },
  {
   "cell_type": "code",
   "execution_count": null,
   "id": "551f0645",
   "metadata": {},
   "outputs": [],
   "source": [
    "listarray.size"
   ]
  },
  {
   "cell_type": "code",
   "execution_count": null,
   "id": "e0839693",
   "metadata": {},
   "outputs": [],
   "source": [
    "np.array({10,20})"
   ]
  },
  {
   "cell_type": "markdown",
   "id": "de90895f",
   "metadata": {},
   "source": [
    "### 2. Intrinsic NumPy array creation"
   ]
  },
  {
   "cell_type": "code",
   "execution_count": null,
   "id": "af22c60b",
   "metadata": {},
   "outputs": [],
   "source": [
    "# Zeros\n",
    "zeros =np.zeros((3,3))\n",
    "zeros"
   ]
  },
  {
   "cell_type": "code",
   "execution_count": null,
   "id": "0e7443fd",
   "metadata": {},
   "outputs": [],
   "source": [
    "zeros.dtype"
   ]
  },
  {
   "cell_type": "code",
   "execution_count": null,
   "id": "87f59997",
   "metadata": {},
   "outputs": [],
   "source": [
    "zeros.size"
   ]
  },
  {
   "cell_type": "code",
   "execution_count": null,
   "id": "202052b9",
   "metadata": {},
   "outputs": [],
   "source": [
    "zeros.shape"
   ]
  },
  {
   "cell_type": "code",
   "execution_count": null,
   "id": "30186885",
   "metadata": {},
   "outputs": [],
   "source": [
    "zeros[1,2]"
   ]
  },
  {
   "cell_type": "code",
   "execution_count": null,
   "id": "4b447c98",
   "metadata": {},
   "outputs": [],
   "source": [
    "# Ones\n",
    "ones= np.ones([3,3])\n",
    "ones"
   ]
  },
  {
   "cell_type": "code",
   "execution_count": null,
   "id": "dcd26b0e",
   "metadata": {},
   "outputs": [],
   "source": [
    "# Arange\n",
    "rng = np.arange(10)\n",
    "rng"
   ]
  },
  {
   "cell_type": "code",
   "execution_count": null,
   "id": "93f1f6d4",
   "metadata": {},
   "outputs": [],
   "source": [
    "rng.dtype"
   ]
  },
  {
   "cell_type": "code",
   "execution_count": null,
   "id": "ae0001c1",
   "metadata": {},
   "outputs": [],
   "source": [
    "rng.shape"
   ]
  },
  {
   "cell_type": "code",
   "execution_count": null,
   "id": "295f59e3",
   "metadata": {},
   "outputs": [],
   "source": [
    "a= np.arange(10,5)\n",
    "print(a)"
   ]
  },
  {
   "cell_type": "code",
   "execution_count": null,
   "id": "88694f1a",
   "metadata": {},
   "outputs": [],
   "source": [
    "# Linspace\n",
    "lnspace = np.linspace(1,50,100)\n",
    "lnspace"
   ]
  },
  {
   "cell_type": "code",
   "execution_count": null,
   "id": "1d9cc146",
   "metadata": {},
   "outputs": [],
   "source": [
    "lnspace.size"
   ]
  },
  {
   "cell_type": "code",
   "execution_count": null,
   "id": "dd3b8f0d",
   "metadata": {},
   "outputs": [],
   "source": [
    "lnspace.dtype"
   ]
  },
  {
   "cell_type": "code",
   "execution_count": null,
   "id": "fea447cd",
   "metadata": {},
   "outputs": [],
   "source": [
    "lnspace.shape"
   ]
  },
  {
   "cell_type": "code",
   "execution_count": null,
   "id": "1363f810",
   "metadata": {},
   "outputs": [],
   "source": [
    "# Empty\n",
    "emp= np.empty((3,6))\n",
    "emp"
   ]
  },
  {
   "cell_type": "code",
   "execution_count": null,
   "id": "96e2078e",
   "metadata": {},
   "outputs": [],
   "source": [
    "#Axis\n",
    "x= [[1,2,3], [4,5,6],[7,8,9]]\n",
    "ar= np.array(x)\n",
    "ar"
   ]
  },
  {
   "cell_type": "code",
   "execution_count": null,
   "id": "f0c35cc9",
   "metadata": {},
   "outputs": [],
   "source": [
    "a= ar.sum(axis=0)\n",
    "print(a)"
   ]
  },
  {
   "cell_type": "code",
   "execution_count": null,
   "id": "6b6e12da",
   "metadata": {},
   "outputs": [],
   "source": [
    "b= ar.sum(axis=1)"
   ]
  },
  {
   "cell_type": "code",
   "execution_count": null,
   "id": "a6db3af2",
   "metadata": {},
   "outputs": [],
   "source": [
    "#Transpose\n",
    "ar.T"
   ]
  },
  {
   "cell_type": "code",
   "execution_count": null,
   "id": "1701d148",
   "metadata": {},
   "outputs": [],
   "source": [
    "ar.flat"
   ]
  },
  {
   "cell_type": "code",
   "execution_count": null,
   "id": "ca913125",
   "metadata": {},
   "outputs": [],
   "source": [
    "for item in ar.flat:\n",
    "    print(item)"
   ]
  },
  {
   "cell_type": "code",
   "execution_count": null,
   "id": "24488a0f",
   "metadata": {},
   "outputs": [],
   "source": [
    "ar.argmax()"
   ]
  },
  {
   "cell_type": "code",
   "execution_count": null,
   "id": "ab986034",
   "metadata": {},
   "outputs": [],
   "source": [
    "x= [[1,2,3], [4,5,6],[7,8,9]]\n",
    "ar= np.array(x)\n",
    "ar"
   ]
  },
  {
   "cell_type": "raw",
   "id": "57007538",
   "metadata": {},
   "source": []
  },
  {
   "cell_type": "code",
   "execution_count": null,
   "id": "43307d82",
   "metadata": {},
   "outputs": [],
   "source": [
    "ar.argmax(axis=0)"
   ]
  },
  {
   "cell_type": "code",
   "execution_count": null,
   "id": "b3616a05",
   "metadata": {},
   "outputs": [],
   "source": [
    "ar.argmin(axis=1)"
   ]
  },
  {
   "cell_type": "code",
   "execution_count": null,
   "id": "b839bd0c",
   "metadata": {},
   "outputs": [],
   "source": [
    "ar.ravel()"
   ]
  },
  {
   "cell_type": "code",
   "execution_count": null,
   "id": "29c6cd8c",
   "metadata": {},
   "outputs": [],
   "source": [
    "ar.reshape((9,1))"
   ]
  },
  {
   "cell_type": "code",
   "execution_count": null,
   "id": "cb3275b2",
   "metadata": {},
   "outputs": [],
   "source": [
    "x= [[1,2,3], [4,5,6],[7,8,9]]\n",
    "ar1= np.array(x)\n",
    "ar1"
   ]
  },
  {
   "cell_type": "code",
   "execution_count": null,
   "id": "1c4f9581",
   "metadata": {},
   "outputs": [],
   "source": [
    "x= [[1,3,5], [2,4,6],[7,9,5]]\n",
    "ar2= np.array(x)\n",
    "ar2"
   ]
  },
  {
   "cell_type": "code",
   "execution_count": null,
   "id": "500482c0",
   "metadata": {},
   "outputs": [],
   "source": [
    "ar1+ar2"
   ]
  },
  {
   "cell_type": "code",
   "execution_count": null,
   "id": "3f228ca6",
   "metadata": {},
   "outputs": [],
   "source": [
    "ar1*ar2"
   ]
  },
  {
   "cell_type": "code",
   "execution_count": null,
   "id": "339effed",
   "metadata": {},
   "outputs": [],
   "source": [
    "np.sqrt(ar1)"
   ]
  },
  {
   "cell_type": "code",
   "execution_count": null,
   "id": "750c41ff",
   "metadata": {},
   "outputs": [],
   "source": [
    "ar2.sum()"
   ]
  },
  {
   "cell_type": "code",
   "execution_count": null,
   "id": "bcfe6d00",
   "metadata": {},
   "outputs": [],
   "source": [
    "ar2.max()"
   ]
  },
  {
   "cell_type": "code",
   "execution_count": null,
   "id": "3e802bd5",
   "metadata": {},
   "outputs": [],
   "source": [
    "#Sys Module\n",
    "import sys\n",
    "print(sys.version)"
   ]
  },
  {
   "cell_type": "code",
   "execution_count": null,
   "id": "8cbce348",
   "metadata": {},
   "outputs": [],
   "source": [
    "print(sys.modules)"
   ]
  },
  {
   "cell_type": "code",
   "execution_count": null,
   "id": "a363a5d0",
   "metadata": {},
   "outputs": [],
   "source": [
    "py_ar=[1,2,3,4,5]"
   ]
  },
  {
   "cell_type": "code",
   "execution_count": null,
   "id": "0c5080b1",
   "metadata": {},
   "outputs": [],
   "source": [
    "np_ar= np.array(py_ar)"
   ]
  },
  {
   "cell_type": "code",
   "execution_count": null,
   "id": "a11c42ed",
   "metadata": {},
   "outputs": [],
   "source": [
    "sys.getsizeof(1)*len(py_ar)"
   ]
  },
  {
   "cell_type": "code",
   "execution_count": null,
   "id": "b2bfff31",
   "metadata": {},
   "outputs": [],
   "source": [
    "np_ar.itemsize * np_ar.size"
   ]
  }
 ],
 "metadata": {
  "kernelspec": {
   "display_name": "Python 3 (ipykernel)",
   "language": "python",
   "name": "python3"
  },
  "language_info": {
   "codemirror_mode": {
    "name": "ipython",
    "version": 3
   },
   "file_extension": ".py",
   "mimetype": "text/x-python",
   "name": "python",
   "nbconvert_exporter": "python",
   "pygments_lexer": "ipython3",
   "version": "3.9.12"
  }
 },
 "nbformat": 4,
 "nbformat_minor": 5
}
