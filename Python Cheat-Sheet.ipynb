{
 "cells": [
  {
   "cell_type": "markdown",
   "id": "5d8c629a",
   "metadata": {},
   "source": [
    "# Python"
   ]
  },
  {
   "cell_type": "markdown",
   "id": "ae8b6164",
   "metadata": {},
   "source": [
    "* Python is a widely used **General-purpose,High-level, Interpreted,Dynamically Typed programming language.**\n",
    "* It was created by **Guido van Rossum in 1991** and further developed by the Python Software Foundation.\n",
    "* It is known for its simplicity, readability, and versatility.\n",
    "* Key Feature of Python: Readability, simplicity, versatility, and extensibility.\n",
    "* Extension of a Python file is .py and incase of jupyter file .ipynb "
   ]
  },
  {
   "cell_type": "code",
   "execution_count": null,
   "id": "e3373c90",
   "metadata": {},
   "outputs": [],
   "source": []
  },
  {
   "cell_type": "markdown",
   "id": "384e8360",
   "metadata": {},
   "source": [
    "# Input and Output"
   ]
  },
  {
   "cell_type": "code",
   "execution_count": 2,
   "id": "7268bd82",
   "metadata": {},
   "outputs": [
    {
     "name": "stdout",
     "output_type": "stream",
     "text": [
      "p\n",
      "Enter Your Name: Binoy\n"
     ]
    },
    {
     "data": {
      "text/plain": [
       "'Binoy'"
      ]
     },
     "execution_count": 2,
     "metadata": {},
     "output_type": "execute_result"
    }
   ],
   "source": [
    "# Basic input function is input()\n",
    "input()\n",
    "\n",
    "# you can modify it and add an extra comment to show what to input to the user.\n",
    "input('Enter Your Name: ')"
   ]
  },
  {
   "cell_type": "code",
   "execution_count": 5,
   "id": "5293361c",
   "metadata": {},
   "outputs": [
    {
     "name": "stdout",
     "output_type": "stream",
     "text": [
      "Hello\n",
      "Hello-World\n",
      "Hello**"
     ]
    }
   ],
   "source": [
    "# For output you can use print() \n",
    "print('Hello')\n",
    "\n",
    "# You can Modify it by using various parameter: sep- Seprator, end- How to end \n",
    "print('Hello','World',sep='-')\n",
    "print('Hello',end= '**')"
   ]
  },
  {
   "cell_type": "markdown",
   "id": "8f34c136",
   "metadata": {},
   "source": [
    "# Comments"
   ]
  },
  {
   "cell_type": "markdown",
   "id": "6dbc7795",
   "metadata": {},
   "source": [
    "* Comments in Python are lines of text that are ignored by the interpreter during code execution.\n",
    "\n",
    "* They are used to provide explanations, descriptions, or additional information about the code.\n",
    "\n",
    "* It helps to :                         \n",
    "    Code Documentation and Readability                       \n",
    "    Code Debugging and Troubleshooting                       \n",
    "    Collaboration and Communication                     \n",
    "    Code Maintenance and Updates                 "
   ]
  },
  {
   "cell_type": "code",
   "execution_count": null,
   "id": "22166602",
   "metadata": {},
   "outputs": [],
   "source": []
  },
  {
   "cell_type": "markdown",
   "id": "02b3a870",
   "metadata": {},
   "source": [
    "# Operators"
   ]
  },
  {
   "cell_type": "markdown",
   "id": "4adf4333",
   "metadata": {},
   "source": [
    "* Operators in Python are symbols or special keywords that perform operations on one or more operands (values or variables) to produce a result.\n",
    "\n",
    "* OPERATORS : they are the special symbols. (Ex- + , * , /, etc.)    \n",
    "* OPERAND : It is the value on which the operator is applied."
   ]
  },
  {
   "cell_type": "markdown",
   "id": "b03fbea3",
   "metadata": {},
   "source": [
    "### 1. Arithmetic Operators:\n",
    "Arithmetic Operators are used to perform arithmetic operations between two operands.\n",
    "\n",
    "| Operator | Description                        | Purpose                           | Example          | Result |\n",
    "|----------|------------------------------------|-----------------------------------|------------------|--------|\n",
    "| +        | Addition                           | Adds two operands                 | 5 + 3            | 8      |\n",
    "| -        | Subtraction                        | Subtracts one operand from another| 7 - 2            | 5      |\n",
    "| *        | Multiplication                     | Multiplies two operands           | 4 * 6            | 24     |\n",
    "| /        | Division                           | Divides one operand by another    | 10 / 2           | 5.0    |\n",
    "| //       | Floor Division                     | Divides one operand by another and rounds down to the nearest whole number | 10 // 3 | 3      |\n",
    "| %        | Modulus                            | Returns the remainder of division  | 10 % 3           | 1      |\n",
    "| **       | Exponentiation                     | Raises one operand to the power of another | 2 ** 3   | 8      |\n"
   ]
  },
  {
   "cell_type": "markdown",
   "id": "e4ea4766",
   "metadata": {},
   "source": [
    "### 2. Logical Operators:\n",
    "The logical operators are used primarily in the expression evaluation to make a decision.\n",
    "\n",
    "| Operator | Description              | Purpose                                 | Example                 | Result |\n",
    "|----------|--------------------------|-----------------------------------------|-------------------------|--------|\n",
    "| and      | Logical AND              | Returns True if both operands are True   | True and False          | False  |\n",
    "| or       | Logical OR               | Returns True if either operand is True   | True or False           | True   |\n",
    "| not      | Logical NOT              | Returns the opposite of the operand     | not True                | False  |\n"
   ]
  },
  {
   "cell_type": "markdown",
   "id": "1bfe8aec",
   "metadata": {},
   "source": [
    "### 3. Assignment Operators:\n",
    "The assignment operators are used to assign the value of the right expression to the left operand.\n",
    "\n",
    "| Operator | Description                        | Purpose                                                  | Example             | Result |\n",
    "|----------|------------------------------------|----------------------------------------------------------|---------------------|--------|\n",
    "| =        | Assignment                         | Assigns the value on the right to the variable on the left| x = 5               | x = 5  |\n",
    "| +=       | Addition Assignment                | Adds the value on the right to the variable on the left   | x += 3              | x = 8  |\n",
    "| -=       | Subtraction Assignment             | Subtracts the value on the right from the variable on the left | x -= 2           | x = 6  |\n",
    "| *=       | Multiplication Assignment          | Multiplies the variable on the left by the value on the right | x *= 4           | x = 24 |\n",
    "| /=       | Division Assignment                | Divides the variable on the left by the value on the right | x /= 2              | x = 12 |\n",
    "| %=       | Modulus Assignment                 | Computes the modulus of the variable on the left with the value on the right | x %= 5   | x = 2  |\n",
    "| //=      | Floor Division Assignment          | Computes the floor division of the variable on the left by the value on the right | x //= 3 | x = 0  |\n",
    "| **=      | Exponentiation Assignment          | Raises the variable on the left to the power of the value on the right | x **= 2    | x = 0  |\n"
   ]
  },
  {
   "cell_type": "markdown",
   "id": "7c06a4c0",
   "metadata": {},
   "source": [
    "### 4. Relational/Conditional Operators:\n",
    "Comparison operators are used to comparing the value of the two operands and returns Boolean true or false accordingly.\n",
    "\n",
    "| Operator | Description                     | Purpose                                       | Example              | Result |\n",
    "|----------|---------------------------------|-----------------------------------------------|----------------------|--------|\n",
    "| ==       | Equal to                        | Checks if two operands are equal              | 5 == 5               | True   |\n",
    "| !=       | Not equal to                    | Checks if two operands are not equal          | 5 != 3               | True   |\n",
    "| >        | Greater than                    | Checks if the left operand is greater than the right operand | 7 > 3       | True   |\n",
    "| <        | Less than                       | Checks if the left operand is less than the right operand | 2 < 4       | True   |\n",
    "| >=       | Greater than or equal to         | Checks if the left operand is greater than or equal to the right operand | 5 >= 5 | True   |\n",
    "| <=       | Less than or equal to            | Checks if the left operand is less than or equal to the right operand | 3 <= 5 | True   |\n"
   ]
  },
  {
   "cell_type": "markdown",
   "id": "fceabdf2",
   "metadata": {},
   "source": [
    "### 5. Bitwise Operators:\n",
    "The bitwise operators perform bit by bit operation on the values of the two operands.\n",
    "\n",
    "| Operator | Description                        | Purpose                                                   | Example             | Result |\n",
    "|----------|------------------------------------|-----------------------------------------------------------|---------------------|--------|\n",
    "| &        | Bitwise AND                        | Performs bitwise AND operation on the corresponding bits   | 5 & 3               | 1      |\n",
    "| \\|       | Bitwise OR                         | Performs bitwise OR operation on the corresponding bits    | 5 \\| 3              | 7      |\n",
    "| ^        | Bitwise XOR                        | Performs bitwise XOR (exclusive OR) operation on the corresponding bits | 5 ^ 3  | 6      |\n",
    "| ~        | Bitwise NOT                        | Flips the bits of the operand (one's complement)           | ~5                  | -6     |\n",
    "| <<       | Bitwise Left Shift                 | Shifts the bits of the operand to the left                 | 5 << 2              | 20     |\n",
    "| >>       | Bitwise Right Shift                | Shifts the bits of the operand to the right                | 5 >> 2              | 1      |\n"
   ]
  },
  {
   "cell_type": "markdown",
   "id": "565000c3",
   "metadata": {},
   "source": [
    "### 6. Membership Operators:\n",
    "Python membership operators are used to check the membership of value inside a Python data structure.     \n",
    "If the value is present in the data structure, then the resulting value is true otherwise it returns false.\n",
    "\n",
    "| Operator | Description                                | Purpose                                                               | Example                 | Result |\n",
    "|----------|--------------------------------------------|-----------------------------------------------------------------------|-------------------------|--------|\n",
    "| in       | Membership: Checks if an element is present in a sequence       | Returns True if the value is found in the sequence                     | 5 in [1, 2, 3, 4, 5]    | True   |\n",
    "| not in   | Membership: Checks if an element is not present in a sequence   | Returns True if the value is not found in the sequence                 | 6 not in [1, 2, 3, 4, 5] | True   |\n"
   ]
  },
  {
   "cell_type": "markdown",
   "id": "04b112ad",
   "metadata": {},
   "source": [
    "### 7. Identity Operators:\n",
    "The identity operators are used to decide whether an element certain class or type.\n",
    "\n",
    "| Operator | Description                        | Purpose                                                         | Example        | Result |\n",
    "|----------|------------------------------------|-----------------------------------------------------------------|----------------|--------|\n",
    "| is       | Identity: Checks if two operands refer to the same object   | Returns True if the operands refer to the same object           | x is y         | False  |\n",
    "| is not   | Identity: Checks if two operands do not refer to the same object | Returns True if the operands do not refer to the same object | x is not y     | True   |\n"
   ]
  },
  {
   "cell_type": "code",
   "execution_count": null,
   "id": "6c15636f",
   "metadata": {},
   "outputs": [],
   "source": []
  },
  {
   "cell_type": "markdown",
   "id": "b6f8b053",
   "metadata": {},
   "source": [
    "# Variable "
   ]
  },
  {
   "cell_type": "markdown",
   "id": "1c5f9d66",
   "metadata": {},
   "source": [
    "* A variable is a named container or storage location in a program that holds a value. It acts as a symbolic representation for a piece of data that can be manipulated and accessed throughout the program.\n",
    "* Variable is used for:                  \n",
    "    Data Storage and Manupulation                    \n",
    "    Readability and Maintainability                  \n",
    "    Scope Management            "
   ]
  },
  {
   "cell_type": "markdown",
   "id": "b910f470",
   "metadata": {},
   "source": [
    "# Data Types"
   ]
  },
  {
   "cell_type": "markdown",
   "id": "82f6b66c",
   "metadata": {},
   "source": [
    "* Data type defines the nature of a variable or an object.\n",
    "* It determines the type of data that a variable can hold and the operations that can be performed on that data.\n",
    "* Python is Dynamically Typed language "
   ]
  },
  {
   "cell_type": "markdown",
   "id": "7723eb24",
   "metadata": {},
   "source": [
    "# Identifiers"
   ]
  },
  {
   "cell_type": "markdown",
   "id": "9e365a79",
   "metadata": {},
   "source": [
    "* Identifiers are names used to identify variables, functions, classes, objects, or other entities within a program.\n",
    "* They act as labels or references to these program elements."
   ]
  },
  {
   "cell_type": "code",
   "execution_count": null,
   "id": "a8f21c58",
   "metadata": {},
   "outputs": [],
   "source": []
  },
  {
   "cell_type": "markdown",
   "id": "141008a0",
   "metadata": {},
   "source": [
    "# Numbers"
   ]
  },
  {
   "cell_type": "code",
   "execution_count": null,
   "id": "cdd11d1c",
   "metadata": {},
   "outputs": [],
   "source": []
  },
  {
   "cell_type": "code",
   "execution_count": null,
   "id": "7834514b",
   "metadata": {},
   "outputs": [],
   "source": []
  },
  {
   "cell_type": "markdown",
   "id": "a54beb4b",
   "metadata": {},
   "source": [
    "# String"
   ]
  },
  {
   "cell_type": "markdown",
   "id": "5bb77288",
   "metadata": {},
   "source": [
    "* An ordered sequence of unicode characters, enclosed in single, double, or triple quotes.\n",
    "* Immutable, Indexing and Slicing is possible.\n",
    "* Addition of two string is known as Concatination and Multiplication of a string with a number is known as Replication."
   ]
  },
  {
   "cell_type": "code",
   "execution_count": 7,
   "id": "4f64c7a6",
   "metadata": {},
   "outputs": [
    {
     "name": "stdout",
     "output_type": "stream",
     "text": [
      "Hi, I am Binoy\n"
     ]
    },
    {
     "data": {
      "text/plain": [
       "'Kolkata, West Bnegal, 24 Parganas (South),Pin-700137'"
      ]
     },
     "execution_count": 7,
     "metadata": {},
     "output_type": "execute_result"
    }
   ],
   "source": [
    "# Creating String \n",
    "\n",
    "name= 'Binoy'\n",
    "address= \"Kolkata, West Bnegal, 24 Parganas (South),Pin-700137\"\n",
    "something_serious = \"Binoy's Tutorial\"\n",
    "number= str(100)  # Type Casting"
   ]
  },
  {
   "cell_type": "code",
   "execution_count": 9,
   "id": "f4bbe900",
   "metadata": {},
   "outputs": [
    {
     "name": "stdout",
     "output_type": "stream",
     "text": [
      "Hi, I am Binoy\n",
      "B\n",
      "y\n",
      "Kolkat\n",
      "Klaa \n"
     ]
    },
    {
     "data": {
      "text/plain": [
       "'Kolkata, West Bnegal, 24 Parganas (South),Pin-700137'"
      ]
     },
     "execution_count": 9,
     "metadata": {},
     "output_type": "execute_result"
    }
   ],
   "source": [
    "# Accessing String \n",
    "\n",
    "# Inside a print statement\n",
    "print('Hi, I am', name)\n",
    "\n",
    "# Indexing \n",
    "print(name[0])\n",
    "print(name[-1])\n",
    "\n",
    "# Slicing \n",
    "print(address[0:6])  #start:end:skip\n",
    "print(address[0:10:2])\n",
    "\n",
    "# Directly by calling the variable\n",
    "address"
   ]
  },
  {
   "cell_type": "code",
   "execution_count": null,
   "id": "aed10d9e",
   "metadata": {},
   "outputs": [],
   "source": []
  },
  {
   "cell_type": "code",
   "execution_count": null,
   "id": "32568d4c",
   "metadata": {},
   "outputs": [],
   "source": [
    "# String Formatting "
   ]
  },
  {
   "cell_type": "code",
   "execution_count": null,
   "id": "49bf15e2",
   "metadata": {},
   "outputs": [],
   "source": [
    "# Updating String \n",
    "\n"
   ]
  },
  {
   "cell_type": "code",
   "execution_count": 10,
   "id": "b26d4625",
   "metadata": {},
   "outputs": [
    {
     "name": "stdout",
     "output_type": "stream",
     "text": [
      "17\n",
      "r\n",
      " \n",
      "[' ', '!', 'H', 'P', 'a', 'e', 'e', 'g', 'l', 'l', 'm', 'm', 'o', 'o', 'r', 'r', 'r']\n"
     ]
    }
   ],
   "source": [
    "# Common String Method and their application\n",
    "\n",
    "String = 'Hello Programmer!'\n",
    "\n",
    "# Len(): To know the length\n",
    "print(len(String))\n",
    "\n",
    "# max(string): Returns the character with the maximum ASCII value\n",
    "print(max(String))\n",
    "\n",
    "# min(string): Returns the character with the minimum ASCII value\n",
    "print(min(String))\n",
    "\n",
    "# sorted(string): Returns a sorted list of characters from the string in ascending order based on their ASCII values.\n",
    "print(sorted(String))"
   ]
  },
  {
   "cell_type": "code",
   "execution_count": null,
   "id": "7738ebbd",
   "metadata": {},
   "outputs": [],
   "source": [
    "# count('letter'): Counts the number of occurrences of the substring 'letter' in the string\n",
    "print(sorted(String))\n",
    "\n",
    "# find('letter'): Find the index of the first occurrence of a substring in the string\n",
    "print(sorted(String))\n",
    "\n",
    "# index('letter'):  Find the index of the first occurrence of a substring in the string. \n",
    "print(sorted(String))"
   ]
  },
  {
   "cell_type": "code",
   "execution_count": null,
   "id": "13e1965b",
   "metadata": {},
   "outputs": [],
   "source": []
  },
  {
   "cell_type": "markdown",
   "id": "933bb818",
   "metadata": {},
   "source": [
    "# List"
   ]
  },
  {
   "cell_type": "code",
   "execution_count": null,
   "id": "7cf58fce",
   "metadata": {},
   "outputs": [],
   "source": []
  },
  {
   "cell_type": "code",
   "execution_count": null,
   "id": "3c952509",
   "metadata": {},
   "outputs": [],
   "source": []
  },
  {
   "cell_type": "markdown",
   "id": "00a912f5",
   "metadata": {},
   "source": [
    "# Tuples"
   ]
  },
  {
   "cell_type": "code",
   "execution_count": null,
   "id": "aba46e51",
   "metadata": {},
   "outputs": [],
   "source": []
  },
  {
   "cell_type": "code",
   "execution_count": null,
   "id": "449bb570",
   "metadata": {},
   "outputs": [],
   "source": []
  },
  {
   "cell_type": "markdown",
   "id": "79b79b7f",
   "metadata": {},
   "source": [
    "# Set"
   ]
  },
  {
   "cell_type": "code",
   "execution_count": null,
   "id": "13a01d61",
   "metadata": {},
   "outputs": [],
   "source": []
  },
  {
   "cell_type": "code",
   "execution_count": null,
   "id": "5e9f0887",
   "metadata": {},
   "outputs": [],
   "source": []
  },
  {
   "cell_type": "markdown",
   "id": "eaaa10da",
   "metadata": {},
   "source": [
    "# Dictionary"
   ]
  },
  {
   "cell_type": "code",
   "execution_count": null,
   "id": "1ad0da42",
   "metadata": {},
   "outputs": [],
   "source": []
  },
  {
   "cell_type": "code",
   "execution_count": null,
   "id": "3d3590d9",
   "metadata": {},
   "outputs": [],
   "source": []
  },
  {
   "cell_type": "markdown",
   "id": "320afa96",
   "metadata": {},
   "source": [
    "# If-Else"
   ]
  },
  {
   "cell_type": "code",
   "execution_count": null,
   "id": "c77c472e",
   "metadata": {},
   "outputs": [],
   "source": []
  },
  {
   "cell_type": "code",
   "execution_count": null,
   "id": "9055d1ca",
   "metadata": {},
   "outputs": [],
   "source": []
  },
  {
   "cell_type": "markdown",
   "id": "aa2cfd48",
   "metadata": {},
   "source": [
    "# If-Elif-Else"
   ]
  },
  {
   "cell_type": "code",
   "execution_count": null,
   "id": "3a4b12e2",
   "metadata": {},
   "outputs": [],
   "source": []
  },
  {
   "cell_type": "code",
   "execution_count": null,
   "id": "6b33be0f",
   "metadata": {},
   "outputs": [],
   "source": []
  },
  {
   "cell_type": "markdown",
   "id": "1eb43857",
   "metadata": {},
   "source": [
    "# Match Case"
   ]
  },
  {
   "cell_type": "code",
   "execution_count": null,
   "id": "507d0fa8",
   "metadata": {},
   "outputs": [],
   "source": []
  },
  {
   "cell_type": "code",
   "execution_count": null,
   "id": "ed4af416",
   "metadata": {},
   "outputs": [],
   "source": []
  },
  {
   "cell_type": "markdown",
   "id": "819964dc",
   "metadata": {},
   "source": [
    "# Pass"
   ]
  },
  {
   "cell_type": "code",
   "execution_count": null,
   "id": "e354e4aa",
   "metadata": {},
   "outputs": [],
   "source": []
  },
  {
   "cell_type": "code",
   "execution_count": null,
   "id": "9b41764b",
   "metadata": {},
   "outputs": [],
   "source": []
  },
  {
   "cell_type": "markdown",
   "id": "e17025c3",
   "metadata": {},
   "source": [
    "# Continue"
   ]
  },
  {
   "cell_type": "code",
   "execution_count": null,
   "id": "56ab89cd",
   "metadata": {},
   "outputs": [],
   "source": []
  },
  {
   "cell_type": "code",
   "execution_count": null,
   "id": "95ea9b41",
   "metadata": {},
   "outputs": [],
   "source": []
  },
  {
   "cell_type": "markdown",
   "id": "604bf3b2",
   "metadata": {},
   "source": [
    "# For Loop"
   ]
  },
  {
   "cell_type": "code",
   "execution_count": null,
   "id": "e8e4f1fe",
   "metadata": {},
   "outputs": [],
   "source": []
  },
  {
   "cell_type": "code",
   "execution_count": null,
   "id": "8ee8d67d",
   "metadata": {},
   "outputs": [],
   "source": []
  },
  {
   "cell_type": "markdown",
   "id": "e6c6af02",
   "metadata": {},
   "source": [
    "# While Loop"
   ]
  },
  {
   "cell_type": "code",
   "execution_count": null,
   "id": "f1ae78ad",
   "metadata": {},
   "outputs": [],
   "source": []
  },
  {
   "cell_type": "code",
   "execution_count": null,
   "id": "d8f4792a",
   "metadata": {},
   "outputs": [],
   "source": []
  },
  {
   "cell_type": "markdown",
   "id": "a45390e1",
   "metadata": {},
   "source": [
    "# Function"
   ]
  },
  {
   "cell_type": "code",
   "execution_count": null,
   "id": "297eab89",
   "metadata": {},
   "outputs": [],
   "source": []
  },
  {
   "cell_type": "code",
   "execution_count": null,
   "id": "f5ab7c3e",
   "metadata": {},
   "outputs": [],
   "source": []
  },
  {
   "cell_type": "markdown",
   "id": "ca60227c",
   "metadata": {},
   "source": [
    "# Recursion"
   ]
  },
  {
   "cell_type": "code",
   "execution_count": null,
   "id": "6fadbc8a",
   "metadata": {},
   "outputs": [],
   "source": []
  },
  {
   "cell_type": "code",
   "execution_count": null,
   "id": "a8f18301",
   "metadata": {},
   "outputs": [],
   "source": []
  },
  {
   "cell_type": "markdown",
   "id": "933c90a6",
   "metadata": {},
   "source": [
    "# Lambda Function"
   ]
  },
  {
   "cell_type": "code",
   "execution_count": null,
   "id": "b71e0897",
   "metadata": {},
   "outputs": [],
   "source": []
  },
  {
   "cell_type": "code",
   "execution_count": null,
   "id": "a8ac6988",
   "metadata": {},
   "outputs": [],
   "source": []
  }
 ],
 "metadata": {
  "kernelspec": {
   "display_name": "Python 3 (ipykernel)",
   "language": "python",
   "name": "python3"
  },
  "language_info": {
   "codemirror_mode": {
    "name": "ipython",
    "version": 3
   },
   "file_extension": ".py",
   "mimetype": "text/x-python",
   "name": "python",
   "nbconvert_exporter": "python",
   "pygments_lexer": "ipython3",
   "version": "3.9.12"
  }
 },
 "nbformat": 4,
 "nbformat_minor": 5
}
