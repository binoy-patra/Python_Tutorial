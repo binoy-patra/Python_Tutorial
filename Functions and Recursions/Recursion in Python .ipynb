{
 "cells": [
  {
   "cell_type": "markdown",
   "id": "80f9dc8a",
   "metadata": {},
   "source": [
    "# Recursion "
   ]
  },
  {
   "cell_type": "markdown",
   "id": "b196ee59",
   "metadata": {},
   "source": [
    "### Recursion: \n",
    "\n",
    "* Recursion in n Python refers to the process where a function calls itself directly or indirectly to solve a problem. \n",
    "* In other words, a function in Python can call itself during its execution, creating a loop-like structure where the function keeps calling itself until a specific condition is met.\n",
    "* Recursion is a powerful technique for solving problems that can be broken down into smaller, simpler instances of the same problem. However, it should be used with caution, as improper implementation can lead to infinite loops and excessive memory consumption."
   ]
  },
  {
   "cell_type": "code",
   "execution_count": null,
   "id": "8f106281",
   "metadata": {},
   "outputs": [],
   "source": []
  },
  {
   "cell_type": "markdown",
   "id": "6e39d68b",
   "metadata": {},
   "source": [
    "* The key components of a recursive function are:\n",
    "\n",
    "1. **Base Case:** A condition that serves as the termination condition for the recursion. When the base case is met, the function stops calling itself and returns a result, preventing infinite recursion.\n",
    "\n",
    "2. **Recursive Case:** The part of the function where it calls itself with a modified version of the problem. The function continues to call itself with smaller sub-problems until the base case is reached.\n"
   ]
  },
  {
   "cell_type": "markdown",
   "id": "ad44c734",
   "metadata": {},
   "source": [
    "* Let's consider a simple example of a recursive function to calculate the result of (3 * 4) using recursion:\n",
    "\n",
    "**Base Case:** The base case is the simplest scenario where the function does not call itself and provides a direct answer. In this case, the base case is when the multiplication involves only one factor, which is 1.\n",
    "\n",
    "```python\n",
    "def multiply(a, b):\n",
    "    if b == 1:\n",
    "        return a\n",
    "```\n",
    "\n",
    "**Recursive Case:** The recursive case is the part of the function where it calls itself with a modified version of the problem. In this example, the recursive case is when the multiplication involves two factors, and the function calls itself to handle a smaller sub-problem.\n",
    "\n",
    "```python\n",
    "def multiply(a, b):\n",
    "    if b == 1:\n",
    "        return a\n",
    "    else:\n",
    "        return a + multiply(a, b - 1)\n",
    "```\n",
    "\n",
    "By calling `multiply(3, 4)`, the function will first check if `b` is equal to 1 (the base case). If not, it will enter the recursive case, where it will return `a` (which is 3) plus the result of calling `multiply(a, b - 1)`, which in this case is `multiply(3, 3)`. The process continues until the base case is reached (`b` becomes 1), and the function stops calling itself, returning the final result of 12 for the multiplication (3 * 4)."
   ]
  },
  {
   "cell_type": "code",
   "execution_count": 2,
   "id": "d7249207",
   "metadata": {},
   "outputs": [
    {
     "data": {
      "text/plain": [
       "12"
      ]
     },
     "execution_count": 2,
     "metadata": {},
     "output_type": "execute_result"
    }
   ],
   "source": [
    "def multiply(a, b):\n",
    "    if b == 1:\n",
    "        return a\n",
    "    else:\n",
    "        return a + multiply(a, b - 1)\n",
    "    \n",
    "multiply(3,4)    # Go to any visualization tool for visualize the flow "
   ]
  },
  {
   "cell_type": "code",
   "execution_count": null,
   "id": "e1153790",
   "metadata": {},
   "outputs": [],
   "source": []
  },
  {
   "cell_type": "code",
   "execution_count": null,
   "id": "7e4dbf9a",
   "metadata": {},
   "outputs": [],
   "source": [
    "# Example of a recursive function to calculate the factorial of a number:\n",
    "\n",
    "def factorial(n):\n",
    "    \n",
    "    # Base case: when n is 0 or 1, the factorial is 1\n",
    "    if n == 0 or n == 1:\n",
    "        return 1\n",
    "    \n",
    "    # Recursive case: calculate the factorial of n by calling the function with n-1\n",
    "    else:\n",
    "        return n * factorial(n - 1)\n",
    "\n",
    "    \n",
    "# Calculate the factorial of 5\n",
    "result = factorial(5)\n",
    "print(result)                  # Output: 120 (5! = 5 * 4 * 3 * 2 * 1)"
   ]
  },
  {
   "cell_type": "markdown",
   "id": "0bcab266",
   "metadata": {},
   "source": [
    "\n",
    "In this example,\n",
    "- the `factorial()` function calls itself with a smaller value of `n` until `n` reaches 1 (base case), at which point the recursion stops, and the results are computed and returned back through the function calls."
   ]
  },
  {
   "cell_type": "code",
   "execution_count": null,
   "id": "f55a42cf",
   "metadata": {},
   "outputs": [],
   "source": []
  },
  {
   "cell_type": "markdown",
   "id": "3b61c631",
   "metadata": {},
   "source": [
    "### Advantages of Recursion in Python:\n",
    "\n",
    "1. **Simplifies Complex Problems:** Recursion can make solving complex problems easier by breaking them down into smaller, more manageable sub-problems.\n",
    "\n",
    "2. **Elegant Code:** Recursive solutions can lead to elegant and concise code, making the code easier to understand and maintain.\n",
    "\n",
    "### Disadvantages of Recursion in Python:\n",
    "\n",
    "1. **Stack Overflow:** Recursion consumes memory on the call stack, which can lead to a \"stack overflow\" error when dealing with large or infinite recursion.\n",
    "\n",
    "2. **Performance Overhead:** Recursive calls can introduce additional overhead, making recursive solutions slower compared to iterative approaches.\n",
    "\n",
    "3. **Complex Debugging:** Debugging recursive functions can be challenging due to the multiple layers of function calls and complex control flow.\n",
    "\n",
    "4. **Limited Optimization:** Python lacks proper tail call optimization, which can lead to stack overflow errors even in tail-recursive functions that should be optimized."
   ]
  },
  {
   "cell_type": "code",
   "execution_count": null,
   "id": "6a94b4d0",
   "metadata": {},
   "outputs": [],
   "source": [
    "# Pelindrome String "
   ]
  },
  {
   "cell_type": "code",
   "execution_count": null,
   "id": "4ea0709a",
   "metadata": {},
   "outputs": [],
   "source": [
    "# Fibonacci series"
   ]
  },
  {
   "cell_type": "code",
   "execution_count": null,
   "id": "722bab71",
   "metadata": {},
   "outputs": [],
   "source": []
  },
  {
   "cell_type": "code",
   "execution_count": null,
   "id": "ad8cc53a",
   "metadata": {},
   "outputs": [],
   "source": []
  },
  {
   "cell_type": "code",
   "execution_count": null,
   "id": "e1769b1e",
   "metadata": {},
   "outputs": [],
   "source": []
  },
  {
   "cell_type": "code",
   "execution_count": null,
   "id": "23d9c41d",
   "metadata": {},
   "outputs": [],
   "source": []
  },
  {
   "cell_type": "code",
   "execution_count": null,
   "id": "c809577a",
   "metadata": {},
   "outputs": [],
   "source": []
  },
  {
   "cell_type": "code",
   "execution_count": null,
   "id": "2a6b289a",
   "metadata": {},
   "outputs": [],
   "source": []
  },
  {
   "cell_type": "code",
   "execution_count": null,
   "id": "3f45276f",
   "metadata": {},
   "outputs": [],
   "source": []
  },
  {
   "cell_type": "code",
   "execution_count": null,
   "id": "32fb2dc7",
   "metadata": {},
   "outputs": [],
   "source": []
  },
  {
   "cell_type": "code",
   "execution_count": null,
   "id": "782f0481",
   "metadata": {},
   "outputs": [],
   "source": []
  },
  {
   "cell_type": "code",
   "execution_count": null,
   "id": "0af23b71",
   "metadata": {},
   "outputs": [],
   "source": []
  },
  {
   "cell_type": "code",
   "execution_count": null,
   "id": "2344170f",
   "metadata": {},
   "outputs": [],
   "source": []
  },
  {
   "cell_type": "code",
   "execution_count": null,
   "id": "f37d2ea4",
   "metadata": {},
   "outputs": [],
   "source": []
  },
  {
   "cell_type": "code",
   "execution_count": null,
   "id": "ce1891f0",
   "metadata": {},
   "outputs": [],
   "source": []
  },
  {
   "cell_type": "code",
   "execution_count": null,
   "id": "8d2d31d9",
   "metadata": {},
   "outputs": [],
   "source": []
  },
  {
   "cell_type": "code",
   "execution_count": null,
   "id": "472f735b",
   "metadata": {},
   "outputs": [],
   "source": []
  },
  {
   "cell_type": "code",
   "execution_count": null,
   "id": "b1af9205",
   "metadata": {},
   "outputs": [],
   "source": []
  },
  {
   "cell_type": "code",
   "execution_count": null,
   "id": "6e570104",
   "metadata": {},
   "outputs": [],
   "source": []
  },
  {
   "cell_type": "code",
   "execution_count": null,
   "id": "2e91a649",
   "metadata": {},
   "outputs": [],
   "source": []
  },
  {
   "cell_type": "code",
   "execution_count": null,
   "id": "61000769",
   "metadata": {},
   "outputs": [],
   "source": []
  }
 ],
 "metadata": {
  "kernelspec": {
   "display_name": "Python 3 (ipykernel)",
   "language": "python",
   "name": "python3"
  },
  "language_info": {
   "codemirror_mode": {
    "name": "ipython",
    "version": 3
   },
   "file_extension": ".py",
   "mimetype": "text/x-python",
   "name": "python",
   "nbconvert_exporter": "python",
   "pygments_lexer": "ipython3",
   "version": "3.9.12"
  }
 },
 "nbformat": 4,
 "nbformat_minor": 5
}
