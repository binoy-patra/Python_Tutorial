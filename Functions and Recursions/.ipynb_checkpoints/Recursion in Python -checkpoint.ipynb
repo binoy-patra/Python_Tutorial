{
 "cells": [
  {
   "cell_type": "markdown",
   "id": "80f9dc8a",
   "metadata": {},
   "source": [
    "# Recursion "
   ]
  },
  {
   "cell_type": "markdown",
   "id": "b196ee59",
   "metadata": {},
   "source": [
    "### Recursion: \n",
    "\n",
    "* Recursion in n Python refers to the process where a function calls itself directly or indirectly to solve a problem. \n",
    "* In other words, a function in Python can call itself during its execution, creating a loop-like structure where the function keeps calling itself until a specific condition is met.\n",
    "* Recursion is a powerful technique for solving problems that can be broken down into smaller, simpler instances of the same problem. However, it should be used with caution, as improper implementation can lead to infinite loops and excessive memory consumption."
   ]
  },
  {
   "cell_type": "code",
   "execution_count": null,
   "id": "8f106281",
   "metadata": {},
   "outputs": [],
   "source": []
  },
  {
   "cell_type": "markdown",
   "id": "6e39d68b",
   "metadata": {},
   "source": [
    "* The key components of a recursive function are:\n",
    "\n",
    "1. **Base Case:** A condition that serves as the termination condition for the recursion. When the base case is met, the function stops calling itself and returns a result, preventing infinite recursion.\n",
    "\n",
    "2. **Recursive Case:** The part of the function where it calls itself with a modified version of the problem. The function continues to call itself with smaller sub-problems until the base case is reached.\n"
   ]
  },
  {
   "cell_type": "markdown",
   "id": "ad44c734",
   "metadata": {},
   "source": [
    "* Let's consider a simple example of a recursive function to calculate the result of (3 * 4) using recursion:\n",
    "\n",
    "**Base Case:** The base case is the simplest scenario where the function does not call itself and provides a direct answer. In this case, the base case is when the multiplication involves only one factor, which is 1.\n",
    "\n",
    "```python\n",
    "def multiply(a, b):\n",
    "    if b == 1:\n",
    "        return a\n",
    "```\n",
    "\n",
    "**Recursive Case:** The recursive case is the part of the function where it calls itself with a modified version of the problem. In this example, the recursive case is when the multiplication involves two factors, and the function calls itself to handle a smaller sub-problem.\n",
    "\n",
    "```python\n",
    "def multiply(a, b):\n",
    "    if b == 1:\n",
    "        return a\n",
    "    else:\n",
    "        return a + multiply(a, b - 1)\n",
    "```\n",
    "\n",
    "By calling `multiply(3, 4)`, the function will first check if `b` is equal to 1 (the base case). If not, it will enter the recursive case, where it will return `a` (which is 3) plus the result of calling `multiply(a, b - 1)`, which in this case is `multiply(3, 3)`. The process continues until the base case is reached (`b` becomes 1), and the function stops calling itself, returning the final result of 12 for the multiplication (3 * 4)."
   ]
  },
  {
   "cell_type": "code",
   "execution_count": null,
   "id": "d2430b11",
   "metadata": {},
   "outputs": [],
   "source": []
  },
  {
   "cell_type": "code",
   "execution_count": 1,
   "id": "d7249207",
   "metadata": {},
   "outputs": [
    {
     "data": {
      "text/plain": [
       "12"
      ]
     },
     "execution_count": 1,
     "metadata": {},
     "output_type": "execute_result"
    }
   ],
   "source": [
    "def multiply(a, b):\n",
    "    if b == 1:\n",
    "        return a\n",
    "    else:\n",
    "        return a + multiply(a, b - 1)\n",
    "    \n",
    "multiply(3,4)    # Go to any visualization tool for visualize the flow "
   ]
  },
  {
   "cell_type": "code",
   "execution_count": null,
   "id": "e1153790",
   "metadata": {},
   "outputs": [],
   "source": []
  },
  {
   "cell_type": "code",
   "execution_count": 2,
   "id": "7e4dbf9a",
   "metadata": {},
   "outputs": [
    {
     "name": "stdout",
     "output_type": "stream",
     "text": [
      "120\n"
     ]
    }
   ],
   "source": [
    "# Example of a recursive function to calculate the factorial of a number:\n",
    "\n",
    "def factorial(n):\n",
    "    \n",
    "    # Base case: when n is 0 or 1, the factorial is 1\n",
    "    if n == 0 or n == 1:\n",
    "        return 1\n",
    "    \n",
    "    # Recursive case: calculate the factorial of n by calling the function with n-1\n",
    "    else:\n",
    "        return n * factorial(n - 1)\n",
    "\n",
    "    \n",
    "# Calculate the factorial of 5\n",
    "result = factorial(5)\n",
    "print(result)                  # Output: 120 (5! = 5 * 4 * 3 * 2 * 1)"
   ]
  },
  {
   "cell_type": "markdown",
   "id": "0bcab266",
   "metadata": {},
   "source": [
    "\n",
    "In this example,\n",
    "- the `factorial()` function calls itself with a smaller value of `n` until `n` reaches 1 (base case), at which point the recursion stops, and the results are computed and returned back through the function calls."
   ]
  },
  {
   "cell_type": "code",
   "execution_count": null,
   "id": "f55a42cf",
   "metadata": {},
   "outputs": [],
   "source": []
  },
  {
   "cell_type": "markdown",
   "id": "3b61c631",
   "metadata": {},
   "source": [
    "### Advantages of Recursion in Python:\n",
    "\n",
    "1. **Simplifies Complex Problems:** Recursion can make solving complex problems easier by breaking them down into smaller, more manageable sub-problems.\n",
    "\n",
    "2. **Elegant Code:** Recursive solutions can lead to elegant and concise code, making the code easier to understand and maintain.\n",
    "\n",
    "### Disadvantages of Recursion in Python:\n",
    "\n",
    "1. **Stack Overflow:** Recursion consumes memory on the call stack, which can lead to a \"stack overflow\" error when dealing with large or infinite recursion.\n",
    "\n",
    "2. **Performance Overhead:** Recursive calls can introduce additional overhead, making recursive solutions slower compared to iterative approaches.\n",
    "\n",
    "3. **Complex Debugging:** Debugging recursive functions can be challenging due to the multiple layers of function calls and complex control flow.\n",
    "\n",
    "4. **Limited Optimization:** Python lacks proper tail call optimization, which can lead to stack overflow errors even in tail-recursive functions that should be optimized."
   ]
  },
  {
   "cell_type": "code",
   "execution_count": null,
   "id": "53adf9da",
   "metadata": {},
   "outputs": [],
   "source": []
  },
  {
   "cell_type": "code",
   "execution_count": 5,
   "id": "6a94b4d0",
   "metadata": {},
   "outputs": [],
   "source": [
    "# Pelindrome String \n",
    "\n",
    "def is_palindrome(s):\n",
    "    # Base case: if the string is empty or has only one character, it's a palindrome\n",
    "    if len(s) <= 1:\n",
    "        return True\n",
    "    \n",
    "    # Recursive case: check if the first and last characters are the same\n",
    "    # If they are, recursively check the substring without these characters\n",
    "    # If they're not, the string is not a palindrome\n",
    "    if s[0] == s[-1]:\n",
    "        return is_palindrome(s[1:-1])\n",
    "    else:\n",
    "        return False"
   ]
  },
  {
   "cell_type": "code",
   "execution_count": 6,
   "id": "9b37f15b",
   "metadata": {},
   "outputs": [
    {
     "name": "stdout",
     "output_type": "stream",
     "text": [
      "True\n",
      "False\n",
      "True\n"
     ]
    }
   ],
   "source": [
    "# Example usage:\n",
    "print(is_palindrome(\"radar\"))   # Output: True\n",
    "print(is_palindrome(\"hello\"))   # Output: False\n",
    "print(is_palindrome(\"level\"))   # Output: True"
   ]
  },
  {
   "cell_type": "code",
   "execution_count": 7,
   "id": "4ea0709a",
   "metadata": {},
   "outputs": [
    {
     "name": "stdout",
     "output_type": "stream",
     "text": [
      "0\n",
      "1\n",
      "1\n",
      "2\n",
      "3\n",
      "5\n",
      "8\n",
      "13\n",
      "21\n",
      "34\n"
     ]
    }
   ],
   "source": [
    "# Fibonacci series\n",
    "def fibonacci(n):\n",
    "    if n <= 1:\n",
    "        return n\n",
    "    else:\n",
    "        return fibonacci(n-1) + fibonacci(n-2)\n",
    "\n",
    "# Example usage:\n",
    "for i in range(10):\n",
    "    print(fibonacci(i))"
   ]
  },
  {
   "cell_type": "code",
   "execution_count": 8,
   "id": "722bab71",
   "metadata": {},
   "outputs": [
    {
     "name": "stdout",
     "output_type": "stream",
     "text": [
      "6\n",
      "15\n"
     ]
    }
   ],
   "source": [
    "# Sum of Digit \n",
    "\n",
    "def sum_of_digits(n):\n",
    "    if n < 10:\n",
    "        return n\n",
    "    else:\n",
    "        return n % 10 + sum_of_digits(n // 10)\n",
    "\n",
    "# Example usage:\n",
    "print(sum_of_digits(123))  # Output: 6 (1 + 2 + 3 = 6)\n",
    "print(sum_of_digits(456))  # Output: 15 (4 + 5 + 6 = 15)"
   ]
  },
  {
   "cell_type": "code",
   "execution_count": 9,
   "id": "ad8cc53a",
   "metadata": {},
   "outputs": [
    {
     "name": "stdout",
     "output_type": "stream",
     "text": [
      "6\n"
     ]
    }
   ],
   "source": [
    "# Binary Search \n",
    "\n",
    "def binary_search(arr, target, low, high):\n",
    "    if low > high:\n",
    "        return -1\n",
    "    mid = (low + high) // 2\n",
    "    if arr[mid] == target:\n",
    "        return mid\n",
    "    elif arr[mid] < target:\n",
    "        return binary_search(arr, target, mid + 1, high)\n",
    "    else:\n",
    "        return binary_search(arr, target, low, mid - 1)\n",
    "\n",
    "# Example usage:\n",
    "arr = [1, 2, 3, 4, 5, 6, 7, 8, 9, 10]\n",
    "target = 7\n",
    "print(binary_search(arr, target, 0, len(arr) - 1))  # Output: 6 (index of target element 7)"
   ]
  },
  {
   "cell_type": "markdown",
   "id": "06153f69",
   "metadata": {},
   "source": [
    "### Explanation:\n",
    "\n",
    "1. **Input Parameters:** The function `binary_search()` takes four parameters:\n",
    "   - `arr`: The sorted list or array in which the target element is to be found.\n",
    "   - `target`: The element to be searched for.\n",
    "   - `low`: The index representing the lower bound of the search range.\n",
    "   - `high`: The index representing the upper bound of the search range.\n",
    "\n",
    "2. **Base Case:** The function first checks if `low` is greater than `high`. If this condition is true, it means that the target element is not present in the current search range, so the function returns `-1` to indicate that the element was not found.\n",
    "\n",
    "3. **Recursive Step:** If the base case is not met, the function calculates the middle index `mid` of the current search range `(low, high)`. It then compares the element at index `mid` with the target element:\n",
    "   - If the element at `mid` is equal to the target, the function returns `mid`, indicating that the target element was found at index `mid`.\n",
    "   - If the element at `mid` is less than the target, it means that the target element must be in the right half of the current search range. So, the function recursively calls itself with the updated search range `(mid + 1, high)`.\n",
    "   - If the element at `mid` is greater than the target, it means that the target element must be in the left half of the current search range. So, the function recursively calls itself with the updated search range `(low, mid - 1)`.\n",
    "\n",
    "4. **Repeat:** The function repeats steps 2 and 3 until the base case is met or the target element is found.\n",
    "\n",
    "### Advantages: \n",
    "This binary search algorithm efficiently reduces the search space by half with each recursive call, making it significantly faster than linear search, especially for large sorted arrays."
   ]
  },
  {
   "cell_type": "code",
   "execution_count": null,
   "id": "8b8990a3",
   "metadata": {},
   "outputs": [],
   "source": []
  },
  {
   "cell_type": "code",
   "execution_count": null,
   "id": "1ef5210a",
   "metadata": {},
   "outputs": [],
   "source": []
  },
  {
   "cell_type": "code",
   "execution_count": 10,
   "id": "23d9c41d",
   "metadata": {},
   "outputs": [
    {
     "name": "stdout",
     "output_type": "stream",
     "text": [
      "8\n",
      "0.04\n"
     ]
    }
   ],
   "source": [
    "def power(base, exponent):\n",
    "    if exponent == 0:\n",
    "        return 1\n",
    "    elif exponent < 0:\n",
    "        return 1 / power(base, -exponent)\n",
    "    else:\n",
    "        return base * power(base, exponent - 1)\n",
    "\n",
    "# Example usage:\n",
    "print(power(2, 3))   # Output: 8 (2^3 = 2 * 2 * 2 = 8)\n",
    "print(power(5, -2))  # Output: 0.04 (5^(-2) = 1 / (5^2) = 1 / 25 = 0.04)"
   ]
  },
  {
   "cell_type": "code",
   "execution_count": null,
   "id": "c809577a",
   "metadata": {},
   "outputs": [],
   "source": []
  }
 ],
 "metadata": {
  "kernelspec": {
   "display_name": "Python 3 (ipykernel)",
   "language": "python",
   "name": "python3"
  },
  "language_info": {
   "codemirror_mode": {
    "name": "ipython",
    "version": 3
   },
   "file_extension": ".py",
   "mimetype": "text/x-python",
   "name": "python",
   "nbconvert_exporter": "python",
   "pygments_lexer": "ipython3",
   "version": "3.9.12"
  }
 },
 "nbformat": 4,
 "nbformat_minor": 5
}
