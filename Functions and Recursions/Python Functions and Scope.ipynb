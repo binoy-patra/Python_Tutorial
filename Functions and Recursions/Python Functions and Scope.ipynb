{
 "cells": [
  {
   "cell_type": "markdown",
   "metadata": {},
   "source": [
    "# Writing Reusable Code using Functions in Python"
   ]
  },
  {
   "cell_type": "markdown",
   "metadata": {},
   "source": [
    "This tutorial covers the following topics:\n",
    "\n",
    "- Basic of Function, Types of Function with Example\n",
    "- Principle of Function\n",
    "- Creating and using functions in Python\n",
    "- Documenting functions using docstrings and its importance\n",
    "- Deep drive into Parameter and Argument \n",
    "- `*args` and `**kwargs` \n",
    "- How Functions are executed in memory?\n",
    "- Visualization of execution of Function\n",
    "- Local variables vs Global Variable\n",
    "- Advance Concept: Why Python Functions are known as First Class Citizen"
   ]
  },
  {
   "cell_type": "code",
   "execution_count": null,
   "metadata": {},
   "outputs": [],
   "source": []
  },
  {
   "cell_type": "markdown",
   "metadata": {},
   "source": [
    "### functions: \n",
    "\n",
    "* In Python, a function is a block of reusable code that performs a specific task or set of tasks. It allows you to break down your program into smaller, manageable parts, making it easier to organize and maintain the code. \n",
    "* Functions are defined using the `def` keyword, followed by the function name, a set of parentheses for optional parameters, and a colon. The function body is indented and contains the code that executes when the function is called. \n",
    "* Functions can take input arguments and return output values, enhancing code reusability and modularity in Python programs.\n",
    "* Basically function acts like a black-box, that takes one or more inputs, performs some operations, and often returns an output."
   ]
  },
  {
   "cell_type": "markdown",
   "metadata": {},
   "source": [
    "### Types of Fuction :\n",
    "\n",
    "1. **Built-in Functions**:\n",
    "\n",
    "* These functions are provided by the Python standard library and are readily available for use without the need for explicit definition.\n",
    "* Examples: print(), len(), max(), min(), sum().\n",
    "\n",
    "2. **User-Defined Functions**:\n",
    "\n",
    "* Functions defined by users to perform specific tasks in their programs.\n",
    "* They provide modularity and code reusability.\n",
    "* Defined using the `def` keyword."
   ]
  },
  {
   "cell_type": "code",
   "execution_count": 1,
   "metadata": {},
   "outputs": [
    {
     "name": "stdout",
     "output_type": "stream",
     "text": [
      "Today is Saturday\n"
     ]
    }
   ],
   "source": [
    "# Built-in Functions\n",
    "today = \"Saturday\"\n",
    "print(\"Today is\", today)"
   ]
  },
  {
   "cell_type": "markdown",
   "metadata": {},
   "source": [
    "You can define a new function using the `def` keyword."
   ]
  },
  {
   "cell_type": "code",
   "execution_count": 2,
   "metadata": {},
   "outputs": [],
   "source": [
    "# User-Defined Functions\n",
    "# Creating function using def keyword\n",
    "\n",
    "def say_hello(): \n",
    "    name= input(\"Hi, what's your name? \")\n",
    "    print('Hello there!', name)\n",
    "    print('How are you?')"
   ]
  },
  {
   "cell_type": "markdown",
   "metadata": {},
   "source": [
    "* The round brackets or parentheses `()` and colon `:` after the function's name. Both are essential parts of the syntax. \n",
    "* The function's *body* contains an indented block of statements. The statements inside a function's body are not executed when the function is defined. \n",
    "* To execute the statements, we need to *call* or *invoke* the function."
   ]
  },
  {
   "cell_type": "code",
   "execution_count": 3,
   "metadata": {},
   "outputs": [
    {
     "name": "stdout",
     "output_type": "stream",
     "text": [
      "Hi, what's your name? Binoy Patra\n",
      "Hello there! Binoy Patra\n",
      "How are you?\n"
     ]
    }
   ],
   "source": [
    "# Calling the function\n",
    "say_hello()"
   ]
  },
  {
   "cell_type": "code",
   "execution_count": null,
   "metadata": {},
   "outputs": [],
   "source": []
  },
  {
   "cell_type": "markdown",
   "metadata": {},
   "source": [
    "### Benefits of Function :\n",
    "\n",
    "Writing functions in a program offers several benefits that contribute to code organization, reusability, and maintainability. Here are some key reasons why writing functions is essential:\n",
    "\n",
    "1. **Modularity and Code Organization** :\n",
    "   - Functions allow you to break down your code into smaller, manageable, and self-contained units. Each function can handle a specific task, making the code more organized and easier to understand.\n",
    "\n",
    "2. **Reusability** :\n",
    "   - Once you define a function, you can use it multiple times throughout your program or even in other programs. This reusability reduces code duplication and saves development time.\n",
    "\n",
    "3. **Readability and Maintainability** :\n",
    "   - Functions make the code more readable and easier to maintain by abstracting complex logic into named blocks. This enhances the clarity of the code and makes it easier for others to understand.\n",
    "\n",
    "4. **Abstraction** :\n",
    "   - Functions help you encapsulate a set of operations into a single unit, allowing you to focus on the higher-level behavior rather than the implementation details. This level of abstraction enhances code understanding and reduces the risk of errors.\n",
    "\n",
    "5. **Testing and Debugging** :\n",
    "   - Functions enable you to test specific pieces of functionality in isolation, making it easier to identify and fix bugs in your code. By testing individual functions, you can ensure that each part of your program works correctly.\n",
    "\n",
    "6. **Flexibility and Maintainability** :\n",
    "   - If you need to modify a specific piece of code, having functions allows you to make changes in one place without affecting other parts of the codebase. This leads to more maintainable and adaptable software.\n",
    "\n",
    "7. **Division of Labor** :\n",
    "   - In team development, functions allow multiple developers to work on different parts of the code simultaneously. The division of labor can lead to faster development and easier integration of different components.\n",
    "\n",
    "8. **Code Documentation** :\n",
    "   - Functions with descriptive names serve as a form of self-documentation, conveying the purpose and functionality of each part of the code. Well-written function names can act as comments, making the code more comprehensible."
   ]
  },
  {
   "cell_type": "code",
   "execution_count": null,
   "metadata": {},
   "outputs": [],
   "source": []
  },
  {
   "cell_type": "markdown",
   "metadata": {},
   "source": [
    "### Principles of Functions :\n",
    "The two major principles of functions are Abstraction and Decomposition. Here's a brief explanation of each:\n",
    "\n",
    "1. **Abstraction:** Abstraction is the process of simplifying complex operations by encapsulating them into a function with a clear and descriptive name. Functions allow you to hide the implementation details and focus on what the function does rather than how it does it. By using functions, you can treat them as black boxes, understanding their input and output without being concerned about their internal workings. Abstraction makes code more readable, maintainable, and allows for modular design.\n",
    "\n",
    "2. **Decomposition:** Decomposition involves breaking down complex problems into smaller, manageable parts or subproblems. It helps in tackling large tasks by dividing them into more manageable components, making it easier to understand, develop, and maintain the code. In the context of functions, decomposition refers to creating functions that solve specific tasks or perform individual operations. These smaller functions can then be combined to solve more complex problems. Decomposition promotes modularity, code reusability, maintainability, and overall code organization."
   ]
  },
  {
   "cell_type": "code",
   "execution_count": null,
   "metadata": {},
   "outputs": [],
   "source": []
  },
  {
   "cell_type": "markdown",
   "metadata": {},
   "source": [
    "### Parts of Function: \n",
    "A function in Python consists of several essential parts:\n",
    "\n",
    "1. **Function Signature:** The function signature includes the function name and its parameters (if any). It defines the unique identifier for the function within the program.\n",
    "\n",
    "2. **Parameters:** Parameters are placeholders in the function definition that represent the values the function will work with. They act as input to the function.\n",
    "\n",
    "3. **Function Body:** The function body is a block of code that contains the statements and operations the function performs. It defines the functionality of the function.\n",
    "\n",
    "4. **Return Statement:** The return statement is optional and is used to specify the value that the function will return to the caller. If omitted, the function returns `None` by default.\n",
    "\n",
    "5. **Local Variables:** Variables defined within the function are considered local variables. They are only accessible within the function's scope and do not interfere with variables outside the function.\n",
    "\n",
    "6. **Documentation (Docstring):** A docstring is an optional string that provides documentation about the function's purpose, input parameters, and return value. It helps other developers understand how to use the function correctly."
   ]
  },
  {
   "cell_type": "code",
   "execution_count": 4,
   "metadata": {},
   "outputs": [],
   "source": [
    "def add_numbers(a, b):\n",
    "    \n",
    "    \"\"\"\n",
    "    This function takes two numbers as input and returns their sum.\n",
    "    \n",
    "    Parameters:\n",
    "    a (int or float): The first number.\n",
    "    b (int or float): The second number.\n",
    "    \n",
    "    Returns:\n",
    "    int or float: The sum of a and b.\n",
    "    \"\"\"\n",
    "    \n",
    "    result = a + b\n",
    "    return result"
   ]
  },
  {
   "cell_type": "markdown",
   "metadata": {},
   "source": [
    "In this example:\n",
    "- The function name is `add_numbers`.\n",
    "- It has two parameters `a` and `b`.\n",
    "- The function body performs the addition of `a` and `b`.\n",
    "- The return statement returns the sum of `a` and `b`.\n",
    "- The docstring provides documentation about the function's purpose and usage.'''"
   ]
  },
  {
   "cell_type": "markdown",
   "metadata": {},
   "source": [
    "### 2 point of views: "
   ]
  },
  {
   "cell_type": "code",
   "execution_count": 5,
   "metadata": {},
   "outputs": [
    {
     "data": {
      "text/plain": [
       "19"
      ]
     },
     "execution_count": 5,
     "metadata": {},
     "output_type": "execute_result"
    }
   ],
   "source": [
    "# Proper input\n",
    "add_numbers(9,10)"
   ]
  },
  {
   "cell_type": "code",
   "execution_count": 6,
   "metadata": {},
   "outputs": [
    {
     "ename": "TypeError",
     "evalue": "unsupported operand type(s) for +: 'int' and 'str'",
     "output_type": "error",
     "traceback": [
      "\u001b[1;31m---------------------------------------------------------------------------\u001b[0m",
      "\u001b[1;31mTypeError\u001b[0m                                 Traceback (most recent call last)",
      "Input \u001b[1;32mIn [6]\u001b[0m, in \u001b[0;36m<cell line: 2>\u001b[1;34m()\u001b[0m\n\u001b[0;32m      1\u001b[0m \u001b[38;5;66;03m# Wrong input -- error \u001b[39;00m\n\u001b[1;32m----> 2\u001b[0m \u001b[43madd_numbers\u001b[49m\u001b[43m(\u001b[49m\u001b[38;5;241;43m0\u001b[39;49m\u001b[43m,\u001b[49m\u001b[38;5;124;43m'\u001b[39;49m\u001b[38;5;124;43ma\u001b[39;49m\u001b[38;5;124;43m'\u001b[39;49m\u001b[43m)\u001b[49m\n",
      "Input \u001b[1;32mIn [4]\u001b[0m, in \u001b[0;36madd_numbers\u001b[1;34m(a, b)\u001b[0m\n\u001b[0;32m      1\u001b[0m \u001b[38;5;28;01mdef\u001b[39;00m \u001b[38;5;21madd_numbers\u001b[39m(a, b):\n\u001b[0;32m      3\u001b[0m     \u001b[38;5;124;03m\"\"\"\u001b[39;00m\n\u001b[0;32m      4\u001b[0m \u001b[38;5;124;03m    This function takes two numbers as input and returns their sum.\u001b[39;00m\n\u001b[0;32m      5\u001b[0m \u001b[38;5;124;03m    \u001b[39;00m\n\u001b[1;32m   (...)\u001b[0m\n\u001b[0;32m     11\u001b[0m \u001b[38;5;124;03m    int or float: The sum of a and b.\u001b[39;00m\n\u001b[0;32m     12\u001b[0m \u001b[38;5;124;03m    \"\"\"\u001b[39;00m\n\u001b[1;32m---> 14\u001b[0m     result \u001b[38;5;241m=\u001b[39m \u001b[43ma\u001b[49m\u001b[43m \u001b[49m\u001b[38;5;241;43m+\u001b[39;49m\u001b[43m \u001b[49m\u001b[43mb\u001b[49m\n\u001b[0;32m     15\u001b[0m     \u001b[38;5;28;01mreturn\u001b[39;00m result\n",
      "\u001b[1;31mTypeError\u001b[0m: unsupported operand type(s) for +: 'int' and 'str'"
     ]
    }
   ],
   "source": [
    "# Wrong input -- error \n",
    "add_numbers(0,'a')"
   ]
  },
  {
   "cell_type": "code",
   "execution_count": null,
   "metadata": {},
   "outputs": [],
   "source": []
  },
  {
   "cell_type": "code",
   "execution_count": 7,
   "metadata": {},
   "outputs": [],
   "source": [
    "# Exact Code: \n",
    "def add_numbers(a, b):\n",
    "    \n",
    "    \"\"\"\n",
    "    This function takes two numbers as input and returns their sum.\n",
    "    \n",
    "    Parameters:\n",
    "    a (int or float): The first number.\n",
    "    b (int or float): The second number.\n",
    "    \n",
    "    Returns:\n",
    "    int or float: The sum of a and b.\n",
    "    \"\"\"\n",
    "    if (type(a)== int or type(a)== float) and (type(b)== int or type(b) == float):\n",
    "        result = a + b\n",
    "        return result\n",
    "    else:\n",
    "        return 'Wrong Input!'"
   ]
  },
  {
   "cell_type": "code",
   "execution_count": 8,
   "metadata": {},
   "outputs": [
    {
     "name": "stdout",
     "output_type": "stream",
     "text": [
      "26\n",
      "Wrong Input!\n"
     ]
    }
   ],
   "source": [
    "print(add_numbers(10,16))\n",
    "print(add_numbers(14,'a'))"
   ]
  },
  {
   "cell_type": "code",
   "execution_count": 9,
   "metadata": {},
   "outputs": [],
   "source": [
    "# Example 2: \n",
    "def is_even(num):\n",
    "  \"\"\"\n",
    "  This function returns if a given number is odd or even\n",
    "  input - any valid integer\n",
    "  output - odd/even\n",
    "  created on - 3rd August 2023\n",
    "  \"\"\"\n",
    "  if type(num) == int:\n",
    "    if num % 2 == 0:\n",
    "        return 'even'\n",
    "    else:\n",
    "        return 'odd'\n",
    "  else:\n",
    "    return 'Check your input!!'"
   ]
  },
  {
   "cell_type": "code",
   "execution_count": 10,
   "metadata": {},
   "outputs": [
    {
     "name": "stdout",
     "output_type": "stream",
     "text": [
      "even\n",
      "Check your input!!\n"
     ]
    }
   ],
   "source": [
    "print(is_even(12))\n",
    "print(is_even('binoy'))"
   ]
  },
  {
   "cell_type": "code",
   "execution_count": 11,
   "metadata": {},
   "outputs": [
    {
     "name": "stdout",
     "output_type": "stream",
     "text": [
      "\n",
      "  This function returns if a given number is odd or even\n",
      "  input - any valid integer\n",
      "  output - odd/even\n",
      "  created on - 3rd August 2023\n",
      "  \n"
     ]
    }
   ],
   "source": [
    "# How to access the documentation? \n",
    "\n",
    "print(is_even.__doc__)\n",
    "# add_numbers.__doc__\n",
    "# print.__doc__\n",
    "# type.__doc__"
   ]
  },
  {
   "cell_type": "code",
   "execution_count": null,
   "metadata": {},
   "outputs": [],
   "source": []
  },
  {
   "cell_type": "markdown",
   "metadata": {},
   "source": [
    "## Parameter vs Argument : \n",
    "\n",
    "In programming, \"parameter\" and \"argument\" are related terms used in the context of functions. They refer to different aspects of function invocation:\n",
    "\n",
    "1. **Parameter:**\n",
    "   - A parameter is a variable declared in the function definition and acts as a placeholder to receive values when the function is called.\n",
    "   - Parameters are used to pass data into the function, allowing the function to work with specific values during its execution.\n",
    "   - They are specified in the function signature, enclosed within parentheses, and separated by commas.\n",
    "   - Parameters represent the inputs that the function expects to receive when it is called.\n",
    "\n",
    "2. **Argument:**\n",
    "   - An argument is a value passed to a function when calling it.\n",
    "   - When you call a function, you provide actual values, which are called arguments, to match the function's parameters.\n",
    "   - Arguments are the actual data that is used as input for the function's parameters during function invocation.\n",
    "   - The number of arguments passed to a function should match the number of parameters declared in the function definition."
   ]
  },
  {
   "cell_type": "code",
   "execution_count": 12,
   "metadata": {},
   "outputs": [
    {
     "name": "stdout",
     "output_type": "stream",
     "text": [
      "Hello, Alice!\n"
     ]
    }
   ],
   "source": [
    "def greet(name):\n",
    "                               # 'name' is the parameter\n",
    "    print(f\"Hello, {name}!\")\n",
    "\n",
    "greet(\"Alice\")\n",
    "                              # 'Alice' is the argument passed to the 'name' parameter"
   ]
  },
  {
   "cell_type": "markdown",
   "metadata": {},
   "source": [
    "In this example\n",
    "- The function `greet` takes one parameter `name`.\n",
    "- When we call the function with the argument `\"Alice\"`, the value `\"Alice\"` is passed to the `name` parameter, and the function will print \"Hello, Alice!\"."
   ]
  },
  {
   "cell_type": "code",
   "execution_count": null,
   "metadata": {},
   "outputs": [],
   "source": []
  },
  {
   "cell_type": "markdown",
   "metadata": {},
   "source": [
    "### Types of argument :\n",
    "\n",
    "In Python, there are four types of arguments that can be passed to a function during its invocation:\n",
    "\n",
    "1. **Default Arguments:**\n",
    "   - Default arguments have a predefined value in the function signature.\n",
    "   - If an argument is not provided during the function call, the default value will be used instead.\n",
    "   - Default arguments are specified by assigning a value to the parameter in the function definition.\n",
    "\n",
    "2. **Positional Arguments:**\n",
    "   - Positional arguments are the most common type of arguments in Python functions.\n",
    "   - They are passed in the same order as the parameters are defined in the function signature.\n",
    "   - The number and order of positional arguments in the function call must match the number and order of parameters in the function definition.\n",
    "\n",
    "3. **Keyword Arguments:**\n",
    "   - Keyword arguments are specified using the name of the parameter followed by the value, separated by an equal sign (`=`).\n",
    "   - Unlike positional arguments, keyword arguments allow you to specify the values for parameters in any order, as long as you provide the parameter name.\n",
    "   - This flexibility is useful when you have functions with many parameters, and you want to avoid remembering the specific order. \n",
    "\n",
    "4. **Variable-Length Arguments:**\n",
    "   - Sometimes, you may want to pass a variable number of arguments to a function.\n",
    "   - Python supports two types of variable-length arguments: *args and **kwargs.\n",
    "   - *args allows you to pass a variable number of positional arguments to a function, while **kwargs allows you to pass a variable number of keyword arguments.\n",
    "   - The names *args and **kwargs are conventions, but you can choose any name as long as you use the asterisk (*) for *args and double asterisk (**) for **kwargs."
   ]
  },
  {
   "cell_type": "markdown",
   "metadata": {},
   "source": [
    "### When to use what argments :\n",
    "1. **Default Arguments:** Use when some parameters need predefined values, but users can override them if needed.\n",
    "2. **Positional Arguments:** Use when the order of arguments matters and is consistent with the function definition.\n",
    "3. **Keyword Arguments:** Use for functions with many parameters or to improve the readability of the function call. \n",
    "4. **Variable-Length Arguments:** Use *args and ***kwargs for functions that accept a variable number of arguments."
   ]
  },
  {
   "cell_type": "code",
   "execution_count": 13,
   "metadata": {},
   "outputs": [
    {
     "name": "stdout",
     "output_type": "stream",
     "text": [
      "19\n"
     ]
    },
    {
     "ename": "TypeError",
     "evalue": "addition() missing 1 required positional argument: 'b'",
     "output_type": "error",
     "traceback": [
      "\u001b[1;31m---------------------------------------------------------------------------\u001b[0m",
      "\u001b[1;31mTypeError\u001b[0m                                 Traceback (most recent call last)",
      "Input \u001b[1;32mIn [13]\u001b[0m, in \u001b[0;36m<cell line: 9>\u001b[1;34m()\u001b[0m\n\u001b[0;32m      6\u001b[0m \u001b[38;5;28mprint\u001b[39m(addition(\u001b[38;5;241m9\u001b[39m,\u001b[38;5;241m10\u001b[39m))\n\u001b[0;32m      8\u001b[0m \u001b[38;5;66;03m# second call \u001b[39;00m\n\u001b[1;32m----> 9\u001b[0m \u001b[38;5;28mprint\u001b[39m(\u001b[43maddition\u001b[49m\u001b[43m(\u001b[49m\u001b[38;5;241;43m9\u001b[39;49m\u001b[43m)\u001b[49m)\n\u001b[0;32m     11\u001b[0m \u001b[38;5;66;03m# third call \u001b[39;00m\n\u001b[0;32m     12\u001b[0m \u001b[38;5;28mprint\u001b[39m(addition())\n",
      "\u001b[1;31mTypeError\u001b[0m: addition() missing 1 required positional argument: 'b'"
     ]
    }
   ],
   "source": [
    "# Default argument \n",
    "def addition (a,b):\n",
    "    return a+b \n",
    "\n",
    "# first call \n",
    "print(addition(9,10))\n",
    "\n",
    "# second call \n",
    "print(addition(9))\n",
    "\n",
    "# third call \n",
    "print(addition())"
   ]
  },
  {
   "cell_type": "code",
   "execution_count": 14,
   "metadata": {},
   "outputs": [
    {
     "name": "stdout",
     "output_type": "stream",
     "text": [
      "19\n",
      "9\n",
      "0\n"
     ]
    }
   ],
   "source": [
    "# Default argument \n",
    "def addition (a=0,b=0):\n",
    "    return a+b \n",
    "\n",
    "# first call \n",
    "print(addition(9,10))\n",
    "\n",
    "# second call \n",
    "print(addition(9))\n",
    "\n",
    "# third call \n",
    "print(addition())"
   ]
  },
  {
   "cell_type": "code",
   "execution_count": 15,
   "metadata": {},
   "outputs": [
    {
     "name": "stdout",
     "output_type": "stream",
     "text": [
      "9\n",
      "8\n"
     ]
    }
   ],
   "source": [
    "#  Default Argument\n",
    "def calculate_power(base, exponent=2):\n",
    "    return base ** exponent\n",
    "\n",
    "result1 = calculate_power(3)\n",
    "# 'exponent' is not provided, so it uses the default value 2.\n",
    "\n",
    "result2 = calculate_power(2, 3)\n",
    "# 'exponent' is provided as 3, which overrides the default value.\n",
    "\n",
    "print(result1)  # Output: 9\n",
    "print(result2)  # Output: 8"
   ]
  },
  {
   "cell_type": "code",
   "execution_count": 16,
   "metadata": {},
   "outputs": [
    {
     "name": "stdout",
     "output_type": "stream",
     "text": [
      "9\n",
      "8\n"
     ]
    }
   ],
   "source": [
    "# Positional Argument \n",
    "\n",
    "# first call \n",
    "print(calculate_power(3,2))    \n",
    "\n",
    "# second call \n",
    "print(calculate_power(2,3))"
   ]
  },
  {
   "cell_type": "code",
   "execution_count": 17,
   "metadata": {},
   "outputs": [
    {
     "name": "stdout",
     "output_type": "stream",
     "text": [
      "Hello, Alice! You are 30 years old.\n"
     ]
    }
   ],
   "source": [
    "# Keyword Argument\n",
    "def greet(name, age):\n",
    "    print(f\"Hello, {name}! You are {age} years old.\")\n",
    "\n",
    "greet(age=30, name=\"Alice\")\n",
    "# Here, we used keyword arguments to specify the parameter names 'name' and 'age' explicitly."
   ]
  },
  {
   "cell_type": "code",
   "execution_count": null,
   "metadata": {},
   "outputs": [],
   "source": []
  },
  {
   "cell_type": "code",
   "execution_count": null,
   "metadata": {},
   "outputs": [],
   "source": []
  },
  {
   "cell_type": "code",
   "execution_count": null,
   "metadata": {},
   "outputs": [],
   "source": []
  },
  {
   "cell_type": "markdown",
   "metadata": {},
   "source": [
    "### *args:\n",
    "* *args is used to pass a variable number of positional arguments to a function.\n",
    "* It collects all the positional arguments passed to the function into a tuple.\n",
    "* The name \"args\" is a convention, but you can use any valid variable name preceded by an asterisk (*).\n",
    "* When defining a function, *args should be placed as a parameter, typically as the last parameter, in the function signature.\n",
    "* The function can then access the arguments using the args tuple."
   ]
  },
  {
   "cell_type": "code",
   "execution_count": 18,
   "metadata": {},
   "outputs": [
    {
     "name": "stdout",
     "output_type": "stream",
     "text": [
      "10\n"
     ]
    }
   ],
   "source": [
    "# *args\n",
    "# allows us to pass a variable number of non-keyword arguments to a function.\n",
    "\n",
    "def add(*args):\n",
    "    result = 0\n",
    "    for num in args:\n",
    "        result += num\n",
    "    return result\n",
    "\n",
    "print(add(1, 2, 3, 4))  # Output: 10"
   ]
  },
  {
   "cell_type": "code",
   "execution_count": 24,
   "metadata": {},
   "outputs": [],
   "source": [
    "def multiply(*kwargs):\n",
    "    product = 1\n",
    "    \n",
    "    for i in kwargs:\n",
    "        product = product * i\n",
    "    print(kwargs)\n",
    "    return product"
   ]
  },
  {
   "cell_type": "code",
   "execution_count": 25,
   "metadata": {},
   "outputs": [
    {
     "name": "stdout",
     "output_type": "stream",
     "text": [
      "(1, 2, 3, 4, 5, 6, 7, 8, 9, 10, 12)\n"
     ]
    },
    {
     "data": {
      "text/plain": [
       "43545600"
      ]
     },
     "execution_count": 25,
     "metadata": {},
     "output_type": "execute_result"
    }
   ],
   "source": [
    "multiply(1,2,3,4,5,6,7,8,9,10,12)"
   ]
  },
  {
   "cell_type": "code",
   "execution_count": null,
   "metadata": {},
   "outputs": [],
   "source": []
  },
  {
   "cell_type": "markdown",
   "metadata": {},
   "source": [
    "### **kwargs:\n",
    "- **kwargs is used to pass a variable number of keyword arguments to a function.\n",
    "- It collects all the keyword arguments passed to the function into a dictionary.\n",
    "- The name \"kwargs\" is a convention, but you can use any valid variable name preceded by two asterisks (**).\n",
    "- When defining a function, **kwargs should be placed as a parameter, typically after *args or as the last parameter, in the function signature.\n",
    "- The function can then access the keyword arguments using the kwargs dictionary."
   ]
  },
  {
   "cell_type": "code",
   "execution_count": 21,
   "metadata": {},
   "outputs": [],
   "source": [
    "# **kwargs\n",
    "# **kwargs allows us to pass any number of keyword arguments.\n",
    "# Keyword arguments mean that they contain a key-value pair, like a Python dictionary.\n",
    "\n",
    "def display(**kwargs):\n",
    "    for (key,value) in kwargs.items(): \n",
    "        print(key,'->',value)"
   ]
  },
  {
   "cell_type": "code",
   "execution_count": 22,
   "metadata": {},
   "outputs": [
    {
     "name": "stdout",
     "output_type": "stream",
     "text": [
      "india -> delhi\n",
      "srilanka -> colombo\n",
      "nepal -> kathmandu\n",
      "pakistan -> islamabad\n"
     ]
    }
   ],
   "source": [
    "display(india='delhi',srilanka='colombo',nepal='kathmandu',pakistan='islamabad')"
   ]
  },
  {
   "cell_type": "code",
   "execution_count": 23,
   "metadata": {},
   "outputs": [
    {
     "name": "stdout",
     "output_type": "stream",
     "text": [
      "name: John\n",
      "age: 30\n",
      "occupation: Engineer\n"
     ]
    }
   ],
   "source": [
    "def print_info(**kwargs):\n",
    "    for key, value in kwargs.items():\n",
    "        print(f\"{key}: {value}\")\n",
    "\n",
    "print_info(name=\"John\", age=30, occupation=\"Engineer\")\n",
    "# Output:\n",
    "# name: John\n",
    "# age: 30\n",
    "# occupation: Engineer"
   ]
  },
  {
   "cell_type": "code",
   "execution_count": null,
   "metadata": {},
   "outputs": [],
   "source": []
  },
  {
   "cell_type": "markdown",
   "metadata": {},
   "source": [
    "##### Points to remember while using `*args and **kwargs`\n",
    "\n",
    "- order of the arguments matter(normal -> `*args` -> `**kwargs`)\n",
    "- The words “args” and “kwargs” are only a convention, you can use any name of your choice\n"
   ]
  },
  {
   "cell_type": "code",
   "execution_count": null,
   "metadata": {},
   "outputs": [],
   "source": []
  },
  {
   "cell_type": "markdown",
   "metadata": {},
   "source": [
    "## How Functions are executed in memory?"
   ]
  },
  {
   "cell_type": "markdown",
   "metadata": {},
   "source": [
    "* When you define a function in Python, it gets stored in memory as a code object. This code object contains the bytecode instructions that define the behavior of the function.\n",
    "* When you call the function, Python creates a temporary workspace called a stack frame to handle its execution. This Stack Frame contains information such as local variables, parameters, and the return address. The function's code is run within this workspace, and any data it needs is stored there. \n",
    "* Once the function finishes running, its workspace is removed from memory,and the control returns to the calling code."
   ]
  },
  {
   "cell_type": "markdown",
   "metadata": {},
   "source": [
    "### Visualize the execution of your code using this amazing tool: \n",
    "\n",
    "[Python Visualization Tool](https://pythontutor.com/visualize.html#mode=edit)"
   ]
  },
  {
   "cell_type": "code",
   "execution_count": 26,
   "metadata": {},
   "outputs": [
    {
     "name": "stdout",
     "output_type": "stream",
     "text": [
      "5\n",
      "6\n",
      "5\n"
     ]
    }
   ],
   "source": [
    "def g(y):\n",
    "    print(x)\n",
    "    print(x+1)\n",
    "x = 5\n",
    "g(x)\n",
    "print(x)"
   ]
  },
  {
   "cell_type": "code",
   "execution_count": 27,
   "metadata": {},
   "outputs": [
    {
     "name": "stdout",
     "output_type": "stream",
     "text": [
      "2\n",
      "5\n"
     ]
    }
   ],
   "source": [
    "def f(y):\n",
    "    x = 1\n",
    "    x += 1\n",
    "    print(x)\n",
    "x = 5\n",
    "f(x)\n",
    "print(x)"
   ]
  },
  {
   "cell_type": "code",
   "execution_count": 28,
   "metadata": {},
   "outputs": [
    {
     "ename": "UnboundLocalError",
     "evalue": "local variable 'x' referenced before assignment",
     "output_type": "error",
     "traceback": [
      "\u001b[1;31m---------------------------------------------------------------------------\u001b[0m",
      "\u001b[1;31mUnboundLocalError\u001b[0m                         Traceback (most recent call last)",
      "Input \u001b[1;32mIn [28]\u001b[0m, in \u001b[0;36m<cell line: 4>\u001b[1;34m()\u001b[0m\n\u001b[0;32m      2\u001b[0m     x \u001b[38;5;241m+\u001b[39m\u001b[38;5;241m=\u001b[39m \u001b[38;5;241m1\u001b[39m\n\u001b[0;32m      3\u001b[0m x \u001b[38;5;241m=\u001b[39m \u001b[38;5;241m5\u001b[39m\n\u001b[1;32m----> 4\u001b[0m \u001b[43mh\u001b[49m\u001b[43m(\u001b[49m\u001b[43mx\u001b[49m\u001b[43m)\u001b[49m\n\u001b[0;32m      5\u001b[0m \u001b[38;5;28mprint\u001b[39m(x)\n",
      "Input \u001b[1;32mIn [28]\u001b[0m, in \u001b[0;36mh\u001b[1;34m(y)\u001b[0m\n\u001b[0;32m      1\u001b[0m \u001b[38;5;28;01mdef\u001b[39;00m \u001b[38;5;21mh\u001b[39m(y):\n\u001b[1;32m----> 2\u001b[0m     x \u001b[38;5;241m+\u001b[39m\u001b[38;5;241m=\u001b[39m \u001b[38;5;241m1\u001b[39m\n",
      "\u001b[1;31mUnboundLocalError\u001b[0m: local variable 'x' referenced before assignment"
     ]
    }
   ],
   "source": [
    "def h(y):\n",
    "    x += 1\n",
    "x = 5\n",
    "h(x)\n",
    "print(x)"
   ]
  },
  {
   "cell_type": "code",
   "execution_count": 29,
   "metadata": {},
   "outputs": [
    {
     "name": "stdout",
     "output_type": "stream",
     "text": [
      "in f(x): x = 4\n",
      "in main program scope: z = 4\n",
      "in main program scope: x = 3\n"
     ]
    }
   ],
   "source": [
    "def f(x):\n",
    "    x = x + 1\n",
    "    print('in f(x): x =', x)\n",
    "    return x\n",
    "\n",
    "x = 3\n",
    "z = f(x)\n",
    "print('in main program scope: z =', z)\n",
    "print('in main program scope: x =', x)"
   ]
  },
  {
   "cell_type": "markdown",
   "metadata": {},
   "source": [
    "### Nested Function"
   ]
  },
  {
   "cell_type": "code",
   "execution_count": 2,
   "metadata": {},
   "outputs": [],
   "source": [
    "def f():\n",
    "    def g():\n",
    "        print('inside function g')\n",
    "        f()\n",
    "    g()\n",
    "    print('inside function f')"
   ]
  },
  {
   "cell_type": "code",
   "execution_count": null,
   "metadata": {},
   "outputs": [
    {
     "name": "stdout",
     "output_type": "stream",
     "text": [
      "inside function g\n",
      "inside function g\n",
      "inside function g\n",
      "inside function g\n",
      "inside function g\n",
      "inside function g\n",
      "inside function g\n",
      "inside function g\n",
      "inside function g\n",
      "inside function g\n",
      "inside function g\n",
      "inside function g\n",
      "inside function g\n",
      "inside function g\n",
      "inside function g\n",
      "inside function g\n",
      "inside function g\n",
      "inside function g\n",
      "inside function g\n",
      "inside function g\n",
      "inside function g\n",
      "inside function g\n",
      "inside function g\n",
      "inside function g\n",
      "inside function g\n",
      "inside function g\n",
      "inside function g\n",
      "inside function g\n",
      "inside function g\n",
      "inside function g\n",
      "inside function g\n",
      "inside function g\n",
      "inside function g\n",
      "inside function g\n",
      "inside function g\n",
      "inside function g\n",
      "inside function g\n",
      "inside function g\n",
      "inside function g\n",
      "inside function g\n",
      "inside function g\n",
      "inside function g\n",
      "inside function g\n",
      "inside function g\n",
      "inside function g\n",
      "inside function g\n",
      "inside function g\n",
      "inside function g\n",
      "inside function g\n",
      "inside function g\n",
      "inside function g\n",
      "inside function g\n",
      "inside function g\n",
      "inside function g\n",
      "inside function g\n",
      "inside function g\n",
      "inside function g\n",
      "inside function g\n",
      "inside function g\n",
      "inside function g\n",
      "inside function g\n",
      "inside function g\n",
      "inside function g\n",
      "inside function g\n",
      "inside function g\n",
      "inside function g\n",
      "inside function g\n",
      "inside function g\n",
      "inside function g\n",
      "inside function g\n",
      "inside function g\n",
      "inside function g\n",
      "inside function g\n",
      "inside function g\n",
      "inside function g\n",
      "inside function g\n",
      "inside function g\n",
      "inside function g\n",
      "inside function g\n",
      "inside function g\n",
      "inside function g\n",
      "inside function g\n",
      "inside function g\n",
      "inside function g\n",
      "inside function g\n",
      "inside function g\n",
      "inside function g\n",
      "inside function g\n",
      "inside function g\n",
      "inside function g\n",
      "inside function g\n",
      "inside function g\n",
      "inside function g\n",
      "inside function g\n",
      "inside function g\n",
      "inside function g\n",
      "inside function g\n",
      "inside function g\n",
      "inside function g\n",
      "inside function g\n",
      "inside function g\n",
      "inside function g\n",
      "inside function g\n",
      "inside function g\n",
      "inside function g\n",
      "inside function g\n",
      "inside function g\n",
      "inside function g\n",
      "inside function g\n",
      "inside function g\n",
      "inside function g\n",
      "inside function g\n",
      "inside function g\n",
      "inside function g\n",
      "inside function g\n",
      "inside function g\n",
      "inside function g\n",
      "inside function g\n",
      "inside function g\n",
      "inside function g\n",
      "inside function g\n",
      "inside function g\n",
      "inside function g\n",
      "inside function g\n",
      "inside function g\n",
      "inside function g\n",
      "inside function g\n",
      "inside function g\n",
      "inside function g\n",
      "inside function g\n",
      "inside function g\n",
      "inside function g\n",
      "inside function g\n",
      "inside function g\n",
      "inside function g\n",
      "inside function g\n",
      "inside function g\n",
      "inside function g\n",
      "inside function g\n",
      "inside function g\n",
      "inside function g\n",
      "inside function g\n",
      "inside function g\n",
      "inside function g\n",
      "inside function g\n",
      "inside function g\n",
      "inside function g\n",
      "inside function g\n",
      "inside function g\n",
      "inside function g\n",
      "inside function g\n",
      "inside function g\n",
      "inside function g\n",
      "inside function g\n",
      "inside function g\n",
      "inside function g\n",
      "inside function g\n",
      "inside function g\n",
      "inside function g\n",
      "inside function g\n",
      "inside function g\n",
      "inside function g\n",
      "inside function g\n",
      "inside function g\n",
      "inside function g\n",
      "inside function g\n",
      "inside function g\n",
      "inside function g\n",
      "inside function g\n",
      "inside function g\n",
      "inside function g\n",
      "inside function g\n",
      "inside function g\n",
      "inside function g\n",
      "inside function g\n",
      "inside function g\n",
      "inside function g\n",
      "inside function g\n",
      "inside function g\n",
      "inside function g\n",
      "inside function g\n",
      "inside function g\n",
      "inside function g\n",
      "inside function g\n",
      "inside function g\n",
      "inside function g\n",
      "inside function g\n",
      "inside function g\n",
      "inside function g\n",
      "inside function g\n",
      "inside function g\n",
      "inside function g\n",
      "inside function g\n",
      "inside function g\n",
      "inside function g\n",
      "inside function g\n",
      "inside function g\n",
      "inside function g\n",
      "inside function g\n",
      "inside function g\n",
      "inside function g\n",
      "inside function g\n",
      "inside function g\n",
      "inside function g\n",
      "inside function g\n",
      "inside function g\n",
      "inside function g\n",
      "inside function g\n",
      "inside function g\n",
      "inside function g\n",
      "inside function g\n",
      "inside function g\n",
      "inside function g\n",
      "inside function g\n",
      "inside function g\n",
      "inside function g\n",
      "inside function g\n",
      "inside function g\n",
      "inside function g\n",
      "inside function g\n",
      "inside function g\n",
      "inside function g\n",
      "inside function g\n",
      "inside function g\n",
      "inside function g\n",
      "inside function g\n",
      "inside function g\n",
      "inside function g\n",
      "inside function g\n",
      "inside function g\n",
      "inside function g\n",
      "inside function g\n",
      "inside function g\n",
      "inside function g\n",
      "inside function g\n",
      "inside function g\n",
      "inside function g\n",
      "inside function g\n",
      "inside function g\n",
      "inside function g\n",
      "inside function g\n",
      "inside function g\n",
      "inside function g\n",
      "inside function g\n",
      "inside function g\n",
      "inside function g\n",
      "inside function g\n",
      "inside function g\n",
      "inside function g\n",
      "inside function g\n",
      "inside function g\n",
      "inside function g\n",
      "inside function g\n",
      "inside function g\n",
      "inside function g\n",
      "inside function g\n",
      "inside function g\n",
      "inside function g\n",
      "inside function g\n",
      "inside function g\n",
      "inside function g\n",
      "inside function g\n",
      "inside function g\n",
      "inside function g\n",
      "inside function g\n",
      "inside function g\n",
      "inside function g\n",
      "inside function g\n",
      "inside function g\n",
      "inside function g\n",
      "inside function g\n",
      "inside function g\n",
      "inside function g\n",
      "inside function g\n",
      "inside function g\n",
      "inside function g\n",
      "inside function g\n",
      "inside function g\n",
      "inside function g\n",
      "inside function g\n",
      "inside function g\n",
      "inside function g\n",
      "inside function g\n",
      "inside function g\n",
      "inside function g\n",
      "inside function g\n",
      "inside function g\n",
      "inside function g\n",
      "inside function g\n",
      "inside function g\n",
      "inside function g\n",
      "inside function g\n",
      "inside function g\n",
      "inside function g\n",
      "inside function g\n",
      "inside function g\n",
      "inside function g\n",
      "inside function g\n",
      "inside function g\n",
      "inside function g\n",
      "inside function g\n",
      "inside function g\n",
      "inside function g\n",
      "inside function g\n",
      "inside function g\n",
      "inside function g\n",
      "inside function g\n",
      "inside function g\n",
      "inside function g\n",
      "inside function g\n",
      "inside function g\n",
      "inside function g\n",
      "inside function g\n",
      "inside function g\n",
      "inside function g\n",
      "inside function g\n",
      "inside function g\n",
      "inside function g\n",
      "inside function g\n",
      "inside function g\n",
      "inside function g\n",
      "inside function g\n",
      "inside function g\n",
      "inside function g\n",
      "inside function g\n",
      "inside function g\n",
      "inside function g\n",
      "inside function g\n",
      "inside function g\n",
      "inside function g\n",
      "inside function g\n",
      "inside function g\n",
      "inside function g\n",
      "inside function g\n",
      "inside function g\n",
      "inside function g\n",
      "inside function g\n",
      "inside function g\n",
      "inside function g\n",
      "inside function g\n",
      "inside function g\n",
      "inside function g\n",
      "inside function g\n",
      "inside function g\n",
      "inside function g\n",
      "inside function g\n",
      "inside function g\n",
      "inside function g\n",
      "inside function g\n",
      "inside function g\n",
      "inside function g\n",
      "inside function g\n",
      "inside function g\n",
      "inside function g\n",
      "inside function g\n",
      "inside function g\n",
      "inside function g\n",
      "inside function g\n",
      "inside function g\n",
      "inside function g\n",
      "inside function g\n",
      "inside function g\n",
      "inside function g\n",
      "inside function g\n",
      "inside function g\n",
      "inside function g\n",
      "inside function g\n",
      "inside function g\n",
      "inside function g\n",
      "inside function g\n",
      "inside function g\n",
      "inside function g\n",
      "inside function g\n",
      "inside function g\n",
      "inside function g\n",
      "inside function g\n",
      "inside function g\n",
      "inside function g\n",
      "inside function g\n",
      "inside function g\n",
      "inside function g\n",
      "inside function g\n",
      "inside function g\n",
      "inside function g\n",
      "inside function g\n",
      "inside function g\n",
      "inside function g\n",
      "inside function g\n",
      "inside function g\n",
      "inside function g\n",
      "inside function g\n",
      "inside function g\n",
      "inside function g\n",
      "inside function g\n",
      "inside function g\n",
      "inside function g\n",
      "inside function g\n",
      "inside function g\n",
      "inside function g\n",
      "inside function g\n",
      "inside function g\n",
      "inside function g\n",
      "inside function g\n",
      "inside function g\n",
      "inside function g\n",
      "inside function g\n",
      "inside function g\n",
      "inside function g\n",
      "inside function g\n",
      "inside function g\n",
      "inside function g\n",
      "inside function g\n",
      "inside function g\n",
      "inside function g\n",
      "inside function g\n",
      "inside function g\n",
      "inside function g\n",
      "inside function g\n",
      "inside function g\n",
      "inside function g\n",
      "inside function g\n",
      "inside function g\n",
      "inside function g\n",
      "inside function g\n",
      "inside function g\n",
      "inside function g\n",
      "inside function g\n",
      "inside function g\n",
      "inside function g\n",
      "inside function g\n",
      "inside function g\n",
      "inside function g\n",
      "inside function g\n",
      "inside function g\n",
      "inside function g\n",
      "inside function g\n",
      "inside function g\n",
      "inside function g\n",
      "inside function g\n",
      "inside function g\n",
      "inside function g\n",
      "inside function g\n",
      "inside function g\n",
      "inside function g\n",
      "inside function g\n",
      "inside function g\n",
      "inside function g\n",
      "inside function g\n",
      "inside function g\n",
      "inside function g\n",
      "inside function g\n",
      "inside function g\n",
      "inside function g\n",
      "inside function g\n",
      "inside function g\n",
      "inside function g\n",
      "inside function g\n",
      "inside function g\n",
      "inside function g\n",
      "inside function g\n",
      "inside function g\n",
      "inside function g\n",
      "inside function g\n",
      "inside function g\n",
      "inside function g\n",
      "inside function g\n",
      "inside function g\n",
      "inside function g\n",
      "inside function g\n",
      "inside function g\n",
      "inside function g\n",
      "inside function g\n",
      "inside function g\n",
      "inside function g\n",
      "inside function g\n",
      "inside function g\n",
      "inside function g\n",
      "inside function g\n",
      "inside function g\n",
      "inside function g\n",
      "inside function g\n",
      "inside function g\n",
      "inside function g\n",
      "inside function g\n",
      "inside function g\n",
      "inside function g\n",
      "inside function g\n",
      "inside function g\n",
      "inside function g\n",
      "inside function g\n",
      "inside function g\n",
      "inside function g\n",
      "inside function g\n",
      "inside function g\n",
      "inside function g\n",
      "inside function g\n",
      "inside function g\n",
      "inside function g\n",
      "inside function g\n",
      "inside function g\n",
      "inside function g\n",
      "inside function g\n",
      "inside function g\n",
      "inside function g\n",
      "inside function g\n",
      "inside function g\n",
      "inside function g\n",
      "inside function g\n",
      "inside function g\n",
      "inside function g\n",
      "inside function g\n",
      "inside function g\n",
      "inside function g\n",
      "inside function g\n",
      "inside function g\n",
      "inside function g\n",
      "inside function g\n",
      "inside function g\n",
      "inside function g\n",
      "inside function g\n",
      "inside function g\n",
      "inside function g\n",
      "inside function g\n",
      "inside function g\n",
      "inside function g\n",
      "inside function g\n",
      "inside function g\n",
      "inside function g\n",
      "inside function g\n",
      "inside function g\n",
      "inside function g\n",
      "inside function g\n",
      "inside function g\n",
      "inside function g\n",
      "inside function g\n",
      "inside function g\n",
      "inside function g\n",
      "inside function g\n",
      "inside function g\n",
      "inside function g\n",
      "inside function g\n",
      "inside function g\n",
      "inside function g\n",
      "inside function g\n",
      "inside function g\n",
      "inside function g\n",
      "inside function g\n",
      "inside function g\n",
      "inside function g\n",
      "inside function g\n",
      "inside function g\n",
      "inside function g\n",
      "inside function g\n",
      "inside function g\n",
      "inside function g\n",
      "inside function g\n",
      "inside function g\n",
      "inside function g\n",
      "inside function g\n",
      "inside function g\n",
      "inside function g\n",
      "inside function g\n",
      "inside function g\n",
      "inside function g\n",
      "inside function g\n",
      "inside function g\n",
      "inside function g\n",
      "inside function g\n",
      "inside function g\n",
      "inside function g\n",
      "inside function g\n",
      "inside function g\n",
      "inside function g\n",
      "inside function g\n",
      "inside function g\n",
      "inside function g\n",
      "inside function g\n",
      "inside function g\n",
      "inside function g\n",
      "inside function g\n",
      "inside function g\n",
      "inside function g\n",
      "inside function g\n",
      "inside function g\n",
      "inside function g\n",
      "inside function g\n",
      "inside function g\n",
      "inside function g\n",
      "inside function g\n",
      "inside function g\n",
      "inside function g\n",
      "inside function g\n",
      "inside function g\n",
      "inside function g\n",
      "inside function g\n",
      "inside function g\n",
      "inside function g\n",
      "inside function g\n",
      "inside function g\n",
      "inside function g\n",
      "inside function g\n",
      "inside function g\n",
      "inside function g\n",
      "inside function g\n",
      "inside function g\n",
      "inside function g\n",
      "inside function g\n",
      "inside function g\n",
      "inside function g\n",
      "inside function g\n",
      "inside function g\n",
      "inside function g\n",
      "inside function g\n",
      "inside function g\n",
      "inside function g\n",
      "inside function g\n",
      "inside function g\n",
      "inside function g\n",
      "inside function g\n",
      "inside function g\n",
      "inside function g\n",
      "inside function g\n",
      "inside function g\n",
      "inside function g\n",
      "inside function g\n",
      "inside function g\n",
      "inside function g\n",
      "inside function g\n",
      "inside function g\n",
      "inside function g\n",
      "inside function g\n",
      "inside function g\n",
      "inside function g\n",
      "inside function g\n",
      "inside function g\n",
      "inside function g\n",
      "inside function g\n",
      "inside function g\n",
      "inside function g\n",
      "inside function g\n",
      "inside function g\n",
      "inside function g\n",
      "inside function g\n",
      "inside function g\n",
      "inside function g\n",
      "inside function g\n",
      "inside function g\n",
      "inside function g\n",
      "inside function g\n",
      "inside function g\n",
      "inside function g\n",
      "inside function g\n",
      "inside function g\n",
      "inside function g\n",
      "inside function g\n",
      "inside function g\n",
      "inside function g\n",
      "inside function g\n",
      "inside function g\n",
      "inside function g\n",
      "inside function g\n",
      "inside function g\n",
      "inside function g\n",
      "inside function g\n",
      "inside function g\n",
      "inside function g\n",
      "inside function g\n",
      "inside function g\n",
      "inside function g\n",
      "inside function g\n",
      "inside function g\n",
      "inside function g\n",
      "inside function g\n",
      "inside function g\n",
      "inside function g\n",
      "inside function g\n",
      "inside function g\n",
      "inside function g\n",
      "inside function g\n",
      "inside function g\n",
      "inside function g\n",
      "inside function g\n",
      "inside function g\n",
      "inside function g\n",
      "inside function g\n",
      "inside function g\n",
      "inside function g\n",
      "inside function g\n",
      "inside function g\n",
      "inside function g\n",
      "inside function g\n",
      "inside function g\n",
      "inside function g\n",
      "inside function g\n",
      "inside function g\n",
      "inside function g\n",
      "inside function g\n",
      "inside function g\n",
      "inside function g\n",
      "inside function g\n",
      "inside function g\n",
      "inside function g\n",
      "inside function g\n",
      "inside function g\n",
      "inside function g\n",
      "inside function g\n",
      "inside function g\n",
      "inside function g\n",
      "inside function g\n",
      "inside function g\n",
      "inside function g\n",
      "inside function g\n",
      "inside function g\n",
      "inside function g\n",
      "inside function g\n",
      "inside function g\n",
      "inside function g\n",
      "inside function g\n",
      "inside function g\n",
      "inside function g\n",
      "inside function g\n",
      "inside function g\n",
      "inside function g\n",
      "inside function g\n",
      "inside function g\n",
      "inside function g\n",
      "inside function g\n",
      "inside function g\n",
      "inside function g\n",
      "inside function g\n",
      "inside function g\n",
      "inside function g\n",
      "inside function g\n",
      "inside function g\n",
      "inside function g\n",
      "inside function g\n",
      "inside function g"
     ]
    }
   ],
   "source": [
    "# Interupt this program\n",
    "f()"
   ]
  },
  {
   "cell_type": "code",
   "execution_count": 1,
   "metadata": {},
   "outputs": [
    {
     "name": "stdout",
     "output_type": "stream",
     "text": [
      "in g(x): x = 4\n"
     ]
    }
   ],
   "source": [
    "def g(x):\n",
    "    def h():\n",
    "        x = 'abc'\n",
    "    x = x + 1\n",
    "    print('in g(x): x =', x)\n",
    "    h()\n",
    "    return x\n",
    "\n",
    "x = 3\n",
    "z = g(x)"
   ]
  },
  {
   "cell_type": "code",
   "execution_count": 2,
   "metadata": {},
   "outputs": [
    {
     "name": "stdout",
     "output_type": "stream",
     "text": [
      "in g(x): x =  4\n",
      "in h(x): x =  5\n",
      "in main program scope: x =  3\n",
      "in main program scope: z =  4\n"
     ]
    }
   ],
   "source": [
    "def g(x):\n",
    "    def h(x):\n",
    "        x = x+1\n",
    "        print(\"in h(x): x = \", x)\n",
    "    x = x + 1\n",
    "    print('in g(x): x = ', x)\n",
    "    h(x)\n",
    "    return x\n",
    "\n",
    "x = 3\n",
    "z = g(x)\n",
    "print('in main program scope: x = ', x)\n",
    "print('in main program scope: z = ', z)"
   ]
  },
  {
   "cell_type": "code",
   "execution_count": null,
   "metadata": {},
   "outputs": [],
   "source": []
  },
  {
   "cell_type": "markdown",
   "metadata": {},
   "source": [
    "### Local vs Global Variable :\n",
    "\n",
    "**Local Variables** :\n",
    "\n",
    "* Local variables are defined within a function's scope and can only be accessed within that function.\n",
    "* They are created when the function is called and destroyed when the function exits.\n",
    "* Local variables take precedence over global variables with the same name inside the function's scope.\n",
    "* Any changes made to the local variable inside the function do not affect the global variable with the same name.\n",
    "\n",
    "**Global Variables**:\n",
    "\n",
    "* Global variables are defined in the global scope and can be accessed from anywhere in the program, including within functions.\n",
    "* They are created outside of any function and persist throughout the lifetime of the program.\n",
    "* Global variables can be accessed and modified both inside and outside functions, but you need to use the global keyword inside a function to modify their value.\n",
    "* If a local variable has the same name as a global variable, the local variable takes precedence within the function's scope."
   ]
  },
  {
   "cell_type": "code",
   "execution_count": 3,
   "metadata": {},
   "outputs": [
    {
     "name": "stdout",
     "output_type": "stream",
     "text": [
      "Local variable: 5\n",
      "Global variable: 11\n",
      "Global variable outside function: 11\n"
     ]
    }
   ],
   "source": [
    "global_var = 10\n",
    "\n",
    "def my_function():\n",
    "    local_var = 5\n",
    "    global global_var  # Using the 'global' keyword to modify the global variable inside the function.\n",
    "    global_var += 1\n",
    "    print(\"Local variable:\", local_var)\n",
    "    print(\"Global variable:\", global_var)\n",
    "\n",
    "my_function()\n",
    "print(\"Global variable outside function:\", global_var)"
   ]
  },
  {
   "cell_type": "markdown",
   "metadata": {},
   "source": [
    "In this example,\n",
    "* `global_var` is a global variable accessible both inside and outside the function.\n",
    "* The `local_var` is a local variable defined within the function and can only be accessed within that function. \n",
    "* The function uses the global keyword to modify the value of the global variable `global_var`."
   ]
  },
  {
   "cell_type": "code",
   "execution_count": null,
   "metadata": {},
   "outputs": [],
   "source": []
  },
  {
   "cell_type": "code",
   "execution_count": null,
   "metadata": {},
   "outputs": [],
   "source": []
  },
  {
   "cell_type": "code",
   "execution_count": null,
   "metadata": {},
   "outputs": [],
   "source": []
  },
  {
   "cell_type": "code",
   "execution_count": null,
   "metadata": {},
   "outputs": [],
   "source": []
  },
  {
   "cell_type": "markdown",
   "metadata": {},
   "source": [
    "### Functions are 1st class citizens: \n",
    "In Python, functions are considered \"first-class citizens,\" which means they have the following key characteristics:\n",
    "\n",
    "1. **Treated as Variables:** Functions can be assigned to variables, just like any other data type. You can pass functions as arguments to other functions, return them from functions, and store them in data structures like lists or dictionaries.\n",
    "\n",
    "2. **Passed as Arguments:** Functions can be used as arguments to other functions. This feature allows you to implement higher-order functions, which take one or more functions as inputs to perform some specific tasks.\n",
    "\n",
    "3. **Returned from Functions:** Functions can be returned as results from other functions. This enables you to create more flexible and reusable code by composing functions and returning new functions based on certain conditions or operations.\n",
    "\n",
    "4. **Stored in Data Structures:** Functions can be stored in data structures like lists, tuples, or dictionaries. This allows you to create collections of functions and manipulate them in various ways."
   ]
  },
  {
   "cell_type": "code",
   "execution_count": 4,
   "metadata": {},
   "outputs": [
    {
     "data": {
      "text/plain": [
       "2509007332976"
      ]
     },
     "execution_count": 4,
     "metadata": {},
     "output_type": "execute_result"
    }
   ],
   "source": [
    "# type and id\n",
    "def square(num):\n",
    "    return num**2\n",
    "\n",
    "type(square)\n",
    "\n",
    "id(square)"
   ]
  },
  {
   "cell_type": "code",
   "execution_count": 5,
   "metadata": {},
   "outputs": [
    {
     "data": {
      "text/plain": [
       "9"
      ]
     },
     "execution_count": 5,
     "metadata": {},
     "output_type": "execute_result"
    }
   ],
   "source": [
    "# reassign\n",
    "x = square\n",
    "id(x)\n",
    "x(3)"
   ]
  },
  {
   "cell_type": "code",
   "execution_count": 6,
   "metadata": {},
   "outputs": [
    {
     "data": {
      "text/plain": [
       "9"
      ]
     },
     "execution_count": 6,
     "metadata": {},
     "output_type": "execute_result"
    }
   ],
   "source": [
    "# storing\n",
    "L = [1,2,3,4,square]\n",
    "L[-1](3)"
   ]
  },
  {
   "cell_type": "code",
   "execution_count": 7,
   "metadata": {},
   "outputs": [
    {
     "data": {
      "text/plain": [
       "{<function __main__.square(num)>}"
      ]
     },
     "execution_count": 7,
     "metadata": {},
     "output_type": "execute_result"
    }
   ],
   "source": [
    "s = {square}\n",
    "s"
   ]
  },
  {
   "cell_type": "code",
   "execution_count": 8,
   "metadata": {},
   "outputs": [],
   "source": [
    "# deleting a function\n",
    "del square"
   ]
  },
  {
   "cell_type": "code",
   "execution_count": 9,
   "metadata": {},
   "outputs": [
    {
     "ename": "NameError",
     "evalue": "name 'square' is not defined",
     "output_type": "error",
     "traceback": [
      "\u001b[1;31m---------------------------------------------------------------------------\u001b[0m",
      "\u001b[1;31mNameError\u001b[0m                                 Traceback (most recent call last)",
      "Input \u001b[1;32mIn [9]\u001b[0m, in \u001b[0;36m<cell line: 1>\u001b[1;34m()\u001b[0m\n\u001b[1;32m----> 1\u001b[0m \u001b[43msquare\u001b[49m(\u001b[38;5;241m7\u001b[39m)\n",
      "\u001b[1;31mNameError\u001b[0m: name 'square' is not defined"
     ]
    }
   ],
   "source": [
    "square(7)"
   ]
  },
  {
   "cell_type": "code",
   "execution_count": null,
   "metadata": {},
   "outputs": [],
   "source": []
  },
  {
   "cell_type": "markdown",
   "metadata": {},
   "source": [
    "## Following are some resources to learn about more functions in Python:\n",
    "\n",
    "* Python Tutorial at W3Schools: https://www.w3schools.com/python/\n",
    "* Practical Python Programming: https://dabeaz-course.github.io/practical-python/Notes/Contents.html\n",
    "* Python official documentation: https://docs.python.org/3/tutorial/index.html"
   ]
  },
  {
   "cell_type": "code",
   "execution_count": null,
   "metadata": {},
   "outputs": [],
   "source": []
  },
  {
   "cell_type": "markdown",
   "metadata": {},
   "source": [
    "## Exercise - Data Analysis for Vacation Planning\n",
    "\n",
    "You're planning a vacation, and you need to decide which city you want to visit. You have shortlisted four cities and identified the return flight cost, daily hotel cost, and weekly car rental cost. While renting a car, you need to pay for entire weeks, even if you return the car sooner.\n",
    "\n",
    "\n",
    "| City | Return Flight (`$`) | Hotel per day (`$`) | Weekly Car Rental  (`$`) | \n",
    "|------|--------------------------|------------------|------------------------|\n",
    "| Paris|       200                |       20         |          200           |\n",
    "| London|      250                |       30         |          120           |\n",
    "| Dubai|       370                |       15         |          80           |\n",
    "| Mumbai|      450                |       10         |          70           |         \n",
    "\n",
    "\n",
    "Answer the following questions using the data above:\n",
    "\n",
    "1. If you're planning a 1-week long trip, which city should you visit to spend the least amount of money?\n",
    "2. How does the answer to the previous question change if you change the trip's duration to four days, ten days or two weeks?\n",
    "3. If your total budget for the trip is `$600`, which city should you visit to maximize the duration of your trip? Which city should you visit if you want to minimize the duration?\n",
    "4. How does the answer to the previous question change if your budget is `$1000`, `$2000`, or `$1500`?\n",
    "\n",
    "*Hint: To answer these questions, it will help to define a function `cost_of_trip` with relevant inputs like flight cost, hotel rate, car rental rate, and duration of the trip. You may find the `math.ceil` function useful for calculating the total cost of car rental.*"
   ]
  },
  {
   "cell_type": "code",
   "execution_count": 10,
   "metadata": {},
   "outputs": [],
   "source": [
    "import math"
   ]
  },
  {
   "cell_type": "code",
   "execution_count": 11,
   "metadata": {},
   "outputs": [],
   "source": [
    "Paris=[200,20,200,'Paris']\n",
    "London = [250,30,120,'London']\n",
    "Dubai = [370,15,80,'Dubai']\n",
    "Mumbai = [450,10,70,'Mumbai']\n",
    "Cities = [Paris,London,Dubai,Mumbai]"
   ]
  },
  {
   "cell_type": "code",
   "execution_count": 12,
   "metadata": {},
   "outputs": [],
   "source": [
    "def cost_of_trip(flight,hotel_cost,car_rent,num_of_days=0):\n",
    "    return flight+(hotel_cost*num_of_days)+(car_rent*math.ceil(num_of_days/7))"
   ]
  },
  {
   "cell_type": "code",
   "execution_count": 13,
   "metadata": {},
   "outputs": [],
   "source": [
    "def days_to_visit(days):\n",
    "    costs=[]\n",
    "    for city in Cities:\n",
    "        cost=cost_of_trip(city[0],city[1],city[2],days)\n",
    "        costs.append((cost,city[3]))\n",
    "    min_cost = min(costs)\n",
    "    return min_cost"
   ]
  },
  {
   "cell_type": "markdown",
   "metadata": {},
   "source": [
    "> 1. If you're planning a 1-week long trip, which city should you visit to spend the least amount of money?"
   ]
  },
  {
   "cell_type": "code",
   "execution_count": 14,
   "metadata": {},
   "outputs": [
    {
     "data": {
      "text/plain": [
       "(540, 'Paris')"
      ]
     },
     "execution_count": 14,
     "metadata": {},
     "output_type": "execute_result"
    }
   ],
   "source": [
    "days_to_visit(7)"
   ]
  },
  {
   "cell_type": "markdown",
   "metadata": {},
   "source": [
    "> 2. How does the answer to the previous question change if you change the trip's duration to four days, ten days or two weeks?"
   ]
  },
  {
   "cell_type": "code",
   "execution_count": 15,
   "metadata": {},
   "outputs": [
    {
     "data": {
      "text/plain": [
       "(480, 'Paris')"
      ]
     },
     "execution_count": 15,
     "metadata": {},
     "output_type": "execute_result"
    }
   ],
   "source": [
    "days_to_visit(4)"
   ]
  },
  {
   "cell_type": "code",
   "execution_count": 16,
   "metadata": {},
   "outputs": [
    {
     "data": {
      "text/plain": [
       "(680, 'Dubai')"
      ]
     },
     "execution_count": 16,
     "metadata": {},
     "output_type": "execute_result"
    }
   ],
   "source": [
    "days_to_visit(10)"
   ]
  },
  {
   "cell_type": "code",
   "execution_count": 17,
   "metadata": {},
   "outputs": [
    {
     "data": {
      "text/plain": [
       "(730, 'Mumbai')"
      ]
     },
     "execution_count": 17,
     "metadata": {},
     "output_type": "execute_result"
    }
   ],
   "source": [
    "days_to_visit(14)"
   ]
  },
  {
   "cell_type": "markdown",
   "metadata": {},
   "source": [
    "> 3. If your total budget for the trip is `$600`, which city should you visit to maximize the duration of your trip? Which city should you visit if you want to minimize the duration?"
   ]
  },
  {
   "cell_type": "code",
   "execution_count": 19,
   "metadata": {},
   "outputs": [],
   "source": [
    "def given_budget(budget,less_days=False):\n",
    "    days=1\n",
    "    cost=0\n",
    "    while cost<budget:\n",
    "        #copy of city cost \n",
    "        cost_before=cost\n",
    "        try:\n",
    "            #copy of costs dictionary, if exists\n",
    "            costs_before=costs.copy()\n",
    "        except:\n",
    "            #if costs dictionary doesn't exist, create an empty dictionary\n",
    "            costs_before={}\n",
    "        costs={}\n",
    "        for city in Cities:\n",
    "            cost = cost_of_trip(city[0],city[1],city[2],days)\n",
    "            costs[cost] = city[3]\n",
    "        if less_days:\n",
    "            cost=max(list(costs.keys()))\n",
    "            ''' The while loop breaks only after cost>600 condition is met.\n",
    "            when the condition is met, the costs dictionary updates to values that are greater than 600 \n",
    "            so we check if it is exceeding, if it does, we return the values from the previous dictionary cost_before. '''\n",
    "            if cost>=budget:\n",
    "                return costs_before[cost_before],days-1\n",
    "        else:   \n",
    "            cost=min(list(costs.keys()))\n",
    "            if cost>=budget:\n",
    "                return costs_before[cost_before],days-1\n",
    "        days+=1"
   ]
  },
  {
   "cell_type": "code",
   "execution_count": 20,
   "metadata": {},
   "outputs": [],
   "source": [
    "city_to_stay_maximum_days=given_budget(600)"
   ]
  },
  {
   "cell_type": "code",
   "execution_count": 21,
   "metadata": {},
   "outputs": [
    {
     "name": "stdout",
     "output_type": "stream",
     "text": [
      "('Paris', 7)\n"
     ]
    }
   ],
   "source": [
    "print(city_to_stay_maximum_days)"
   ]
  },
  {
   "cell_type": "code",
   "execution_count": 22,
   "metadata": {},
   "outputs": [],
   "source": [
    "city_to_stay_minimum_days=given_budget(600,less_days=True)"
   ]
  },
  {
   "cell_type": "code",
   "execution_count": 23,
   "metadata": {},
   "outputs": [
    {
     "name": "stdout",
     "output_type": "stream",
     "text": [
      "('Mumbai', 7)\n"
     ]
    }
   ],
   "source": [
    "print(city_to_stay_minimum_days)"
   ]
  },
  {
   "cell_type": "markdown",
   "metadata": {},
   "source": [
    "> 4. How does the answer to the previous question change if your budget is `$1000`, `$2000`, or `$1500`?"
   ]
  },
  {
   "cell_type": "markdown",
   "metadata": {},
   "source": [
    "- For 1000 dollars"
   ]
  },
  {
   "cell_type": "code",
   "execution_count": 24,
   "metadata": {},
   "outputs": [
    {
     "name": "stdout",
     "output_type": "stream",
     "text": [
      "('Mumbai', 26)\n"
     ]
    }
   ],
   "source": [
    "city_to_stay_maximum_days=given_budget(1000)\n",
    "print(city_to_stay_maximum_days)"
   ]
  },
  {
   "cell_type": "code",
   "execution_count": 25,
   "metadata": {},
   "outputs": [
    {
     "name": "stdout",
     "output_type": "stream",
     "text": [
      "('London', 14)\n"
     ]
    }
   ],
   "source": [
    "city_to_stay_minimum_days=given_budget(1000,less_days=True)\n",
    "print(city_to_stay_minimum_days)"
   ]
  },
  {
   "cell_type": "markdown",
   "metadata": {},
   "source": [
    "- For 2000 dollars"
   ]
  },
  {
   "cell_type": "code",
   "execution_count": 26,
   "metadata": {},
   "outputs": [
    {
     "name": "stdout",
     "output_type": "stream",
     "text": [
      "('Mumbai', 77)\n"
     ]
    }
   ],
   "source": [
    "city_to_stay_maximum_days=given_budget(2000)\n",
    "print(city_to_stay_maximum_days)"
   ]
  },
  {
   "cell_type": "code",
   "execution_count": 27,
   "metadata": {},
   "outputs": [
    {
     "name": "stdout",
     "output_type": "stream",
     "text": [
      "('London', 35)\n"
     ]
    }
   ],
   "source": [
    "city_to_stay_minimum=given_budget(2000,less_days=True)\n",
    "print(city_to_stay_minimum)"
   ]
  },
  {
   "cell_type": "markdown",
   "metadata": {},
   "source": [
    "- For 1500 dollars"
   ]
  },
  {
   "cell_type": "code",
   "execution_count": 28,
   "metadata": {},
   "outputs": [
    {
     "name": "stdout",
     "output_type": "stream",
     "text": [
      "('Mumbai', 49)\n"
     ]
    }
   ],
   "source": [
    "city_to_stay_maximum_days=given_budget(1500)\n",
    "print(city_to_stay_maximum_days)"
   ]
  },
  {
   "cell_type": "code",
   "execution_count": 29,
   "metadata": {},
   "outputs": [
    {
     "name": "stdout",
     "output_type": "stream",
     "text": [
      "('Paris', 24)\n"
     ]
    }
   ],
   "source": [
    "city_to_stay_minimum_days=given_budget(1500,less_days=True)\n",
    "print(city_to_stay_minimum_days)"
   ]
  },
  {
   "cell_type": "markdown",
   "metadata": {},
   "source": [
    "## Questions for Revision\n",
    "\n",
    "Try answering the following questions to test your understanding of the topics covered in this notebook:\n",
    "\n",
    "1. What is a function?\n",
    "2. What are the benefits of using functions?\n",
    "3. What are some built-in functions in Python?\n",
    "4. How do you define a function in Python? Give an example.\n",
    "5. What is the body of a function?\n",
    "6. When are the statements in the body of a function executed?\n",
    "7. What is meant by calling or invoking a function? Give an example.\n",
    "8. What are function arguments? How are they useful?\n",
    "9. How do you store the result of a function in a variable?\n",
    "10. What is the purpose of the `return` keyword in Python?\n",
    "11. Can you return multiple values from a function?\n",
    "12. Can a `return` statement be used inside an `if` block or a `for` loop?\n",
    "13. Can the `return` keyword be used outside a function?\n",
    "14. What is scope in a programming region? \n",
    "15. How do you define a variable inside a function?\n",
    "16. What are local & global variables?\n",
    "17. Can you access the variables defined inside a function outside its body? Why or why not?\n",
    "18. What do you mean by the statement \"a function defines a scope within Python\"?\n",
    "19. Do for and while loops define a scope, like functions?\n",
    "20. Do if-else blocks define a scope, like functions?\n",
    "21. What are optional function arguments & default values? Give an example.\n",
    "22. Why should the required arguments appear before the optional arguments in a function definition?\n",
    "23. How do you invoke a function with named arguments? Illustrate with an example.\n",
    "24. Can you split a function invocation into multiple lines?\n",
    "25. Write a function that takes a number and rounds it up to the nearest integer.\n",
    "26. What are modules in Python?\n",
    "27. What is a Python library?\n",
    "28. What is the Python Standard Library?\n",
    "29. Where can you learn about the modules and functions available in the Python standard library?\n",
    "30. How do you install a third-party library?\n",
    "31. What is a module namespace? How is it useful?\n",
    "32. What problems would you run into if Python modules did not provide namespaces?\n",
    "33. How do you import a module?\n",
    "34. How do you use a function from an imported module? Illustrate with an example.\n",
    "35. Can you invoke a function inside the body of another function? Give an example.\n",
    "36. What is the single responsibility principle, and how does it apply while writing functions?\n",
    "37. What some characteristics of well-written functions?\n",
    "38. Can you use if statements or while loops within a function? Illustrate with an example.\n",
    "39. What are exceptions in Python? When do they occur?\n",
    "40. How are exceptions different from syntax errors?\n",
    "41. What are the different types of in-built exceptions in Python? Where can you learn about them?\n",
    "42. How do you prevent the termination of a program due to an exception?\n",
    "43. What is the purpose of the `try`-`except` statements in Python?\n",
    "44. What is the syntax of the `try`-`except` statements? Give an example.\n",
    "45. What happens if an exception occurs inside a `try` block?\n",
    "46. How do you handle two different types of exceptions using `except`? Can you have multiple `except` blocks under a single `try` block?\n",
    "47. How do you create an `except` block to handle any type of exception?\n",
    "48. Illustrate the usage of `try`-`except` inside a function with an example.\n",
    "49. What is a docstring? Why is it useful?\n",
    "50. How do you display the docstring for a function?\n",
    "51. What are *args and **kwargs? How are they useful? Give an example.\n",
    "52. Can you define functions inside functions? \n",
    "53. What is function closure in Python? How is it useful? Give an example.\n",
    "54. What is recursion? Illustrate with an example.\n",
    "55. Can functions accept other functions as arguments? Illustrate with an example.\n",
    "56. Can functions return other functions as results? Illustrate with an example.\n",
    "57. What are decorators? How are they useful?\n",
    "58. Implement a function decorator which prints the arguments and result of wrapped functions.\n",
    "59. What are some in-built decorators in Python?\n",
    "60. What are some popular Python libraries?"
   ]
  },
  {
   "cell_type": "code",
   "execution_count": null,
   "metadata": {},
   "outputs": [],
   "source": []
  }
 ],
 "metadata": {
  "kernelspec": {
   "display_name": "Python 3 (ipykernel)",
   "language": "python",
   "name": "python3"
  },
  "language_info": {
   "codemirror_mode": {
    "name": "ipython",
    "version": 3
   },
   "file_extension": ".py",
   "mimetype": "text/x-python",
   "name": "python",
   "nbconvert_exporter": "python",
   "pygments_lexer": "ipython3",
   "version": "3.9.12"
  }
 },
 "nbformat": 4,
 "nbformat_minor": 4
}
