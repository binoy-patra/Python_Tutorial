{
 "cells": [
  {
   "cell_type": "code",
   "execution_count": null,
   "id": "f1b3f62a",
   "metadata": {},
   "outputs": [],
   "source": [
    "#installation of pandas and numpy\n",
    "import numpy as np\n",
    "import pandas as pd"
   ]
  },
  {
   "cell_type": "code",
   "execution_count": null,
   "id": "797189bd",
   "metadata": {},
   "outputs": [],
   "source": [
    "#Creating Dictionary\n",
    "dict1= {\"Name\": [\"Binoy\",\"Sujoy\", \"Rohan\"],\n",
    "       \"Marks\": [98,89,91],\n",
    "       \"City\":[\"Kolkata\",\"Joypur\",\"Howrah\"],\n",
    "       \"Contact Number\": [100,101,102]}"
   ]
  },
  {
   "cell_type": "code",
   "execution_count": null,
   "id": "ea06e424",
   "metadata": {},
   "outputs": [],
   "source": [
    "#Dictionary to panda\n",
    "df= pd.DataFrame(dict1)"
   ]
  },
  {
   "cell_type": "code",
   "execution_count": null,
   "id": "f8aa5933",
   "metadata": {},
   "outputs": [],
   "source": [
    "#Printing panda as table\n",
    "df"
   ]
  },
  {
   "cell_type": "code",
   "execution_count": null,
   "id": "0adf47a8",
   "metadata": {},
   "outputs": [],
   "source": [
    "#Pandas to CSV file (kind of EXCEL File) CSV= comma sepatrated value\n",
    "df.to_csv('Friend.csv')"
   ]
  },
  {
   "cell_type": "code",
   "execution_count": null,
   "id": "5302120e",
   "metadata": {},
   "outputs": [],
   "source": [
    "#It will return some statistical values\n",
    "df.describe()"
   ]
  },
  {
   "cell_type": "code",
   "execution_count": null,
   "id": "d2c5aa3a",
   "metadata": {},
   "outputs": [],
   "source": [
    "import numpy as np\n",
    "import pandas as pd\n",
    "binoy= pd.read_csv('Friend.csv') #it will make a excel file named 'Friend.csv'"
   ]
  },
  {
   "cell_type": "code",
   "execution_count": null,
   "id": "6f148979",
   "metadata": {},
   "outputs": [],
   "source": [
    "v= pd.read_csv(\"C:/Users/Datacore/Documents/name.csv\") #If the csv file present in another directory just copy its path and pass it."
   ]
  },
  {
   "cell_type": "code",
   "execution_count": null,
   "id": "103e3507",
   "metadata": {},
   "outputs": [],
   "source": [
    "#Printing DataFrame\n",
    "binoy"
   ]
  },
  {
   "cell_type": "code",
   "execution_count": null,
   "id": "3048a9ea",
   "metadata": {},
   "outputs": [],
   "source": [
    "#changing values of csv\n",
    "binoy['Marks'][0]  #no comma since it is 2d"
   ]
  },
  {
   "cell_type": "code",
   "execution_count": null,
   "id": "37de29e4",
   "metadata": {},
   "outputs": [],
   "source": [
    "#chenging index names\n",
    "binoy.index= ['Frist','Second','Third']"
   ]
  },
  {
   "cell_type": "code",
   "execution_count": null,
   "id": "7c71de49",
   "metadata": {},
   "outputs": [],
   "source": [
    "binoy"
   ]
  },
  {
   "cell_type": "code",
   "execution_count": null,
   "id": "9e811da7",
   "metadata": {},
   "outputs": [],
   "source": [
    "#series data type\n",
    "ser= pd.Series(np.random.rand) #Random is a module"
   ]
  },
  {
   "cell_type": "code",
   "execution_count": null,
   "id": "5e019457",
   "metadata": {},
   "outputs": [],
   "source": [
    "ser"
   ]
  },
  {
   "cell_type": "code",
   "execution_count": null,
   "id": "950404bb",
   "metadata": {},
   "outputs": [],
   "source": [
    "type(ser)"
   ]
  },
  {
   "cell_type": "code",
   "execution_count": null,
   "id": "a0eb171c",
   "metadata": {},
   "outputs": [],
   "source": [
    "#making a data frame of random numbers\n",
    "newdf= pd.DataFrame(np.random.rand(334,5), index= np.arange(334))"
   ]
  },
  {
   "cell_type": "code",
   "execution_count": null,
   "id": "4a41e18e",
   "metadata": {},
   "outputs": [],
   "source": [
    "newdf"
   ]
  },
  {
   "cell_type": "code",
   "execution_count": null,
   "id": "2f02f890",
   "metadata": {},
   "outputs": [],
   "source": [
    "newdf.describe()"
   ]
  },
  {
   "cell_type": "code",
   "execution_count": null,
   "id": "8d423587",
   "metadata": {},
   "outputs": [],
   "source": [
    "newdf.head()"
   ]
  },
  {
   "cell_type": "code",
   "execution_count": null,
   "id": "3954dfa8",
   "metadata": {},
   "outputs": [],
   "source": [
    "newdf.dtypes"
   ]
  },
  {
   "cell_type": "code",
   "execution_count": null,
   "id": "61796f8d",
   "metadata": {},
   "outputs": [],
   "source": [
    "newdf[0][0]= \"Binoy\""
   ]
  },
  {
   "cell_type": "code",
   "execution_count": null,
   "id": "c927de79",
   "metadata": {},
   "outputs": [],
   "source": [
    "newdf.dtypes"
   ]
  },
  {
   "cell_type": "code",
   "execution_count": null,
   "id": "693b5d3a",
   "metadata": {},
   "outputs": [],
   "source": [
    "newdf.index"
   ]
  },
  {
   "cell_type": "code",
   "execution_count": null,
   "id": "3d76f933",
   "metadata": {},
   "outputs": [],
   "source": [
    "newdf.columns"
   ]
  },
  {
   "cell_type": "code",
   "execution_count": null,
   "id": "d886a71b",
   "metadata": {},
   "outputs": [],
   "source": [
    "newdf.to_numpy()"
   ]
  },
  {
   "cell_type": "code",
   "execution_count": null,
   "id": "ccfb8275",
   "metadata": {},
   "outputs": [],
   "source": [
    "#Chenging values of (0 X 0) position\n",
    "newdf[0][0]= 0.3"
   ]
  },
  {
   "cell_type": "code",
   "execution_count": null,
   "id": "ae7edb83",
   "metadata": {},
   "outputs": [],
   "source": [
    "newdf.head()"
   ]
  },
  {
   "cell_type": "code",
   "execution_count": null,
   "id": "2eb31dd9",
   "metadata": {},
   "outputs": [],
   "source": [
    "newdf.T #Treanspose"
   ]
  },
  {
   "cell_type": "code",
   "execution_count": null,
   "id": "b6b74380",
   "metadata": {},
   "outputs": [],
   "source": [
    "newdf.head()"
   ]
  },
  {
   "cell_type": "code",
   "execution_count": null,
   "id": "b1067753",
   "metadata": {},
   "outputs": [],
   "source": [
    "newdf.sort_index(axis= 0, ascending = False)"
   ]
  },
  {
   "cell_type": "code",
   "execution_count": null,
   "id": "4851aae1",
   "metadata": {},
   "outputs": [],
   "source": [
    "newdf[0]"
   ]
  },
  {
   "cell_type": "code",
   "execution_count": null,
   "id": "644be91f",
   "metadata": {},
   "outputs": [],
   "source": [
    "type(newdf[0])"
   ]
  },
  {
   "cell_type": "code",
   "execution_count": null,
   "id": "31a049c7",
   "metadata": {},
   "outputs": [],
   "source": [
    "newdf[0][1]= 5444"
   ]
  },
  {
   "cell_type": "code",
   "execution_count": null,
   "id": "261feb54",
   "metadata": {},
   "outputs": [],
   "source": [
    "newdf"
   ]
  },
  {
   "cell_type": "code",
   "execution_count": null,
   "id": "01ad0cd6",
   "metadata": {},
   "outputs": [],
   "source": []
  }
 ],
 "metadata": {
  "kernelspec": {
   "display_name": "Python 3 (ipykernel)",
   "language": "python",
   "name": "python3"
  },
  "language_info": {
   "codemirror_mode": {
    "name": "ipython",
    "version": 3
   },
   "file_extension": ".py",
   "mimetype": "text/x-python",
   "name": "python",
   "nbconvert_exporter": "python",
   "pygments_lexer": "ipython3",
   "version": "3.9.12"
  }
 },
 "nbformat": 4,
 "nbformat_minor": 5
}
