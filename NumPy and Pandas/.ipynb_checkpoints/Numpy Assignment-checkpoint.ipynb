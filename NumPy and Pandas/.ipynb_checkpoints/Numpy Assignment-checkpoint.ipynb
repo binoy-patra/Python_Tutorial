{
 "cells": [
  {
   "cell_type": "markdown",
   "id": "b7cf7784",
   "metadata": {},
   "source": [
    "###### 1.Program to test whether none of the elements of a given array is zero.\n"
   ]
  },
  {
   "cell_type": "code",
   "execution_count": 1,
   "id": "360e9905",
   "metadata": {},
   "outputs": [],
   "source": [
    "import numpy as np"
   ]
  },
  {
   "cell_type": "code",
   "execution_count": 2,
   "id": "f8f01da9",
   "metadata": {},
   "outputs": [],
   "source": [
    "arr=np.array([1,2,3,4,5])"
   ]
  },
  {
   "cell_type": "code",
   "execution_count": 3,
   "id": "5a50439f",
   "metadata": {},
   "outputs": [
    {
     "name": "stdout",
     "output_type": "stream",
     "text": [
      "True\n"
     ]
    }
   ],
   "source": [
    "print(np.all(arr))"
   ]
  },
  {
   "cell_type": "code",
   "execution_count": 4,
   "id": "7ec755a6",
   "metadata": {},
   "outputs": [],
   "source": [
    "arr2=np.array([0,1,2,3,4])"
   ]
  },
  {
   "cell_type": "code",
   "execution_count": 5,
   "id": "2f700780",
   "metadata": {},
   "outputs": [
    {
     "name": "stdout",
     "output_type": "stream",
     "text": [
      "False\n"
     ]
    }
   ],
   "source": [
    "print(np.all(arr2))"
   ]
  },
  {
   "cell_type": "markdown",
   "id": "b56799ea",
   "metadata": {},
   "source": [
    "###### 2.Program to test whether any of the elements of a given array is non-zero"
   ]
  },
  {
   "cell_type": "code",
   "execution_count": 6,
   "id": "9f2ea5e5",
   "metadata": {},
   "outputs": [],
   "source": [
    "arr3=np.array([0,0,0,0])"
   ]
  },
  {
   "cell_type": "code",
   "execution_count": 7,
   "id": "4adb0183",
   "metadata": {},
   "outputs": [
    {
     "name": "stdout",
     "output_type": "stream",
     "text": [
      "False\n"
     ]
    }
   ],
   "source": [
    "print(np.any(arr3))"
   ]
  },
  {
   "cell_type": "code",
   "execution_count": 8,
   "id": "55661ea8",
   "metadata": {},
   "outputs": [],
   "source": [
    "arr4=np.array([0,0,1,0,0])"
   ]
  },
  {
   "cell_type": "code",
   "execution_count": 9,
   "id": "8068657d",
   "metadata": {},
   "outputs": [
    {
     "name": "stdout",
     "output_type": "stream",
     "text": [
      "True\n"
     ]
    }
   ],
   "source": [
    "print(np.any(arr4))"
   ]
  },
  {
   "cell_type": "markdown",
   "id": "da8f939a",
   "metadata": {},
   "source": [
    "###### 3.Create an element-wise comparison (greater, greater_equal, less and less_equal) of two given arrays\n"
   ]
  },
  {
   "cell_type": "code",
   "execution_count": 10,
   "id": "f49cdc07",
   "metadata": {},
   "outputs": [],
   "source": [
    "arr5=np.array([5,10])\n",
    "arr6=np.array([2,12])"
   ]
  },
  {
   "cell_type": "code",
   "execution_count": 11,
   "id": "7d7b2102",
   "metadata": {},
   "outputs": [
    {
     "name": "stdout",
     "output_type": "stream",
     "text": [
      "[ True False]\n"
     ]
    }
   ],
   "source": [
    "print(np.greater(arr5,arr6))"
   ]
  },
  {
   "cell_type": "code",
   "execution_count": 12,
   "id": "96e181c8",
   "metadata": {},
   "outputs": [
    {
     "name": "stdout",
     "output_type": "stream",
     "text": [
      "[ True False]\n"
     ]
    }
   ],
   "source": [
    "print(np.greater_equal(arr5,arr6))"
   ]
  },
  {
   "cell_type": "code",
   "execution_count": 13,
   "id": "44553dc0",
   "metadata": {},
   "outputs": [
    {
     "name": "stdout",
     "output_type": "stream",
     "text": [
      "[False  True]\n"
     ]
    }
   ],
   "source": [
    "print(np.less(arr5,arr6))"
   ]
  },
  {
   "cell_type": "code",
   "execution_count": 14,
   "id": "ccae0c44",
   "metadata": {},
   "outputs": [
    {
     "name": "stdout",
     "output_type": "stream",
     "text": [
      "[False  True]\n"
     ]
    }
   ],
   "source": [
    "print(np.less_equal(arr5,arr6))"
   ]
  },
  {
   "cell_type": "markdown",
   "id": "dedbb1a0",
   "metadata": {},
   "source": [
    "###### 4.Create an array with the values 1, 7, 13, 105 and determine the size of the memory occupied by the array.\n"
   ]
  },
  {
   "cell_type": "code",
   "execution_count": 15,
   "id": "ecc5f980",
   "metadata": {},
   "outputs": [],
   "source": [
    "arr7=np.array([1,2,3,4,5])"
   ]
  },
  {
   "cell_type": "code",
   "execution_count": 16,
   "id": "22be1900",
   "metadata": {},
   "outputs": [
    {
     "data": {
      "text/plain": [
       "20"
      ]
     },
     "execution_count": 16,
     "metadata": {},
     "output_type": "execute_result"
    }
   ],
   "source": [
    "arr7.itemsize*arr7.size"
   ]
  },
  {
   "cell_type": "markdown",
   "id": "04e4143c",
   "metadata": {},
   "source": [
    "###### 5.Create an array of 10 zeros,10 ones, 10 fives.\n"
   ]
  },
  {
   "cell_type": "code",
   "execution_count": 17,
   "id": "f6d8abc4",
   "metadata": {},
   "outputs": [],
   "source": [
    "arr8=np.linspace(0,0,10)\n",
    "arr9=np.linspace(1,1,10)\n",
    "arr10=np.linspace(5,5,10)"
   ]
  },
  {
   "cell_type": "code",
   "execution_count": 18,
   "id": "644c3061",
   "metadata": {},
   "outputs": [
    {
     "data": {
      "text/plain": [
       "array([0., 0., 0., 0., 0., 0., 0., 0., 0., 0.])"
      ]
     },
     "execution_count": 18,
     "metadata": {},
     "output_type": "execute_result"
    }
   ],
   "source": [
    "arr8"
   ]
  },
  {
   "cell_type": "code",
   "execution_count": 19,
   "id": "2a255dd2",
   "metadata": {},
   "outputs": [
    {
     "data": {
      "text/plain": [
       "array([1., 1., 1., 1., 1., 1., 1., 1., 1., 1.])"
      ]
     },
     "execution_count": 19,
     "metadata": {},
     "output_type": "execute_result"
    }
   ],
   "source": [
    "arr9"
   ]
  },
  {
   "cell_type": "code",
   "execution_count": 20,
   "id": "f45808fb",
   "metadata": {},
   "outputs": [
    {
     "data": {
      "text/plain": [
       "array([5., 5., 5., 5., 5., 5., 5., 5., 5., 5.])"
      ]
     },
     "execution_count": 20,
     "metadata": {},
     "output_type": "execute_result"
    }
   ],
   "source": [
    "arr10"
   ]
  },
  {
   "cell_type": "markdown",
   "id": "c228a303",
   "metadata": {},
   "source": [
    "###### 6.Create an array of the integers from 30 to70.\n"
   ]
  },
  {
   "cell_type": "code",
   "execution_count": 21,
   "id": "b5b73d68",
   "metadata": {},
   "outputs": [],
   "source": [
    "arr11=np.arange(30,71)"
   ]
  },
  {
   "cell_type": "code",
   "execution_count": 22,
   "id": "1a830d2c",
   "metadata": {},
   "outputs": [
    {
     "data": {
      "text/plain": [
       "array([30, 31, 32, 33, 34, 35, 36, 37, 38, 39, 40, 41, 42, 43, 44, 45, 46,\n",
       "       47, 48, 49, 50, 51, 52, 53, 54, 55, 56, 57, 58, 59, 60, 61, 62, 63,\n",
       "       64, 65, 66, 67, 68, 69, 70])"
      ]
     },
     "execution_count": 22,
     "metadata": {},
     "output_type": "execute_result"
    }
   ],
   "source": [
    "arr11"
   ]
  },
  {
   "cell_type": "markdown",
   "id": "33dc53ee",
   "metadata": {},
   "source": [
    "###### 7.Create a 3x3 identity matrix"
   ]
  },
  {
   "cell_type": "code",
   "execution_count": 23,
   "id": "8dbe988a",
   "metadata": {},
   "outputs": [],
   "source": [
    "arr12=np.array([[1,2,3],\n",
    "               [4,5,6],\n",
    "               [7,8,9]])"
   ]
  },
  {
   "cell_type": "code",
   "execution_count": 24,
   "id": "680c485f",
   "metadata": {},
   "outputs": [
    {
     "data": {
      "text/plain": [
       "array([[1, 2, 3],\n",
       "       [4, 5, 6],\n",
       "       [7, 8, 9]])"
      ]
     },
     "execution_count": 24,
     "metadata": {},
     "output_type": "execute_result"
    }
   ],
   "source": [
    "arr12"
   ]
  },
  {
   "cell_type": "markdown",
   "id": "ae7a9add",
   "metadata": {},
   "source": [
    "###### 8.Generate a random number between 0 and 1.\n"
   ]
  },
  {
   "cell_type": "code",
   "execution_count": 25,
   "id": "fa1d215b",
   "metadata": {},
   "outputs": [
    {
     "name": "stdout",
     "output_type": "stream",
     "text": [
      "0.7455075848673347\n"
     ]
    }
   ],
   "source": [
    "import random \n",
    "print(random.uniform(0, 1))"
   ]
  },
  {
   "cell_type": "markdown",
   "id": "614da6ee",
   "metadata": {},
   "source": [
    "###### 9.Create a 3X4 array using and iterate over it.\n"
   ]
  },
  {
   "cell_type": "code",
   "execution_count": 26,
   "id": "37a3a5b1",
   "metadata": {},
   "outputs": [],
   "source": [
    "arr13=np.linspace(1,12,12)"
   ]
  },
  {
   "cell_type": "code",
   "execution_count": 27,
   "id": "e4b9c5e3",
   "metadata": {},
   "outputs": [
    {
     "data": {
      "text/plain": [
       "array([ 1.,  2.,  3.,  4.,  5.,  6.,  7.,  8.,  9., 10., 11., 12.])"
      ]
     },
     "execution_count": 27,
     "metadata": {},
     "output_type": "execute_result"
    }
   ],
   "source": [
    "arr13"
   ]
  },
  {
   "cell_type": "code",
   "execution_count": 28,
   "id": "96f00826",
   "metadata": {},
   "outputs": [
    {
     "data": {
      "text/plain": [
       "array([[ 1.,  2.,  3.,  4.],\n",
       "       [ 5.,  6.,  7.,  8.],\n",
       "       [ 9., 10., 11., 12.]])"
      ]
     },
     "execution_count": 28,
     "metadata": {},
     "output_type": "execute_result"
    }
   ],
   "source": [
    "arr13.reshape(3,4)"
   ]
  },
  {
   "cell_type": "markdown",
   "id": "60383faf",
   "metadata": {},
   "source": [
    "###### 10.Create an array with values ranging from 12 to 38.\n"
   ]
  },
  {
   "cell_type": "code",
   "execution_count": 29,
   "id": "a5d757e4",
   "metadata": {},
   "outputs": [],
   "source": [
    "arr14=np.linspace(12,38,10)"
   ]
  },
  {
   "cell_type": "code",
   "execution_count": 30,
   "id": "c81ee999",
   "metadata": {},
   "outputs": [
    {
     "data": {
      "text/plain": [
       "array([12.        , 14.88888889, 17.77777778, 20.66666667, 23.55555556,\n",
       "       26.44444444, 29.33333333, 32.22222222, 35.11111111, 38.        ])"
      ]
     },
     "execution_count": 30,
     "metadata": {},
     "output_type": "execute_result"
    }
   ],
   "source": [
    "arr14"
   ]
  },
  {
   "cell_type": "markdown",
   "id": "51661c11",
   "metadata": {},
   "source": [
    "###### 11.Convert an array to a float type\n"
   ]
  },
  {
   "cell_type": "code",
   "execution_count": 31,
   "id": "0712a99b",
   "metadata": {},
   "outputs": [],
   "source": [
    "arr15=np.array([1,2,3,4,5])"
   ]
  },
  {
   "cell_type": "code",
   "execution_count": 32,
   "id": "ae4329b9",
   "metadata": {},
   "outputs": [],
   "source": [
    "arr16 = np.asfarray(arr15)"
   ]
  },
  {
   "cell_type": "code",
   "execution_count": 33,
   "id": "723313a6",
   "metadata": {},
   "outputs": [
    {
     "data": {
      "text/plain": [
       "array([1., 2., 3., 4., 5.])"
      ]
     },
     "execution_count": 33,
     "metadata": {},
     "output_type": "execute_result"
    }
   ],
   "source": [
    "arr16"
   ]
  },
  {
   "cell_type": "markdown",
   "id": "23ed9c7e",
   "metadata": {},
   "source": [
    "###### 12. Convert the values of Centigrade degrees into Fahrenheit degrees Centigrade values are stored into a NumPy array.\n"
   ]
  },
  {
   "cell_type": "code",
   "execution_count": 34,
   "id": "3dafe637",
   "metadata": {},
   "outputs": [
    {
     "name": "stdout",
     "output_type": "stream",
     "text": [
      "[-17.78 -11.11   7.34   1.11  37.73   0.  ]\n"
     ]
    }
   ],
   "source": [
    "F=np.array([0, 12, 45.21, 34, 99.91, 32])\n",
    "print(np.round((5*F/9 - 5*32/9),2))"
   ]
  },
  {
   "cell_type": "markdown",
   "id": "09387864",
   "metadata": {},
   "source": [
    "###### 13.Find the indices of the maximum and minimum values along the given axis of an array."
   ]
  },
  {
   "cell_type": "code",
   "execution_count": 35,
   "id": "c6227d77",
   "metadata": {},
   "outputs": [],
   "source": [
    "arr17=np.array([5,7,3,15])"
   ]
  },
  {
   "cell_type": "code",
   "execution_count": 36,
   "id": "51a52b0e",
   "metadata": {},
   "outputs": [
    {
     "data": {
      "text/plain": [
       "15"
      ]
     },
     "execution_count": 36,
     "metadata": {},
     "output_type": "execute_result"
    }
   ],
   "source": [
    "np.max(arr17) "
   ]
  },
  {
   "cell_type": "code",
   "execution_count": 37,
   "id": "4fbcf070",
   "metadata": {},
   "outputs": [
    {
     "data": {
      "text/plain": [
       "3"
      ]
     },
     "execution_count": 37,
     "metadata": {},
     "output_type": "execute_result"
    }
   ],
   "source": [
    "np.min(arr17)"
   ]
  },
  {
   "cell_type": "markdown",
   "id": "eae7e13a",
   "metadata": {},
   "source": [
    "###### 14.Program compare two given arrays."
   ]
  },
  {
   "cell_type": "code",
   "execution_count": 38,
   "id": "adbeddcf",
   "metadata": {},
   "outputs": [],
   "source": [
    "arr18 = np.array([3, 7])\n",
    "arr19 = np.array([5, 9])"
   ]
  },
  {
   "cell_type": "code",
   "execution_count": 39,
   "id": "eb2acf7c",
   "metadata": {},
   "outputs": [
    {
     "name": "stdout",
     "output_type": "stream",
     "text": [
      "[False False]\n",
      "[False False]\n",
      "[ True  True]\n",
      "[ True  True]\n"
     ]
    }
   ],
   "source": [
    "print(np.greater(arr18, arr19))\n",
    "print(np.greater_equal(arr18, arr19))\n",
    "print(np.less(arr18, arr19))\n",
    "print(np.less_equal(arr18, arr19))"
   ]
  },
  {
   "cell_type": "markdown",
   "id": "c20bdef6",
   "metadata": {},
   "source": [
    "###### 15.Program to create an array of ones and an array of zeros.\n",
    "\n"
   ]
  },
  {
   "cell_type": "code",
   "execution_count": 40,
   "id": "b0f80053",
   "metadata": {},
   "outputs": [],
   "source": [
    "arr20=np.linspace(0,0,10)\n",
    "arr21=np.linspace(1,1,10)"
   ]
  },
  {
   "cell_type": "code",
   "execution_count": 41,
   "id": "69da43fd",
   "metadata": {},
   "outputs": [
    {
     "data": {
      "text/plain": [
       "array([0., 0., 0., 0., 0., 0., 0., 0., 0., 0.])"
      ]
     },
     "execution_count": 41,
     "metadata": {},
     "output_type": "execute_result"
    }
   ],
   "source": [
    "arr20"
   ]
  },
  {
   "cell_type": "code",
   "execution_count": 42,
   "id": "310937f1",
   "metadata": {},
   "outputs": [
    {
     "data": {
      "text/plain": [
       "array([1., 1., 1., 1., 1., 1., 1., 1., 1., 1.])"
      ]
     },
     "execution_count": 42,
     "metadata": {},
     "output_type": "execute_result"
    }
   ],
   "source": [
    "arr21"
   ]
  },
  {
   "cell_type": "markdown",
   "id": "ae513241",
   "metadata": {},
   "source": [
    "# Pandas"
   ]
  },
  {
   "cell_type": "markdown",
   "id": "5dd50afa",
   "metadata": {},
   "source": [
    "##### 1.Create a dataframe using dictionaries, list of tuples, list of dictionaries"
   ]
  },
  {
   "cell_type": "code",
   "execution_count": 43,
   "id": "b4e54ad3",
   "metadata": {},
   "outputs": [],
   "source": [
    "import pandas as pd"
   ]
  },
  {
   "cell_type": "code",
   "execution_count": 44,
   "id": "f6e7e45d",
   "metadata": {},
   "outputs": [],
   "source": [
    "data={\"Name\":['Utsav','Harsh','Ranit','Sayanti'],\n",
    "     \"Age\":[24,23,22,21],\n",
    "     \"Score\":[79,80,81,82],\n",
    "     \"Town\":['Diamond','Uttarpara','Saltlake','Dumdum']}"
   ]
  },
  {
   "cell_type": "code",
   "execution_count": 45,
   "id": "93dd2a37",
   "metadata": {},
   "outputs": [],
   "source": [
    "df=pd.DataFrame(data)"
   ]
  },
  {
   "cell_type": "code",
   "execution_count": 46,
   "id": "f516fa42",
   "metadata": {},
   "outputs": [
    {
     "data": {
      "text/html": [
       "<div>\n",
       "<style scoped>\n",
       "    .dataframe tbody tr th:only-of-type {\n",
       "        vertical-align: middle;\n",
       "    }\n",
       "\n",
       "    .dataframe tbody tr th {\n",
       "        vertical-align: top;\n",
       "    }\n",
       "\n",
       "    .dataframe thead th {\n",
       "        text-align: right;\n",
       "    }\n",
       "</style>\n",
       "<table border=\"1\" class=\"dataframe\">\n",
       "  <thead>\n",
       "    <tr style=\"text-align: right;\">\n",
       "      <th></th>\n",
       "      <th>Name</th>\n",
       "      <th>Age</th>\n",
       "      <th>Score</th>\n",
       "      <th>Town</th>\n",
       "    </tr>\n",
       "  </thead>\n",
       "  <tbody>\n",
       "    <tr>\n",
       "      <th>0</th>\n",
       "      <td>Utsav</td>\n",
       "      <td>24</td>\n",
       "      <td>79</td>\n",
       "      <td>Diamond</td>\n",
       "    </tr>\n",
       "    <tr>\n",
       "      <th>1</th>\n",
       "      <td>Harsh</td>\n",
       "      <td>23</td>\n",
       "      <td>80</td>\n",
       "      <td>Uttarpara</td>\n",
       "    </tr>\n",
       "    <tr>\n",
       "      <th>2</th>\n",
       "      <td>Ranit</td>\n",
       "      <td>22</td>\n",
       "      <td>81</td>\n",
       "      <td>Saltlake</td>\n",
       "    </tr>\n",
       "    <tr>\n",
       "      <th>3</th>\n",
       "      <td>Sayanti</td>\n",
       "      <td>21</td>\n",
       "      <td>82</td>\n",
       "      <td>Dumdum</td>\n",
       "    </tr>\n",
       "  </tbody>\n",
       "</table>\n",
       "</div>"
      ],
      "text/plain": [
       "      Name  Age  Score       Town\n",
       "0    Utsav   24     79    Diamond\n",
       "1    Harsh   23     80  Uttarpara\n",
       "2    Ranit   22     81   Saltlake\n",
       "3  Sayanti   21     82     Dumdum"
      ]
     },
     "execution_count": 46,
     "metadata": {},
     "output_type": "execute_result"
    }
   ],
   "source": [
    "df.head()"
   ]
  },
  {
   "cell_type": "markdown",
   "id": "6d453935",
   "metadata": {},
   "source": [
    "##### 2.Create a dataframe from reading a csv file(this csv can be created by you)."
   ]
  },
  {
   "cell_type": "code",
   "execution_count": 47,
   "id": "37c2768c",
   "metadata": {},
   "outputs": [
    {
     "data": {
      "text/html": [
       "<div>\n",
       "<style scoped>\n",
       "    .dataframe tbody tr th:only-of-type {\n",
       "        vertical-align: middle;\n",
       "    }\n",
       "\n",
       "    .dataframe tbody tr th {\n",
       "        vertical-align: top;\n",
       "    }\n",
       "\n",
       "    .dataframe thead th {\n",
       "        text-align: right;\n",
       "    }\n",
       "</style>\n",
       "<table border=\"1\" class=\"dataframe\">\n",
       "  <thead>\n",
       "    <tr style=\"text-align: right;\">\n",
       "      <th></th>\n",
       "      <th>Name</th>\n",
       "      <th>Age</th>\n",
       "      <th>Score</th>\n",
       "      <th>Town</th>\n",
       "    </tr>\n",
       "  </thead>\n",
       "  <tbody>\n",
       "    <tr>\n",
       "      <th>0</th>\n",
       "      <td>Utsav</td>\n",
       "      <td>24</td>\n",
       "      <td>79</td>\n",
       "      <td>Diamond</td>\n",
       "    </tr>\n",
       "    <tr>\n",
       "      <th>1</th>\n",
       "      <td>Harsh</td>\n",
       "      <td>23</td>\n",
       "      <td>80</td>\n",
       "      <td>Uttarpara</td>\n",
       "    </tr>\n",
       "    <tr>\n",
       "      <th>2</th>\n",
       "      <td>Ranit</td>\n",
       "      <td>22</td>\n",
       "      <td>81</td>\n",
       "      <td>Saltlake</td>\n",
       "    </tr>\n",
       "    <tr>\n",
       "      <th>3</th>\n",
       "      <td>Sayanti</td>\n",
       "      <td>21</td>\n",
       "      <td>82</td>\n",
       "      <td>Dumdum</td>\n",
       "    </tr>\n",
       "  </tbody>\n",
       "</table>\n",
       "</div>"
      ],
      "text/plain": [
       "      Name  Age  Score       Town\n",
       "0    Utsav   24     79    Diamond\n",
       "1    Harsh   23     80  Uttarpara\n",
       "2    Ranit   22     81   Saltlake\n",
       "3  Sayanti   21     82     Dumdum"
      ]
     },
     "execution_count": 47,
     "metadata": {},
     "output_type": "execute_result"
    }
   ],
   "source": [
    "df"
   ]
  },
  {
   "cell_type": "code",
   "execution_count": 48,
   "id": "17a90e2a",
   "metadata": {},
   "outputs": [],
   "source": [
    "df.to_csv('data.csv')"
   ]
  },
  {
   "cell_type": "code",
   "execution_count": 49,
   "id": "54fdc543",
   "metadata": {},
   "outputs": [],
   "source": [
    "abc=pd.read_csv('data.csv')"
   ]
  },
  {
   "cell_type": "code",
   "execution_count": 50,
   "id": "a4b0b0a7",
   "metadata": {},
   "outputs": [
    {
     "data": {
      "text/html": [
       "<div>\n",
       "<style scoped>\n",
       "    .dataframe tbody tr th:only-of-type {\n",
       "        vertical-align: middle;\n",
       "    }\n",
       "\n",
       "    .dataframe tbody tr th {\n",
       "        vertical-align: top;\n",
       "    }\n",
       "\n",
       "    .dataframe thead th {\n",
       "        text-align: right;\n",
       "    }\n",
       "</style>\n",
       "<table border=\"1\" class=\"dataframe\">\n",
       "  <thead>\n",
       "    <tr style=\"text-align: right;\">\n",
       "      <th></th>\n",
       "      <th>Unnamed: 0</th>\n",
       "      <th>Name</th>\n",
       "      <th>Age</th>\n",
       "      <th>Score</th>\n",
       "      <th>Town</th>\n",
       "    </tr>\n",
       "  </thead>\n",
       "  <tbody>\n",
       "    <tr>\n",
       "      <th>0</th>\n",
       "      <td>0</td>\n",
       "      <td>Utsav</td>\n",
       "      <td>24</td>\n",
       "      <td>79</td>\n",
       "      <td>Diamond</td>\n",
       "    </tr>\n",
       "    <tr>\n",
       "      <th>1</th>\n",
       "      <td>1</td>\n",
       "      <td>Harsh</td>\n",
       "      <td>23</td>\n",
       "      <td>80</td>\n",
       "      <td>Uttarpara</td>\n",
       "    </tr>\n",
       "    <tr>\n",
       "      <th>2</th>\n",
       "      <td>2</td>\n",
       "      <td>Ranit</td>\n",
       "      <td>22</td>\n",
       "      <td>81</td>\n",
       "      <td>Saltlake</td>\n",
       "    </tr>\n",
       "    <tr>\n",
       "      <th>3</th>\n",
       "      <td>3</td>\n",
       "      <td>Sayanti</td>\n",
       "      <td>21</td>\n",
       "      <td>82</td>\n",
       "      <td>Dumdum</td>\n",
       "    </tr>\n",
       "  </tbody>\n",
       "</table>\n",
       "</div>"
      ],
      "text/plain": [
       "   Unnamed: 0     Name  Age  Score       Town\n",
       "0           0    Utsav   24     79    Diamond\n",
       "1           1    Harsh   23     80  Uttarpara\n",
       "2           2    Ranit   22     81   Saltlake\n",
       "3           3  Sayanti   21     82     Dumdum"
      ]
     },
     "execution_count": 50,
     "metadata": {},
     "output_type": "execute_result"
    }
   ],
   "source": [
    "abc"
   ]
  },
  {
   "cell_type": "code",
   "execution_count": 51,
   "id": "8275bc49",
   "metadata": {},
   "outputs": [
    {
     "data": {
      "text/html": [
       "<div>\n",
       "<style scoped>\n",
       "    .dataframe tbody tr th:only-of-type {\n",
       "        vertical-align: middle;\n",
       "    }\n",
       "\n",
       "    .dataframe tbody tr th {\n",
       "        vertical-align: top;\n",
       "    }\n",
       "\n",
       "    .dataframe thead th {\n",
       "        text-align: right;\n",
       "    }\n",
       "</style>\n",
       "<table border=\"1\" class=\"dataframe\">\n",
       "  <thead>\n",
       "    <tr style=\"text-align: right;\">\n",
       "      <th></th>\n",
       "      <th>Unnamed: 0</th>\n",
       "      <th>Name</th>\n",
       "      <th>Age</th>\n",
       "      <th>Score</th>\n",
       "      <th>Town</th>\n",
       "    </tr>\n",
       "  </thead>\n",
       "  <tbody>\n",
       "    <tr>\n",
       "      <th>0</th>\n",
       "      <td>0</td>\n",
       "      <td>Utsav</td>\n",
       "      <td>24</td>\n",
       "      <td>79</td>\n",
       "      <td>Diamond</td>\n",
       "    </tr>\n",
       "    <tr>\n",
       "      <th>1</th>\n",
       "      <td>1</td>\n",
       "      <td>Harsh</td>\n",
       "      <td>23</td>\n",
       "      <td>80</td>\n",
       "      <td>Uttarpara</td>\n",
       "    </tr>\n",
       "    <tr>\n",
       "      <th>2</th>\n",
       "      <td>2</td>\n",
       "      <td>Ranit</td>\n",
       "      <td>22</td>\n",
       "      <td>81</td>\n",
       "      <td>Saltlake</td>\n",
       "    </tr>\n",
       "    <tr>\n",
       "      <th>3</th>\n",
       "      <td>3</td>\n",
       "      <td>Sayanti</td>\n",
       "      <td>21</td>\n",
       "      <td>82</td>\n",
       "      <td>Dumdum</td>\n",
       "    </tr>\n",
       "  </tbody>\n",
       "</table>\n",
       "</div>"
      ],
      "text/plain": [
       "   Unnamed: 0     Name  Age  Score       Town\n",
       "0           0    Utsav   24     79    Diamond\n",
       "1           1    Harsh   23     80  Uttarpara\n",
       "2           2    Ranit   22     81   Saltlake\n",
       "3           3  Sayanti   21     82     Dumdum"
      ]
     },
     "execution_count": 51,
     "metadata": {},
     "output_type": "execute_result"
    }
   ],
   "source": [
    "abc.to_csv('data_false_index.csv',index=False)\n",
    "abc"
   ]
  },
  {
   "cell_type": "markdown",
   "id": "1eb04970",
   "metadata": {},
   "source": [
    "##### 3.Create a dataframe from reading an excel file."
   ]
  },
  {
   "cell_type": "code",
   "execution_count": 52,
   "id": "c90f6204",
   "metadata": {},
   "outputs": [
    {
     "data": {
      "text/html": [
       "<div>\n",
       "<style scoped>\n",
       "    .dataframe tbody tr th:only-of-type {\n",
       "        vertical-align: middle;\n",
       "    }\n",
       "\n",
       "    .dataframe tbody tr th {\n",
       "        vertical-align: top;\n",
       "    }\n",
       "\n",
       "    .dataframe thead th {\n",
       "        text-align: right;\n",
       "    }\n",
       "</style>\n",
       "<table border=\"1\" class=\"dataframe\">\n",
       "  <thead>\n",
       "    <tr style=\"text-align: right;\">\n",
       "      <th></th>\n",
       "      <th>Unnamed: 0</th>\n",
       "      <th>Name</th>\n",
       "      <th>Age</th>\n",
       "      <th>Score</th>\n",
       "      <th>Town</th>\n",
       "    </tr>\n",
       "  </thead>\n",
       "  <tbody>\n",
       "    <tr>\n",
       "      <th>0</th>\n",
       "      <td>0</td>\n",
       "      <td>Utsav</td>\n",
       "      <td>24</td>\n",
       "      <td>79</td>\n",
       "      <td>Diamond</td>\n",
       "    </tr>\n",
       "    <tr>\n",
       "      <th>1</th>\n",
       "      <td>1</td>\n",
       "      <td>Harsh</td>\n",
       "      <td>23</td>\n",
       "      <td>80</td>\n",
       "      <td>Uttarpara</td>\n",
       "    </tr>\n",
       "    <tr>\n",
       "      <th>2</th>\n",
       "      <td>2</td>\n",
       "      <td>Ranit</td>\n",
       "      <td>22</td>\n",
       "      <td>81</td>\n",
       "      <td>Saltlake</td>\n",
       "    </tr>\n",
       "    <tr>\n",
       "      <th>3</th>\n",
       "      <td>3</td>\n",
       "      <td>Sayanti</td>\n",
       "      <td>21</td>\n",
       "      <td>82</td>\n",
       "      <td>Dumdum</td>\n",
       "    </tr>\n",
       "  </tbody>\n",
       "</table>\n",
       "</div>"
      ],
      "text/plain": [
       "   Unnamed: 0     Name  Age  Score       Town\n",
       "0           0    Utsav   24     79    Diamond\n",
       "1           1    Harsh   23     80  Uttarpara\n",
       "2           2    Ranit   22     81   Saltlake\n",
       "3           3  Sayanti   21     82     Dumdum"
      ]
     },
     "execution_count": 52,
     "metadata": {},
     "output_type": "execute_result"
    }
   ],
   "source": [
    "df=pd.read_csv('data.csv')\n",
    "df"
   ]
  },
  {
   "cell_type": "code",
   "execution_count": 53,
   "id": "bd2228c2",
   "metadata": {},
   "outputs": [
    {
     "data": {
      "text/html": [
       "<div>\n",
       "<style scoped>\n",
       "    .dataframe tbody tr th:only-of-type {\n",
       "        vertical-align: middle;\n",
       "    }\n",
       "\n",
       "    .dataframe tbody tr th {\n",
       "        vertical-align: top;\n",
       "    }\n",
       "\n",
       "    .dataframe thead th {\n",
       "        text-align: right;\n",
       "    }\n",
       "</style>\n",
       "<table border=\"1\" class=\"dataframe\">\n",
       "  <thead>\n",
       "    <tr style=\"text-align: right;\">\n",
       "      <th></th>\n",
       "      <th>Name</th>\n",
       "      <th>Age</th>\n",
       "      <th>Score</th>\n",
       "      <th>Town</th>\n",
       "    </tr>\n",
       "  </thead>\n",
       "  <tbody>\n",
       "    <tr>\n",
       "      <th>0</th>\n",
       "      <td>Utsav</td>\n",
       "      <td>24</td>\n",
       "      <td>79</td>\n",
       "      <td>Diamond</td>\n",
       "    </tr>\n",
       "    <tr>\n",
       "      <th>1</th>\n",
       "      <td>Harsh</td>\n",
       "      <td>23</td>\n",
       "      <td>80</td>\n",
       "      <td>Uttarpara</td>\n",
       "    </tr>\n",
       "    <tr>\n",
       "      <th>2</th>\n",
       "      <td>Ranit</td>\n",
       "      <td>22</td>\n",
       "      <td>81</td>\n",
       "      <td>Saltlake</td>\n",
       "    </tr>\n",
       "    <tr>\n",
       "      <th>3</th>\n",
       "      <td>Sayanti</td>\n",
       "      <td>21</td>\n",
       "      <td>82</td>\n",
       "      <td>Dumdum</td>\n",
       "    </tr>\n",
       "  </tbody>\n",
       "</table>\n",
       "</div>"
      ],
      "text/plain": [
       "      Name  Age  Score       Town\n",
       "0    Utsav   24     79    Diamond\n",
       "1    Harsh   23     80  Uttarpara\n",
       "2    Ranit   22     81   Saltlake\n",
       "3  Sayanti   21     82     Dumdum"
      ]
     },
     "execution_count": 53,
     "metadata": {},
     "output_type": "execute_result"
    }
   ],
   "source": [
    "df2=pd.DataFrame(data)\n",
    "df2"
   ]
  },
  {
   "cell_type": "markdown",
   "id": "51460d27",
   "metadata": {},
   "source": [
    "##### 4.Perform a writing dataframe function in a csv.\n"
   ]
  },
  {
   "cell_type": "code",
   "execution_count": 54,
   "id": "e5808ed2",
   "metadata": {},
   "outputs": [
    {
     "data": {
      "text/html": [
       "<div>\n",
       "<style scoped>\n",
       "    .dataframe tbody tr th:only-of-type {\n",
       "        vertical-align: middle;\n",
       "    }\n",
       "\n",
       "    .dataframe tbody tr th {\n",
       "        vertical-align: top;\n",
       "    }\n",
       "\n",
       "    .dataframe thead th {\n",
       "        text-align: right;\n",
       "    }\n",
       "</style>\n",
       "<table border=\"1\" class=\"dataframe\">\n",
       "  <thead>\n",
       "    <tr style=\"text-align: right;\">\n",
       "      <th></th>\n",
       "      <th>Name</th>\n",
       "      <th>Age</th>\n",
       "      <th>Score</th>\n",
       "      <th>Town</th>\n",
       "    </tr>\n",
       "  </thead>\n",
       "  <tbody>\n",
       "    <tr>\n",
       "      <th>0</th>\n",
       "      <td>Utsav</td>\n",
       "      <td>24</td>\n",
       "      <td>79</td>\n",
       "      <td>Diamond</td>\n",
       "    </tr>\n",
       "    <tr>\n",
       "      <th>1</th>\n",
       "      <td>Harsh</td>\n",
       "      <td>23</td>\n",
       "      <td>80</td>\n",
       "      <td>Uttarpara</td>\n",
       "    </tr>\n",
       "    <tr>\n",
       "      <th>2</th>\n",
       "      <td>Ranit</td>\n",
       "      <td>22</td>\n",
       "      <td>81</td>\n",
       "      <td>Saltlake</td>\n",
       "    </tr>\n",
       "    <tr>\n",
       "      <th>3</th>\n",
       "      <td>Sayanti</td>\n",
       "      <td>21</td>\n",
       "      <td>82</td>\n",
       "      <td>Dumdum</td>\n",
       "    </tr>\n",
       "  </tbody>\n",
       "</table>\n",
       "</div>"
      ],
      "text/plain": [
       "      Name  Age  Score       Town\n",
       "0    Utsav   24     79    Diamond\n",
       "1    Harsh   23     80  Uttarpara\n",
       "2    Ranit   22     81   Saltlake\n",
       "3  Sayanti   21     82     Dumdum"
      ]
     },
     "execution_count": 54,
     "metadata": {},
     "output_type": "execute_result"
    }
   ],
   "source": [
    "df = pd.DataFrame({\"Name\":['Utsav','Harsh','Ranit','Sayanti'],\n",
    "     \"Age\":[24,23,22,21],\n",
    "     \"Score\":[79,80,81,82],\n",
    "     \"Town\":['Diamond','Uttarpara','Saltlake','Dumdum']})\n",
    "df.to_csv(index=False)\n",
    "df"
   ]
  },
  {
   "cell_type": "code",
   "execution_count": 58,
   "id": "bde2072b",
   "metadata": {},
   "outputs": [],
   "source": [
    "df.to_csv('new.csv',index=False)"
   ]
  },
  {
   "cell_type": "markdown",
   "id": "dcb2c82d",
   "metadata": {},
   "source": [
    "##### 5.Perform a writing dataframe function in excel.\n"
   ]
  },
  {
   "cell_type": "code",
   "execution_count": null,
   "id": "ab988ba5",
   "metadata": {},
   "outputs": [],
   "source": [
    "df = pd.DataFrame({\"Name\":['Utsav','Harsh','Ranit','Sayanti'],\n",
    "     \"Age\":[24,23,22,21],\n",
    "     \"Score\":[79,80,81,82],\n",
    "     \"Town\":['Diamond','Uttarpara','Saltlake','Dumdum']})\n",
    "df.to_csv(index=False)\n",
    "df"
   ]
  },
  {
   "cell_type": "code",
   "execution_count": 59,
   "id": "3a4c287e",
   "metadata": {},
   "outputs": [],
   "source": [
    "df.to_excel('new.xlsx',sheet_name=\"stocks\")"
   ]
  },
  {
   "cell_type": "markdown",
   "id": "8d53a22d",
   "metadata": {},
   "source": [
    "##### Using a dataframe, set the index of the df to a column in the dataframe"
   ]
  },
  {
   "cell_type": "code",
   "execution_count": 60,
   "id": "089a8664",
   "metadata": {},
   "outputs": [
    {
     "data": {
      "text/html": [
       "<div>\n",
       "<style scoped>\n",
       "    .dataframe tbody tr th:only-of-type {\n",
       "        vertical-align: middle;\n",
       "    }\n",
       "\n",
       "    .dataframe tbody tr th {\n",
       "        vertical-align: top;\n",
       "    }\n",
       "\n",
       "    .dataframe thead th {\n",
       "        text-align: right;\n",
       "    }\n",
       "</style>\n",
       "<table border=\"1\" class=\"dataframe\">\n",
       "  <thead>\n",
       "    <tr style=\"text-align: right;\">\n",
       "      <th></th>\n",
       "      <th>Name</th>\n",
       "      <th>Age</th>\n",
       "      <th>Score</th>\n",
       "      <th>Town</th>\n",
       "    </tr>\n",
       "  </thead>\n",
       "  <tbody>\n",
       "    <tr>\n",
       "      <th>0</th>\n",
       "      <td>Utsav</td>\n",
       "      <td>24</td>\n",
       "      <td>79</td>\n",
       "      <td>Diamond</td>\n",
       "    </tr>\n",
       "    <tr>\n",
       "      <th>1</th>\n",
       "      <td>Harsh</td>\n",
       "      <td>23</td>\n",
       "      <td>80</td>\n",
       "      <td>Uttarpara</td>\n",
       "    </tr>\n",
       "    <tr>\n",
       "      <th>2</th>\n",
       "      <td>Ranit</td>\n",
       "      <td>22</td>\n",
       "      <td>81</td>\n",
       "      <td>Saltlake</td>\n",
       "    </tr>\n",
       "    <tr>\n",
       "      <th>3</th>\n",
       "      <td>Sayanti</td>\n",
       "      <td>21</td>\n",
       "      <td>82</td>\n",
       "      <td>Dumdum</td>\n",
       "    </tr>\n",
       "  </tbody>\n",
       "</table>\n",
       "</div>"
      ],
      "text/plain": [
       "      Name  Age  Score       Town\n",
       "0    Utsav   24     79    Diamond\n",
       "1    Harsh   23     80  Uttarpara\n",
       "2    Ranit   22     81   Saltlake\n",
       "3  Sayanti   21     82     Dumdum"
      ]
     },
     "execution_count": 60,
     "metadata": {},
     "output_type": "execute_result"
    }
   ],
   "source": [
    "df = pd.DataFrame({\"Name\":['Utsav','Harsh','Ranit','Sayanti'],\n",
    "     \"Age\":[24,23,22,21],\n",
    "     \"Score\":[79,80,81,82],\n",
    "     \"Town\":['Diamond','Uttarpara','Saltlake','Dumdum']})\n",
    "df.to_csv(index=False)\n",
    "df"
   ]
  },
  {
   "cell_type": "code",
   "execution_count": 62,
   "id": "9bb7e4f8",
   "metadata": {},
   "outputs": [
    {
     "data": {
      "text/html": [
       "<div>\n",
       "<style scoped>\n",
       "    .dataframe tbody tr th:only-of-type {\n",
       "        vertical-align: middle;\n",
       "    }\n",
       "\n",
       "    .dataframe tbody tr th {\n",
       "        vertical-align: top;\n",
       "    }\n",
       "\n",
       "    .dataframe thead th {\n",
       "        text-align: right;\n",
       "    }\n",
       "</style>\n",
       "<table border=\"1\" class=\"dataframe\">\n",
       "  <thead>\n",
       "    <tr style=\"text-align: right;\">\n",
       "      <th></th>\n",
       "      <th>Age</th>\n",
       "      <th>Score</th>\n",
       "      <th>Town</th>\n",
       "    </tr>\n",
       "    <tr>\n",
       "      <th>Name</th>\n",
       "      <th></th>\n",
       "      <th></th>\n",
       "      <th></th>\n",
       "    </tr>\n",
       "  </thead>\n",
       "  <tbody>\n",
       "    <tr>\n",
       "      <th>Utsav</th>\n",
       "      <td>24</td>\n",
       "      <td>79</td>\n",
       "      <td>Diamond</td>\n",
       "    </tr>\n",
       "    <tr>\n",
       "      <th>Harsh</th>\n",
       "      <td>23</td>\n",
       "      <td>80</td>\n",
       "      <td>Uttarpara</td>\n",
       "    </tr>\n",
       "    <tr>\n",
       "      <th>Ranit</th>\n",
       "      <td>22</td>\n",
       "      <td>81</td>\n",
       "      <td>Saltlake</td>\n",
       "    </tr>\n",
       "    <tr>\n",
       "      <th>Sayanti</th>\n",
       "      <td>21</td>\n",
       "      <td>82</td>\n",
       "      <td>Dumdum</td>\n",
       "    </tr>\n",
       "  </tbody>\n",
       "</table>\n",
       "</div>"
      ],
      "text/plain": [
       "         Age  Score       Town\n",
       "Name                          \n",
       "Utsav     24     79    Diamond\n",
       "Harsh     23     80  Uttarpara\n",
       "Ranit     22     81   Saltlake\n",
       "Sayanti   21     82     Dumdum"
      ]
     },
     "execution_count": 62,
     "metadata": {},
     "output_type": "execute_result"
    }
   ],
   "source": [
    "df.set_index('Name')"
   ]
  },
  {
   "cell_type": "markdown",
   "id": "16463a6a",
   "metadata": {},
   "source": [
    "##### 7.Reset the index to the original one"
   ]
  },
  {
   "cell_type": "code",
   "execution_count": 63,
   "id": "d2142ed8",
   "metadata": {},
   "outputs": [
    {
     "data": {
      "text/html": [
       "<div>\n",
       "<style scoped>\n",
       "    .dataframe tbody tr th:only-of-type {\n",
       "        vertical-align: middle;\n",
       "    }\n",
       "\n",
       "    .dataframe tbody tr th {\n",
       "        vertical-align: top;\n",
       "    }\n",
       "\n",
       "    .dataframe thead th {\n",
       "        text-align: right;\n",
       "    }\n",
       "</style>\n",
       "<table border=\"1\" class=\"dataframe\">\n",
       "  <thead>\n",
       "    <tr style=\"text-align: right;\">\n",
       "      <th></th>\n",
       "      <th>Name</th>\n",
       "      <th>Age</th>\n",
       "      <th>Score</th>\n",
       "      <th>Town</th>\n",
       "    </tr>\n",
       "  </thead>\n",
       "  <tbody>\n",
       "    <tr>\n",
       "      <th>0</th>\n",
       "      <td>Utsav</td>\n",
       "      <td>24</td>\n",
       "      <td>79</td>\n",
       "      <td>Diamond</td>\n",
       "    </tr>\n",
       "    <tr>\n",
       "      <th>1</th>\n",
       "      <td>Harsh</td>\n",
       "      <td>23</td>\n",
       "      <td>80</td>\n",
       "      <td>Uttarpara</td>\n",
       "    </tr>\n",
       "    <tr>\n",
       "      <th>2</th>\n",
       "      <td>Ranit</td>\n",
       "      <td>22</td>\n",
       "      <td>81</td>\n",
       "      <td>Saltlake</td>\n",
       "    </tr>\n",
       "    <tr>\n",
       "      <th>3</th>\n",
       "      <td>Sayanti</td>\n",
       "      <td>21</td>\n",
       "      <td>82</td>\n",
       "      <td>Dumdum</td>\n",
       "    </tr>\n",
       "  </tbody>\n",
       "</table>\n",
       "</div>"
      ],
      "text/plain": [
       "      Name  Age  Score       Town\n",
       "0    Utsav   24     79    Diamond\n",
       "1    Harsh   23     80  Uttarpara\n",
       "2    Ranit   22     81   Saltlake\n",
       "3  Sayanti   21     82     Dumdum"
      ]
     },
     "execution_count": 63,
     "metadata": {},
     "output_type": "execute_result"
    }
   ],
   "source": [
    "df.reindex()"
   ]
  },
  {
   "cell_type": "code",
   "execution_count": null,
   "id": "61fa81c3",
   "metadata": {},
   "outputs": [],
   "source": []
  }
 ],
 "metadata": {
  "kernelspec": {
   "display_name": "Python 3 (ipykernel)",
   "language": "python",
   "name": "python3"
  },
  "language_info": {
   "codemirror_mode": {
    "name": "ipython",
    "version": 3
   },
   "file_extension": ".py",
   "mimetype": "text/x-python",
   "name": "python",
   "nbconvert_exporter": "python",
   "pygments_lexer": "ipython3",
   "version": "3.9.12"
  }
 },
 "nbformat": 4,
 "nbformat_minor": 5
}
