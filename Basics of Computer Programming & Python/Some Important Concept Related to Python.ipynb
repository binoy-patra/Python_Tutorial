{
 "cells": [
  {
   "cell_type": "code",
   "execution_count": null,
   "id": "e136141b",
   "metadata": {},
   "outputs": [],
   "source": []
  },
  {
   "cell_type": "markdown",
   "id": "d8cfe4d5",
   "metadata": {},
   "source": [
    "### Static Software Vs Dynamic Software :\n",
    "\n",
    "Static software and dynamic software are two broad categories based on their behavior and user interactions.\n",
    "\n",
    "1. **Static Software** :\n",
    "   - Static software refers to applications or websites that provide fixed content and do not change based on user interactions.\n",
    "   - The content in static software remains the same for all users and is pre-defined by the developers.\n",
    "   - Users can only view the information but cannot actively interact or modify the content of static software.\n",
    "   - Examples:\n",
    "     - Calendars: A static calendar application shows fixed dates, events, and holidays. Users can only view the information but cannot add or edit events.\n",
    "     - Blogs: A static blog website displays articles and posts that are created by the author. Users can read the articles but cannot add comments or interact with the content.\n",
    "     - Clocks: A static clock application simply displays the current time and does not change unless the user manually refreshes the page.\n",
    "\n",
    "2. **Dynamic Software** :\n",
    "   - Dynamic software refers to applications or websites that provide interactive and real-time content based on user inputs and actions.\n",
    "   - The content in dynamic software changes dynamically based on user interactions and data from external sources.\n",
    "   - Users can actively interact with the content, perform actions, and see real-time updates based on their inputs.\n",
    "   - Examples:\n",
    "     - YouTube: A dynamic video streaming platform allows users to search, watch, upload, and interact with videos in real-time. The content changes based on user searches and preferences.\n",
    "     - Ola: A dynamic ride-hailing app lets users book cabs in real-time and provides live updates on cab locations and estimated arrival times.\n",
    "     - Zomato: A dynamic food delivery app allows users to search for restaurants, view menus, place orders, and track the status of their deliveries."
   ]
  },
  {
   "cell_type": "code",
   "execution_count": null,
   "id": "e848f310",
   "metadata": {},
   "outputs": [],
   "source": []
  },
  {
   "cell_type": "markdown",
   "id": "629b4506",
   "metadata": {},
   "source": [
    "### Why Python is called Interpreted, High-level, General-purpose, Dynamic Semanic progamming language?\n",
    "\n",
    "1. Python is called interpreted because it uses an interpreter to execute its code. The interpreter reads and executes the code line by line, translating each line into machine code or bytecode on the fly. This differs from compiled languages, where the entire code is translated into machine code before execution.\n",
    "\n",
    "2. Python is referred to as a high-level language because it provides abstractions that are closer to human-readable language and is designed to be more user-friendly. High-level languages abstract away many low-level details, making it easier for programmers to write code and focus on problem-solving.\n",
    "\n",
    "3. Python is considered a general-purpose programming language because it is not limited to specific domains or applications. It is versatile and can be used for various purposes, including web development, data analysis, artificial intelligence, machine learning, automation, and more.\n",
    "\n",
    "4. Python is known for its dynamic semantics because it allows changes to the data type of a variable during runtime. It does not require explicit type declarations, and variables can hold different types of data at different points in the program's execution. This flexibility makes Python code more concise and expressive, but it also requires careful attention to data types during development to avoid unexpected behavior."
   ]
  },
  {
   "cell_type": "code",
   "execution_count": 1,
   "id": "e4c0f37f",
   "metadata": {},
   "outputs": [
    {
     "name": "stdout",
     "output_type": "stream",
     "text": [
      "😀😆🤣\n",
      "😄🌍\n"
     ]
    }
   ],
   "source": [
    "# Example of Unicode String \n",
    "\n",
    "unicode = u\"\\U0001f600\\U0001F606\\U0001F923\"  \n",
    "print(unicode)\n",
    "\n",
    "emoji_text = \"😄🌍\"\n",
    "print(emoji_text)"
   ]
  },
  {
   "cell_type": "markdown",
   "id": "86a47995",
   "metadata": {},
   "source": [
    "### What are the difference between compiler and interpreater?\n",
    "\n",
    "#### Compiler:\n",
    "- A compiler is a software program that translates the entire source code of a program into machine code (or bytecode) before execution.\n",
    "- The compilation process consists of multiple stages, including lexical analysis, syntax analysis, semantic analysis, optimization, and code generation.\n",
    "- Once the compilation process is complete, the resulting machine code can be executed directly by the computer's processor.\n",
    "- Compilers produce executable files or libraries that can be run independently without the need for the original source code or the compiler itself.\n",
    "- Examples of compiled languages include **C, C++, Java (with the use of the Java Virtual Machine), and Go.**\n",
    "\n",
    "#### Interpreter:\n",
    "- An interpreter is a software program that directly executes the source code line by line without translating it into machine code beforehand.\n",
    "- The interpreter reads and interprets each line of code, executing it immediately.\n",
    "- Interpreters typically perform the parsing, lexical analysis, and execution of the code in a single step.\n",
    "- Interpreted languages often have a slower execution speed compared to compiled languages because the interpretation process occurs during runtime.\n",
    "- Examples of interpreted languages include **Python, JavaScript, Ruby, and PHP.**\n",
    "\n",
    "#### Key differences between compilers and interpreters include:\n",
    "\n",
    "1. **Execution:** Compilers convert the entire source code into machine code, while interpreters execute the source code line by line.\n",
    "\n",
    "2. **Speed:** Compiled code generally runs faster than interpreted code because the compilation process optimizes the code and eliminates the need for runtime interpretation.\n",
    "\n",
    "3. **Portability:** Interpreted code is generally more portable as it can be run on any system with the appropriate interpreter. Compiled code may require separate compilation for each target system.\n",
    "\n",
    "4. **Error Detection:** Compilers detect errors during the compilation process and provide detailed error messages. Interpreters typically detect errors during runtime and may stop execution upon encountering an error.\n",
    "\n",
    "5. **Development and Debugging:** Interpreted languages often offer features like interactive shells and runtime debugging, making them more suitable for rapid development and debugging.\n",
    "\n",
    "6. **Memory Usage:** Interpreters usually consume more memory as they need to keep the source code and the interpreter itself in memory during runtime."
   ]
  },
  {
   "cell_type": "code",
   "execution_count": null,
   "id": "d981be6f",
   "metadata": {},
   "outputs": [],
   "source": []
  },
  {
   "cell_type": "markdown",
   "id": "0c8321fd",
   "metadata": {},
   "source": [
    "## Packages and Library \n",
    "\n",
    "1. **Packages:**\n",
    "   A package is a way of organizing related modules (Python files) into a directory hierarchy. It contains a collection of modules and sub-packages that provide specific functionality. Packages are used to create a modular and organized structure for organizing code.\n",
    "\n",
    "   - Example: The `numpy` package is a popular package for scientific computing in Python. It provides a set of modules and functions for working with arrays, numerical operations, and mathematical functions.\n",
    "\n",
    "2. **Libraries:**\n",
    "   A library, in the context of programming, refers to a collection of pre-written code or modules that can be used to perform specific tasks or provide specific functionality. Libraries typically contain various functions, classes, and constants that can be imported and utilized in a program.\n",
    "\n",
    "   - Example: The `requests` library is a widely-used library for making HTTP requests in Python. It provides a set of functions and classes that simplify the process of sending HTTP requests and handling responses.\n",
    "\n",
    "**Difference between Packages and Libraries:**\n",
    "\n",
    "The main difference between packages and libraries lies in their structure and purpose:\n",
    "\n",
    "- A package is a way of organizing related modules and sub-packages into a directory hierarchy. It provides a mechanism for structuring and organizing code within a project. Packages often consist of multiple modules that work together to provide specific functionality.\n",
    "\n",
    "- A library, on the other hand, refers to a collection of pre-written code or modules that serve a specific purpose or provide specific functionality. Libraries can contain various functions, classes, and constants that can be imported and utilized in a program. They are often standalone and can be used independently of other code structures."
   ]
  },
  {
   "cell_type": "code",
   "execution_count": null,
   "id": "908538bb",
   "metadata": {},
   "outputs": [],
   "source": []
  },
  {
   "cell_type": "markdown",
   "id": "42f3a783",
   "metadata": {},
   "source": [
    "## Pip\n",
    "* `pip` is a package manager used in Python to install and manage software packages written in Python. \n",
    "* It stands for \"Pip Installs Packages\" and is the default package manager for Python.\n",
    "\n",
    "Here's how to use `pip`:\n",
    "\n",
    "1. **Installing Packages:**\n",
    "   To install a package from the Python Package Index (PyPI), open your command-line interface or terminal and use the following command:\n",
    "   ```\n",
    "   pip install package_name\n",
    "   ```\n",
    "   Replace `package_name` with the name of the package you want to install. For example, to install the popular NumPy package, use:\n",
    "   ```\n",
    "   pip install numpy\n",
    "   ```\n",
    "\n",
    "2. **Upgrading Packages:**\n",
    "   To upgrade an already installed package to the latest version, use the `--upgrade` flag:\n",
    "   ```\n",
    "   pip install --upgrade package_name\n",
    "   ```\n",
    "   For example, to upgrade NumPy, use:\n",
    "   ```\n",
    "   pip install --upgrade numpy\n",
    "   ```\n",
    "\n",
    "3. **Uninstalling Packages:**\n",
    "   To uninstall a package, use the `uninstall` command with the `pip` tool:\n",
    "   ```\n",
    "   pip uninstall package_name\n",
    "   ```\n",
    "   For example, to uninstall NumPy, use:\n",
    "   ```\n",
    "   pip uninstall numpy\n",
    "   ```\n",
    "\n",
    "4. **Requirements Files:**\n",
    "   You can create a `requirements.txt` file containing a list of package names and their versions. This file is often used to specify all the dependencies of a project. To install packages from a `requirements.txt` file, use:\n",
    "   ```\n",
    "   pip install -r requirements.txt\n",
    "   ```\n",
    "\n",
    "5. **Listing Installed Packages:**\n",
    "   To see a list of all installed packages along with their versions, use:\n",
    "   ```\n",
    "   pip list\n",
    "   ```\n",
    "\n",
    "6. **Searching for Packages:**\n",
    "   If you're looking for a package but are unsure of its exact name, you can search for it using:\n",
    "   ```\n",
    "   pip search package_name\n",
    "   ```\n",
    "\n",
    "7. **Specifying Package Versions:**\n",
    "   You can install a specific version of a package by appending the version number to the package name:\n",
    "   ```\n",
    "   pip install package_name==version_number\n",
    "   ```\n",
    "   For example, to install NumPy version 1.19.5, use:\n",
    "   ```\n",
    "   pip install numpy==1.19.5\n",
    "   ```\n",
    "\n",
    "** Keep in mind that some operating systems may require you to use `pip3` instead of `pip` if multiple Python versions are installed."
   ]
  },
  {
   "cell_type": "code",
   "execution_count": null,
   "id": "b285f18d",
   "metadata": {},
   "outputs": [],
   "source": []
  },
  {
   "cell_type": "markdown",
   "id": "5508167f",
   "metadata": {},
   "source": [
    "## PEP8\n",
    "\n",
    "* PEP 8 (Python Enhancement Proposal 8) is a style guide for writing Python code. \n",
    "* It provides guidelines and recommendations on how to format Python code to enhance readability and maintainability. \n",
    "* The term \"PEP 8\" refers to the eighth PEP document in the Python community, which specifically addresses the coding conventions for Python.\n",
    "\n",
    "PEP 8 covers various aspects of code style and formatting, including:\n",
    "1. **Indentation**: The use of four spaces for indentation is recommended to improve code readability.\n",
    "\n",
    "\n",
    "2. **Line Length**: Lines should ideally be limited to a maximum of 79 characters. For longer lines, it is recommended to break them into multiple lines.\n",
    "\n",
    "\n",
    "3. **Naming Conventions**: Consistent naming conventions should be followed for variables, functions, classes, and modules. For example, lowercase_with_underscores for variables, lowercase for functions and methods, and CapitalizedWords for classes.\n",
    "\n",
    "\n",
    "4. **Whitespace**: Proper use of whitespace, such as spaces around operators and after commas, enhances code readability. Blank lines should be used to separate logical sections of code.\n",
    "\n",
    "\n",
    "5. **Comments**: Comments should be used to explain the code's purpose, not the mechanics of how it works. Clear and concise comments are encouraged.\n",
    "\n",
    "\n",
    "6. **Imports**: Imports should be organized, with each import statement on a separate line. It is recommended to group imports into standard library imports, third-party imports, and local imports."
   ]
  },
  {
   "cell_type": "code",
   "execution_count": null,
   "id": "e627b5bc",
   "metadata": {},
   "outputs": [],
   "source": []
  },
  {
   "cell_type": "markdown",
   "id": "55f69465",
   "metadata": {},
   "source": [
    "### Static and Dynamic Typing\n",
    "\n",
    "**Static Typing Language**:\n",
    "1. In a static typing language, variable types are explicitly declared and determined at compile-time. Once a variable is declared with a specific data type, it cannot change during runtime.\n",
    "2. The type of each variable needs to be specified before using it, and the compiler checks for type compatibility during compilation.\n",
    "3. Errors related to type mismatches are caught at compile-time, which can help in detecting errors early in the development process.\n",
    "4. Examples of statically typed languages are C, C++, Java, and Swift.\n",
    "\n",
    "**Dynamic Typing Language**:\n",
    "1. In a dynamic typing language, variable types are determined at runtime based on the assigned value. Variables can hold values of any data type, and their types can change during program execution.\n",
    "2. The type of a variable is determined implicitly based on the value assigned to it, and there is no need to explicitly declare the data type.\n",
    "3. Errors related to type mismatches are detected at runtime, which can lead to more flexible coding and faster development in some cases.\n",
    "4. Examples of dynamically typed languages are Python, JavaScript, Ruby, and PHP.\n",
    "\n",
    "**Python is Dynamically Typed language.**"
   ]
  },
  {
   "cell_type": "code",
   "execution_count": null,
   "id": "834f025f",
   "metadata": {},
   "outputs": [],
   "source": []
  },
  {
   "cell_type": "markdown",
   "id": "d1940579",
   "metadata": {},
   "source": [
    "### Static and Dynamic Binding\n",
    "\n",
    "**Static Binding** :\n",
    "1. Static binding, also known as early binding, occurs during compile-time.\n",
    "2. The binding between a method call and the corresponding method implementation is determined at compile-time based on the declared type of the object.\n",
    "3. In statically typed languages, the compiler resolves method calls based on the type of the variable at compile-time.\n",
    "4. It offers performance advantages as the method resolution is done during compilation, reducing the overhead during runtime.\n",
    "\n",
    "**Dynamic Binding** :\n",
    "1. Dynamic binding, also known as late binding, occurs during runtime.\n",
    "2. The binding between a method call and the corresponding method implementation is determined at runtime based on the actual type of the object at runtime.\n",
    "3. In dynamically typed languages, the method resolution happens at runtime, allowing flexibility in method dispatch.\n",
    "4. It allows for polymorphism, where objects of different classes can respond to the same method call differently based on their actual types."
   ]
  },
  {
   "cell_type": "code",
   "execution_count": null,
   "id": "ffd75e77",
   "metadata": {},
   "outputs": [],
   "source": [
    "# Example of Dynamically binding\n",
    "\n",
    "a= 6\n",
    "print(a)\n",
    "\n",
    "a= 'Binoy'\n",
    "print(a)"
   ]
  },
  {
   "cell_type": "code",
   "execution_count": null,
   "id": "10cc074d",
   "metadata": {},
   "outputs": [],
   "source": []
  },
  {
   "cell_type": "code",
   "execution_count": null,
   "id": "a438193a",
   "metadata": {},
   "outputs": [],
   "source": [
    "# Local and Global Variable"
   ]
  },
  {
   "cell_type": "markdown",
   "id": "492a5cd5",
   "metadata": {},
   "source": [
    "### Code snipet\n",
    "\n",
    "* A code snippet, also known as a code fragment or code example, is a small and self-contained piece of code that demonstrates or illustrates a specific programming concept, algorithm, or solution to a problem. It is typically shorter and focused on a specific task, making it easier to understand and use in isolation.\n",
    "\n",
    "* Code snippets are commonly used for various purposes, such as:\n",
    "\n",
    "1. Providing examples in documentation and tutorials to explain how to use a particular function or feature in a programming language or library.\n",
    "2. Sharing solutions to common coding problems or tasks with other developers in forums, blogs, or Q&A sites.\n",
    "3. Testing and debugging small portions of code before integrating them into a larger project.\n",
    "4. Improving code readability and maintainability by breaking complex logic into smaller, more manageable pieces.\n",
    "5. Reusing code in multiple parts of a project without duplicating it."
   ]
  },
  {
   "cell_type": "code",
   "execution_count": null,
   "id": "9fcc0cd4",
   "metadata": {},
   "outputs": [],
   "source": []
  },
  {
   "cell_type": "markdown",
   "id": "9bfafa33",
   "metadata": {},
   "source": [
    "### what is Indentation in python?\n",
    "\n",
    "* In Python, indentation refers to the spaces or tabs used at the beginning of a line to define the block of code. \n",
    "* Unlike many other programming languages that use braces or brackets to delimit blocks, Python uses indentation to indicate the grouping of statements.\n",
    "* Indentation is a fundamental aspect of Python's syntax and plays a crucial role in defining the scope and hierarchy of code blocks, such as loops, conditionals, and functions. It helps to make the code visually structured and readable.\n",
    "\n",
    "For example, consider a simple Python function that calculates the factorial of a number:\n",
    "\n",
    "```python\n",
    "def factorial(n):\n",
    "    result = 1\n",
    "    for i in range(1, n+1):\n",
    "        result *= i\n",
    "    return result\n",
    "```\n",
    "\n",
    "In the above code, the lines of the function are indented by four spaces, creating a visual structure that groups the statements inside the function. The `for` loop and the `return` statement are indented to show that they are part of the function block.\n",
    "\n",
    "* Proper indentation is essential in Python, and incorrect indentation can lead to syntax errors or logical issues in the code."
   ]
  },
  {
   "cell_type": "code",
   "execution_count": null,
   "id": "abf539c7",
   "metadata": {},
   "outputs": [],
   "source": []
  },
  {
   "cell_type": "markdown",
   "id": "b082988f",
   "metadata": {},
   "source": [
    "## literals \n",
    "\n",
    "* In Python, a literal is a notation used to represent a fixed value directly in the source code.\n",
    "* It is a specific value that has a predetermined meaning and does not need any additional computation or evaluation to represent that value.\n",
    "* For example, numeric literals like integers, floats, and complex numbers, string literals, Boolean literals (`True` and `False`), and special literals like `None` are all examples of literals in Python."
   ]
  },
  {
   "cell_type": "code",
   "execution_count": 1,
   "id": "891a60a4",
   "metadata": {},
   "outputs": [
    {
     "name": "stdout",
     "output_type": "stream",
     "text": [
      "😀😆🤣\n"
     ]
    }
   ],
   "source": [
    "# Example of Literals \n",
    "\n",
    "num = 10                # 10: This is a numeric literal, specifically an integer literal.\n",
    "\n",
    "name= 'Binoy Patra'    # 'Binoy Patra': This is a string literal, represented within single quotes.\n",
    "\n",
    "# Both num and name are variable. '=' is an operator. "
   ]
  },
  {
   "cell_type": "code",
   "execution_count": null,
   "id": "ac4a0c65",
   "metadata": {},
   "outputs": [],
   "source": []
  },
  {
   "cell_type": "code",
   "execution_count": null,
   "id": "c80d468f",
   "metadata": {},
   "outputs": [],
   "source": [
    "# python is single thread or multi thread"
   ]
  },
  {
   "cell_type": "code",
   "execution_count": null,
   "id": "1c5dbc20",
   "metadata": {},
   "outputs": [],
   "source": []
  },
  {
   "cell_type": "markdown",
   "id": "507f2bcc",
   "metadata": {},
   "source": [
    "### Referential Array\n",
    "\n",
    "* A referential array, also known as an array of references or pointer array, is a data structure that stores references (or memory addresses) to other objects rather than storing the actual objects directly. \n",
    "* In other words, it is an array where each element holds a reference to an object located elsewhere in memory.\n",
    "\n",
    "* In programming, references are used to indirectly access or point to data stored at a specific memory location. This allows data to be efficiently accessed and manipulated without the need to copy the entire object.\n",
    "\n",
    "* In the context of Python, lists and arrays are examples of referential arrays. When a list is created, it stores references to the elements (objects) it contains. If the elements are mutable objects (e.g., lists, dictionaries), modifying the elements inside the list will affect the original objects as well, since they are the same objects referred to by the list."
   ]
  },
  {
   "cell_type": "code",
   "execution_count": null,
   "id": "24269a55",
   "metadata": {},
   "outputs": [],
   "source": [
    "# Here's a simple example in Python:\n",
    "\n",
    "# Creating a list of integers\n",
    "numbers = [1, 2, 3, 4, 5]\n",
    "\n",
    "# Creating a new list 'other_numbers' that references the same elements as 'numbers'\n",
    "other_numbers = numbers\n",
    "\n",
    "# Modifying an element in 'other_numbers'\n",
    "other_numbers[0] = 10\n",
    "\n",
    "# Since 'other_numbers' and 'numbers' refer to the same list, 'numbers' is also modified\n",
    "print(numbers)      # Output: [10, 2, 3, 4, 5]\n",
    "print(other_numbers) # Output: [10, 2, 3, 4, 5]"
   ]
  },
  {
   "cell_type": "markdown",
   "id": "8d9a9843",
   "metadata": {},
   "source": [
    "In this example,     \n",
    "`numbers` and `other_numbers` refer to the same list in memory. When we modify an element in `other_numbers`, the same change is reflected in `numbers` as well, demonstrating the concept of referential arrays in Python."
   ]
  },
  {
   "cell_type": "code",
   "execution_count": null,
   "id": "7dbb3a58",
   "metadata": {},
   "outputs": [],
   "source": []
  },
  {
   "cell_type": "code",
   "execution_count": null,
   "id": "735db658",
   "metadata": {},
   "outputs": [],
   "source": [
    "# diff bw reverse, sort, sorted in list"
   ]
  },
  {
   "cell_type": "code",
   "execution_count": null,
   "id": "6d2ae27f",
   "metadata": {},
   "outputs": [],
   "source": []
  },
  {
   "cell_type": "markdown",
   "id": "f391360f",
   "metadata": {},
   "source": [
    "### local vs global variable :\n",
    "Local and global variables are two types of variables used in programming languages, including Python. They differ in terms of their scope and where they can be accessed within a program.\n",
    "\n",
    "1. Local Variables:\n",
    "   - Local variables are declared and defined inside a specific block or function in a program.\n",
    "   - They have a limited scope, meaning they can only be accessed within the block or function where they are defined.\n",
    "   - Local variables are created when the function is called and destroyed when the function returns, making their lifetime temporary.\n",
    "   - Since local variables are confined to their specific block or function, they do not interfere with variables of the same name in other parts of the program."
   ]
  },
  {
   "cell_type": "code",
   "execution_count": 2,
   "id": "e1379405",
   "metadata": {},
   "outputs": [
    {
     "name": "stdout",
     "output_type": "stream",
     "text": [
      "10\n"
     ]
    }
   ],
   "source": [
    "# Example:\n",
    "\n",
    "def example_function():\n",
    "    x = 10  # Local variable\n",
    "    print(x)  # Output: 10\n",
    "\n",
    "example_function()\n",
    "# print(x)  # Error: 'x' is not defined (x is not accessible outside the function)"
   ]
  },
  {
   "cell_type": "markdown",
   "id": "3075628b",
   "metadata": {},
   "source": [
    "2. Global Variables:\n",
    "   - Global variables are declared and defined outside any function or block in a program, typically at the top level.\n",
    "   - They have a global scope, meaning they can be accessed and used throughout the entire program, including inside functions.\n",
    "   - Global variables are created when the program starts and destroyed when the program ends, making their lifetime persistent throughout the program's execution.\n",
    "   - Modifying a global variable within a function requires the use of the `global` keyword to indicate that the variable is intended to be the global one and not a local variable with the same name."
   ]
  },
  {
   "cell_type": "code",
   "execution_count": 3,
   "id": "21c8dcc7",
   "metadata": {},
   "outputs": [
    {
     "name": "stdout",
     "output_type": "stream",
     "text": [
      "30\n",
      "30\n"
     ]
    }
   ],
   "source": [
    "#Example:\n",
    "\n",
    "y = 20  # Global variable\n",
    "\n",
    "def example_function():\n",
    "    global y  # Accessing the global variable 'y'\n",
    "    y = 30  # Modifying the global variable 'y' within the function\n",
    "    print(y)  # Output: 30\n",
    "\n",
    "example_function()\n",
    "print(y)  # Output: 30 (the global variable 'y' is modified)"
   ]
  },
  {
   "cell_type": "markdown",
   "id": "e508f6a8",
   "metadata": {},
   "source": [
    "* Local variables have a limited scope and exist only within the block or function where they are defined, while global variables have a broader scope and can be accessed and modified throughout the entire program. Understanding the scope of variables is crucial for writing clean and maintainable code."
   ]
  },
  {
   "cell_type": "code",
   "execution_count": null,
   "id": "89d466b1",
   "metadata": {},
   "outputs": [],
   "source": []
  }
 ],
 "metadata": {
  "kernelspec": {
   "display_name": "Python 3 (ipykernel)",
   "language": "python",
   "name": "python3"
  },
  "language_info": {
   "codemirror_mode": {
    "name": "ipython",
    "version": 3
   },
   "file_extension": ".py",
   "mimetype": "text/x-python",
   "name": "python",
   "nbconvert_exporter": "python",
   "pygments_lexer": "ipython3",
   "version": "3.9.12"
  }
 },
 "nbformat": 4,
 "nbformat_minor": 5
}
